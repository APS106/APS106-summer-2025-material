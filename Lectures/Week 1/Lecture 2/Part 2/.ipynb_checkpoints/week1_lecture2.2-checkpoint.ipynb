{
 "cells": [
  {
   "cell_type": "markdown",
   "metadata": {},
   "source": [
    "# APS106 - Fundamentals of Computer Programming\n",
    "## Writing Your Own Functions\n",
    "\n",
    "### Lecture Structure\n",
    "1. [Defining Your Own Functions](#section1)\n",
    "2. [Local Scope](#section2)\n",
    "3. [Global Scope](#section3)\n",
    "4. [Design Recipe](#section4)\n",
    "5. [Docstrings](#section5)\n",
    "6. [Breakout Session 1](#section6)\n",
    "7. [Nested Function Calls](#section7)\n",
    "8. [Calling Functions within Functions](#section8)\n",
    "9. [`print` v.s. `return`](#section9)"
   ]
  },
  {
   "cell_type": "markdown",
   "metadata": {},
   "source": [
    "<a id='section1'></a>\n",
    "## 1. Defining Your Own Functions\n",
    "\n",
    "#### So, why write a function?\n",
    "Imagine you need to repeatedly transform your data as follows: \n",
    "1. take the absolute value of a number\n",
    "2. round-up\n",
    "3. divide by 2\n",
    "4. round down.\n",
    "\n",
    "You can do this by chaining together functions."
   ]
  },
  {
   "cell_type": "code",
   "execution_count": null,
   "metadata": {},
   "outputs": [],
   "source": [
    "import math\n",
    "\n",
    "num = -4.2\n",
    "result = math.ceil(abs(num)) // 2\n",
    "print(result)"
   ]
  },
  {
   "cell_type": "markdown",
   "metadata": {},
   "source": [
    "This is OK but the code is: \n",
    "- a bit complicated\n",
    "- not very descriptive\n",
    "- introduce bugs especially if you repeat the code every time you need it. \n",
    "\n",
    "Since we have multiple applications for this transformation, we might want to create a function and give it a name. \n",
    "\n",
    "I am going to call it the **`ben transform`**."
   ]
  },
  {
   "cell_type": "code",
   "execution_count": null,
   "metadata": {},
   "outputs": [],
   "source": [
    "import math\n",
    "\n",
    "def ben_transform(num):\n",
    "    return int(math.ceil(abs(num)) / 2)"
   ]
  },
  {
   "cell_type": "markdown",
   "metadata": {},
   "source": [
    "Running the code above is just defining the function, not calling it. \n",
    "\n",
    "Below is where we call it."
   ]
  },
  {
   "cell_type": "code",
   "execution_count": null,
   "metadata": {},
   "outputs": [],
   "source": [
    "num = -4.2\n",
    "result = ben_transform(num)\n",
    "print(result)\n",
    "print(ben_transform(num))\n"
   ]
  },
  {
   "cell_type": "markdown",
   "metadata": {},
   "source": [
    "Easy to maintain and build on. \n",
    "\n",
    "Imagine if we copy and pasted `int(math.ceil(abs(num)) / 2)` 100 times throughout the program and then I determined that the optimal transform was actually `int(math.ceil(abs(num)) / 4)`? \n",
    "\n",
    "Its much easier to work with the function representation of the transform."
   ]
  },
  {
   "cell_type": "markdown",
   "metadata": {},
   "source": [
    "<a id='section2'></a>\n",
    "## 2. Local Scope\n",
    "Let's write a simple function."
   ]
  },
  {
   "cell_type": "code",
   "execution_count": null,
   "metadata": {},
   "outputs": [],
   "source": [
    "y = 10\n",
    "\n",
    "def myfunc():\n",
    "    y = 300\n",
    "    return None"
   ]
  },
  {
   "cell_type": "markdown",
   "metadata": {},
   "source": [
    "Now, let's evaluate that function."
   ]
  },
  {
   "cell_type": "code",
   "execution_count": null,
   "metadata": {},
   "outputs": [],
   "source": [
    "myfunc()"
   ]
  },
  {
   "cell_type": "markdown",
   "metadata": {},
   "source": [
    "Next, let's see if we can print the value `x`."
   ]
  },
  {
   "cell_type": "code",
   "execution_count": null,
   "metadata": {},
   "outputs": [],
   "source": [
    "print(y)"
   ]
  },
  {
   "cell_type": "markdown",
   "metadata": {},
   "source": [
    "Notice how we cannot access `x` outside of the function. This is because `x` was defined in the local function scope and is not accessible outside the function in the global scope, which is where we executed `print(x)` from."
   ]
  },
  {
   "cell_type": "markdown",
   "metadata": {},
   "source": [
    "The same is true for functions. Any function defined inside of a function is not accessible outside of that function."
   ]
  },
  {
   "cell_type": "code",
   "execution_count": null,
   "metadata": {},
   "outputs": [],
   "source": [
    "def myfunc():\n",
    "    \n",
    "    def myinnerfunc():\n",
    "        print('inside')\n",
    "        return None\n",
    "        \n",
    "    print(myinnerfunc())\n",
    "    \n",
    "    \n",
    "    #return None"
   ]
  },
  {
   "cell_type": "markdown",
   "metadata": {},
   "source": [
    "Let's call `myfunc`."
   ]
  },
  {
   "cell_type": "code",
   "execution_count": null,
   "metadata": {},
   "outputs": [],
   "source": [
    "output = myfunc()\n",
    "#print(output)"
   ]
  },
  {
   "cell_type": "markdown",
   "metadata": {},
   "source": [
    "Now, let's call `myinnerfunc`."
   ]
  },
  {
   "cell_type": "code",
   "execution_count": null,
   "metadata": {},
   "outputs": [],
   "source": [
    "myinnerfunc() "
   ]
  },
  {
   "cell_type": "markdown",
   "metadata": {},
   "source": [
    "Notice how we cannot access `myinnerfunc` outside of the function."
   ]
  },
  {
   "cell_type": "markdown",
   "metadata": {},
   "source": [
    "<a id='section3'></a>\n",
    "## 3. Global Scope\n",
    "Let's write a simple function."
   ]
  },
  {
   "cell_type": "code",
   "execution_count": null,
   "metadata": {},
   "outputs": [],
   "source": [
    "#global scope\n",
    "def myfunc():\n",
    "    print(x)"
   ]
  },
  {
   "cell_type": "code",
   "execution_count": null,
   "metadata": {},
   "outputs": [],
   "source": [
    "x = 'hello world'\n",
    "myfunc()"
   ]
  },
  {
   "cell_type": "markdown",
   "metadata": {},
   "source": [
    "You'll notice that `x` is defined in the Global scope and therefore is accessible inside the function.\n",
    "\n",
    "Let's consider another function."
   ]
  },
  {
   "cell_type": "code",
   "execution_count": null,
   "metadata": {},
   "outputs": [],
   "source": [
    "def myfunc():\n",
    "    x = 200\n",
    "    print('x in function:', x)\n",
    "    double_x = 2*x\n",
    "    return double_x, x\n"
   ]
  },
  {
   "cell_type": "code",
   "execution_count": null,
   "metadata": {},
   "outputs": [],
   "source": [
    "x = 300\n",
    "print('x initially:', x)\n",
    "\n",
    "print(myfunc()) \n",
    "\n",
    "print('x after function call:', x)\n"
   ]
  },
  {
   "cell_type": "markdown",
   "metadata": {},
   "source": [
    "<a id='section4'></a>\n",
    "## 4. Design Recipe\n",
    "Ok, let's try using the design recipe to write a function that converts from Fahrenheit to Celsius.\n",
    "\n",
    "### 1. Examples\n",
    "What do you want your function calls to look like?"
   ]
  },
  {
   "cell_type": "code",
   "execution_count": null,
   "metadata": {},
   "outputs": [],
   "source": [
    "celsius = convert_to_celsius(32) # celsius should be 0 C\n",
    "celsius = convert_to_celsius(212) # celsius should be 100 C\n",
    "celsius = convert_to_celsius(98.6) # celsius should be 37.0 C"
   ]
  },
  {
   "cell_type": "markdown",
   "metadata": {},
   "source": [
    "### 2. Type Contract\n",
    "Specify the type(s) of the arguments and the type of the return values.\n",
    "\n",
    "`(number) -> number`\n",
    "\n",
    "This syntax shows the type(s) of the argument(s) in parenthesis and the type of the return value after an arrow.\n",
    "\n",
    "Since your function can take (and return) both `int` and `float` we use `number` to indicate both.\n",
    "\n",
    "### 3. Header\n",
    "Decide on the name of the function (you probably already did this in Step 1) and the name(s) of the arguments.\n",
    "\n",
    "`def convert_to_celsius(degrees_f):`\n",
    "\n",
    "If you are writing code, by this point, you have the following:"
   ]
  },
  {
   "cell_type": "code",
   "execution_count": null,
   "metadata": {},
   "outputs": [],
   "source": [
    "def convert_to_celsius(degrees_f):\n",
    "    \"\"\"\n",
    "    (float) -> float\n",
    "    \n",
    "    \n",
    "    \"\"\""
   ]
  },
  {
   "cell_type": "markdown",
   "metadata": {},
   "source": [
    "Hey, what are those triple quote marks?\n",
    "\n",
    "They are quote makes that allow you to have line-breaks: strings that span multiple lines. They are used in functions to specify **docstrings** - more on that below!\n",
    "\n",
    "### 4. Description\n",
    "Write a short description about what the function does.\n",
    "\n",
    "`Return the temperature in degrees Celsius corresponding to the degrees Fahrenheit passed in`"
   ]
  },
  {
   "cell_type": "code",
   "execution_count": null,
   "metadata": {},
   "outputs": [],
   "source": [
    "def convert_to_celsius(degrees_f):\n",
    "    \"\"\"\n",
    "    (number) -> number\n",
    "    Return the temperature in degrees Celsius corresponding to the degrees \n",
    "    Fahrenheit passed in.\n",
    "    \"\"\""
   ]
  },
  {
   "cell_type": "markdown",
   "metadata": {},
   "source": [
    "### 5. Write the Body\n",
    "Write the code that actually does the calculation that you want."
   ]
  },
  {
   "cell_type": "code",
   "execution_count": null,
   "metadata": {},
   "outputs": [],
   "source": [
    "def convert_to_celsius(degrees_f = 0):\n",
    "    \"\"\"\n",
    "    (number) -> number\n",
    "    Return the temperature in degrees Celsius corresponding to the degrees \n",
    "    Fahrenheit passed in.\n",
    "    \"\"\"\n",
    "    \n",
    "    degrees_c = (degrees_f - 32) * 5 / 9\n",
    "    #print(degrees_c)\n",
    "    \n",
    "    return degrees_c\n"
   ]
  },
  {
   "cell_type": "markdown",
   "metadata": {},
   "source": [
    "### 6. Test\n",
    "Run all the examples that you created in Step 1. You might also want to create new examples to test the code."
   ]
  },
  {
   "cell_type": "code",
   "execution_count": null,
   "metadata": {},
   "outputs": [],
   "source": [
    "celsius = convert_to_celsius(32) # celsius should be 0 C\n",
    "print(celsius)\n",
    "\n",
    "celsius = convert_to_celsius(212) # celsius should be 100 C\n",
    "print(celsius)\n",
    "\n",
    "celsius = convert_to_celsius(98.6) # celsius should be 37.0 C\n",
    "print(celsius)"
   ]
  },
  {
   "cell_type": "code",
   "execution_count": null,
   "metadata": {},
   "outputs": [],
   "source": [
    "celsius = convert_to_celsius()\n",
    "print(celsius)"
   ]
  },
  {
   "cell_type": "markdown",
   "metadata": {},
   "source": [
    "<a id='section5'></a>\n",
    "## 5. Docstrings\n",
    "The `help` function actually prints out the `“docstring”` that we write as part of a function definition. \n",
    "\n",
    "For the function we just wrote, we could type:"
   ]
  },
  {
   "cell_type": "code",
   "execution_count": null,
   "metadata": {},
   "outputs": [],
   "source": [
    "help(math.sin)"
   ]
  },
  {
   "cell_type": "markdown",
   "metadata": {},
   "source": [
    "The `doctstring` is whatever you write between the triple quotes `\"\"\"(This is the docstring)\"\"\"`."
   ]
  },
  {
   "cell_type": "code",
   "execution_count": null,
   "metadata": {},
   "outputs": [],
   "source": [
    "def display_name():\n",
    "    '''\n",
    "    (None) -> None\n",
    "    This is docstring\n",
    "    '''\n",
    "    \n",
    "    print('Ben')\n",
    "    \n",
    "    return None"
   ]
  },
  {
   "cell_type": "code",
   "execution_count": null,
   "metadata": {},
   "outputs": [],
   "source": [
    "display_name()"
   ]
  },
  {
   "cell_type": "code",
   "execution_count": null,
   "metadata": {},
   "outputs": [],
   "source": [
    "help(display_name)"
   ]
  },
  {
   "cell_type": "markdown",
   "metadata": {},
   "source": [
    "This can be very valuable:\n",
    "1. For other programmers to figure out what a function is supposed to do.\n",
    "1. For you in the future when you have forgotten what you wrote (this happens a lot!).\n",
    "\n",
    "You should write a docstring for every function."
   ]
  },
  {
   "cell_type": "markdown",
   "metadata": {},
   "source": [
    "<a id='section6'></a>\n",
    "## 6. Breakout Session 1\n",
    "### Write Your Own Function\n",
    "Following the Design Recipe, write a function to calculate the area of a triangle.\n",
    "<br>\n",
    "<img src=\"images/triangle.png\" alt=\"drawing\" width=\"400\"/>\n",
    "<br>\n",
    "\n",
    "**1. Examples**\n",
    "What could we call this function? How about triangle_area?"
   ]
  },
  {
   "cell_type": "code",
   "execution_count": null,
   "metadata": {},
   "outputs": [],
   "source": [
    "# Write your code here\n",
    "\n",
    "# Triangle 1: base=3.8, height=7.0, area=13.3\n",
    "# Triangle 2: base=1.8, height=0.3, area=0.27"
   ]
  },
  {
   "cell_type": "markdown",
   "metadata": {},
   "source": [
    "**2. Type Contract**"
   ]
  },
  {
   "cell_type": "code",
   "execution_count": null,
   "metadata": {},
   "outputs": [],
   "source": [
    "# Write your code here\n"
   ]
  },
  {
   "cell_type": "markdown",
   "metadata": {},
   "source": [
    "**3. Header**"
   ]
  },
  {
   "cell_type": "code",
   "execution_count": null,
   "metadata": {},
   "outputs": [],
   "source": [
    "# Write your code here\n"
   ]
  },
  {
   "cell_type": "markdown",
   "metadata": {},
   "source": [
    "**4. Description/Docstring**"
   ]
  },
  {
   "cell_type": "code",
   "execution_count": null,
   "metadata": {},
   "outputs": [],
   "source": [
    "# Write your code here\n"
   ]
  },
  {
   "cell_type": "markdown",
   "metadata": {},
   "source": [
    "**5. Body**"
   ]
  },
  {
   "cell_type": "code",
   "execution_count": null,
   "metadata": {},
   "outputs": [],
   "source": [
    "# Write your code here\n",
    "\n",
    "def triangle_area(base, height):\n",
    "    '''\n",
    "    (int, int) -> float\n",
    "    Returns the area of a triange based on base and height.\n",
    "\n",
    "    '''\n",
    "    return height*base/2\n"
   ]
  },
  {
   "cell_type": "markdown",
   "metadata": {},
   "source": [
    "**6. Test**"
   ]
  },
  {
   "cell_type": "code",
   "execution_count": null,
   "metadata": {
    "scrolled": true
   },
   "outputs": [],
   "source": [
    "# Write your code here\n",
    "area1 = triangle_area(3.8, 7.0)\n",
    "print(area1) #should be 13.3\n",
    "\n",
    "area2 = triangle_area(1.8,0.3)\n",
    "print(area2) #should be 0.27\n",
    "\n"
   ]
  },
  {
   "cell_type": "markdown",
   "metadata": {},
   "source": [
    "<a id='section7'></a>\n",
    "## 7. Nested Function Calls\n",
    "Because the arguments of a function call are expressions, they have to be evaluated. \n",
    "\n",
    "When you evaluate a function call, `Python` calls the function and gives it the return value.\n",
    "\n",
    "So it is perfectly normal to do something like this:"
   ]
  },
  {
   "cell_type": "code",
   "execution_count": null,
   "metadata": {},
   "outputs": [],
   "source": [
    "print(3 + 7 + abs(-5))"
   ]
  },
  {
   "cell_type": "markdown",
   "metadata": {},
   "source": [
    "Before `print` is called, its argument(s) are evaluated. \n",
    "\n",
    "Here there is one argument and the evaluation adds 3 to 7 to the return value of the `abs(-5)` function call. So it is 10+5 = 15. \n",
    "\n",
    "The value 15 is then passed to print and it gets printed.\n",
    "\n",
    "These are called **`nested function calls`** because one function call (e.g., to `abs()`) \"nests\" inside another (the call to `print()`).\n",
    "\n",
    "You can also do stuff like:"
   ]
  },
  {
   "cell_type": "code",
   "execution_count": null,
   "metadata": {},
   "outputs": [],
   "source": [
    "bigger_area = max(triangle_area(3.8, 7.0), triangle_area(3.5, 6.8))\n",
    "print(bigger_area)"
   ]
  },
  {
   "cell_type": "markdown",
   "metadata": {},
   "source": [
    "<a id='section8'></a>\n",
    "## 8. Calling Functions within Functions\n",
    "The code in the body of a function is just code and can do everything that code outside a function can do. \n",
    "\n",
    "In particular, it can call other functions!\n",
    "\n",
    "For example, we already wrote a function to convert Fahrenheit to Celsius. \n",
    "\n",
    "What about a function to convert Fahrenheit to Kelvin? "
   ]
  },
  {
   "cell_type": "code",
   "execution_count": null,
   "metadata": {},
   "outputs": [],
   "source": [
    "def convert_to_kelvin(degrees_f):\n",
    "    degrees_c = convert_to_celsius(degrees_f)\n",
    "    degrees_k = degrees_c + 273.15\n",
    "    return degrees_k\n",
    "\n",
    "kelvin = convert_to_kelvin(32) # kelvin should be 273.15\n",
    "print(kelvin)\n",
    "\n",
    "kelvin = convert_to_kelvin(212) # kelvin should be 373.15\n",
    "print(kelvin)\n",
    "\n",
    "kelvin = convert_to_kelvin(98.6) # kelvin should be 310.15\n",
    "print(kelvin)"
   ]
  },
  {
   "cell_type": "markdown",
   "metadata": {},
   "source": [
    "Now, would you prefer what we wrote above or what we've written below?"
   ]
  },
  {
   "cell_type": "code",
   "execution_count": null,
   "metadata": {},
   "outputs": [],
   "source": [
    "def convert_to_kelvin(degrees_f):\n",
    "    \"\"\"\n",
    "    (number) -> number\n",
    "    Return the temperature in degrees Kelvin corresponding to the degrees \n",
    "    Fahrenheit passed in\n",
    "    \"\"\"\n",
    "    degrees_c = (degrees_f - 32) * 5 / 9\n",
    "    #degrees_c = convert_to_celsius(degrees_f)\n",
    "    degrees_k = degrees_c + 273.15\n",
    "    return degrees_k "
   ]
  },
  {
   "cell_type": "code",
   "execution_count": null,
   "metadata": {},
   "outputs": [],
   "source": [
    "kelvin = convert_to_kelvin(32) # kelvin should be 273.15\n",
    "print(kelvin)\n",
    "\n",
    "kelvin = convert_to_kelvin(212) # kelvin should be 373.15\n",
    "print(kelvin)\n",
    "\n",
    "kelvin = convert_to_kelvin(98.6) # kelvin should be 310.15\n",
    "print(kelvin)"
   ]
  },
  {
   "cell_type": "markdown",
   "metadata": {},
   "source": [
    "We get the same answer, so both solutions are equally correct?\n",
    "\n",
    "**No!** This code `degrees_c = (degrees_f - 32) * 5 / 9` is redundant. \n",
    "\n",
    "We only ever want to have to write it once.\n",
    "\n",
    "`#cleancode`"
   ]
  },
  {
   "cell_type": "markdown",
   "metadata": {},
   "source": [
    "<a id='section9'></a>\n",
    "## 9. `print` v.s. `return`\n",
    "Let's investigate the differences between print and return in a function.\n",
    "\n",
    "The function below prints the variable `output` but does not return it. "
   ]
  },
  {
   "cell_type": "code",
   "execution_count": null,
   "metadata": {},
   "outputs": [],
   "source": [
    "def square(x):\n",
    "    output = x * x\n",
    "    print(output)"
   ]
  },
  {
   "cell_type": "markdown",
   "metadata": {},
   "source": [
    "When we call the function, it prints the integer `4` but does not return it."
   ]
  },
  {
   "cell_type": "code",
   "execution_count": null,
   "metadata": {},
   "outputs": [],
   "source": [
    "square(2)"
   ]
  },
  {
   "cell_type": "markdown",
   "metadata": {},
   "source": [
    "It may look like this function returns nothing but let's check."
   ]
  },
  {
   "cell_type": "code",
   "execution_count": null,
   "metadata": {},
   "outputs": [],
   "source": [
    "num = square(2)"
   ]
  },
  {
   "cell_type": "code",
   "execution_count": null,
   "metadata": {},
   "outputs": [],
   "source": [
    "print(num)"
   ]
  },
  {
   "cell_type": "markdown",
   "metadata": {},
   "source": [
    "This means that if we don't add a `return` statement, Python will add one for us and return `None`.\n",
    "\n",
    "If we rewrite the function and return the variable `output` instead of printing it, we get the following."
   ]
  },
  {
   "cell_type": "code",
   "execution_count": null,
   "metadata": {},
   "outputs": [],
   "source": [
    "def square(x):\n",
    "    output = x * x\n",
    "    return output"
   ]
  },
  {
   "cell_type": "markdown",
   "metadata": {},
   "source": [
    "You can see the output looks slightly different. The integer `4` gets displayed but Jupyter shows a red `Out[ ]` display to the left of the output."
   ]
  },
  {
   "cell_type": "code",
   "execution_count": null,
   "metadata": {},
   "outputs": [],
   "source": [
    "square(2)"
   ]
  },
  {
   "cell_type": "markdown",
   "metadata": {},
   "source": [
    "More importantly, we are able to capture the value that is returned by the function and assign it to a variable called `num`. This let's us use the output in some way elsewhere in out code. But, when we print the output, we cannot capture that information and use it elsewhere."
   ]
  },
  {
   "cell_type": "code",
   "execution_count": null,
   "metadata": {},
   "outputs": [],
   "source": [
    "num = square(2)\n",
    "print(num)"
   ]
  },
  {
   "cell_type": "markdown",
   "metadata": {},
   "source": [
    "For example, let's say I want to use the square function below to square a number and then in the next line of code, I want to divide that number by 10."
   ]
  },
  {
   "cell_type": "code",
   "execution_count": null,
   "metadata": {},
   "outputs": [],
   "source": [
    "def square(x):\n",
    "    output = x * x\n",
    "    print(output)"
   ]
  },
  {
   "cell_type": "code",
   "execution_count": null,
   "metadata": {},
   "outputs": [],
   "source": [
    "num = square(2)"
   ]
  },
  {
   "cell_type": "code",
   "execution_count": null,
   "metadata": {},
   "outputs": [],
   "source": [
    "answer = num / 10 "
   ]
  },
  {
   "cell_type": "markdown",
   "metadata": {},
   "source": [
    "I didn't include a return statement so Python returned `None` for me, which we cannot divide by 10.\n",
    "\n",
    "Below is how to do this correctly."
   ]
  },
  {
   "cell_type": "code",
   "execution_count": null,
   "metadata": {},
   "outputs": [],
   "source": [
    "def square(x):\n",
    "    output = x * x\n",
    "    return output"
   ]
  },
  {
   "cell_type": "code",
   "execution_count": null,
   "metadata": {},
   "outputs": [],
   "source": [
    "num = 4"
   ]
  },
  {
   "cell_type": "code",
   "execution_count": null,
   "metadata": {},
   "outputs": [],
   "source": [
    "answer = num / 10 \n",
    "print(answer)"
   ]
  },
  {
   "cell_type": "markdown",
   "metadata": {},
   "source": [
    "Return can also be used to end a function before all the body code has been run."
   ]
  },
  {
   "cell_type": "code",
   "execution_count": null,
   "metadata": {},
   "outputs": [],
   "source": [
    "def square(x):\n",
    "    output = x * x\n",
    "    return output\n",
    "    print('output is equal to:', output)"
   ]
  },
  {
   "cell_type": "code",
   "execution_count": null,
   "metadata": {},
   "outputs": [],
   "source": [
    "print(square(2))"
   ]
  },
  {
   "cell_type": "code",
   "execution_count": null,
   "metadata": {},
   "outputs": [],
   "source": [
    "#####\n",
    "\n",
    "#make a function from scratch\n",
    "\n",
    "#how to learn more about funciton / documentation\n",
    "\n"
   ]
  },
  {
   "cell_type": "code",
   "execution_count": null,
   "metadata": {},
   "outputs": [],
   "source": [
    "'''\n",
    "\n",
    "return is the way to tell Python, \n",
    "\"this function is now done, you can go back to the spot where this function was called\" \n",
    "while also providing whatever result value the function made. \n",
    "The function ends the moment it hits any return statement; \n",
    "the rest of the function (if there is more to the function) does not get executed.\n",
    "\n",
    "print is a function that sends some text to the console. \n",
    "Since it's \"just\" a function, execution continues right after.\n",
    "\n",
    "'''"
   ]
  },
  {
   "cell_type": "code",
   "execution_count": null,
   "metadata": {},
   "outputs": [],
   "source": [
    "# Function that uses print\n",
    "def greet_print(name):\n",
    "    print(\"Hello,\", name)\n",
    "    \n",
    "    return None\n",
    "\n",
    "x = greet_print(\"Alice\")\n",
    "y = greet_print(\"Bob\")\n",
    "\n",
    "print(x)"
   ]
  },
  {
   "cell_type": "code",
   "execution_count": null,
   "metadata": {},
   "outputs": [],
   "source": [
    "# Function that uses return\n",
    "def greet_return(name):\n",
    "    return (\"Hello, \" + name) # the '+' is just merging two strings, see more next week\n",
    "\n",
    "# Using the returned value\n",
    "greeting1 = greet_return(\"Alice\")\n",
    "greeting2 = greet_return(\"Bob\")\n",
    "\n",
    "print(greeting1)  # Output: Hello, Alice\n",
    "print(greeting2)  # Output: Hello, Bob"
   ]
  },
  {
   "cell_type": "code",
   "execution_count": null,
   "metadata": {},
   "outputs": [],
   "source": [
    "#what about a calculation?\n",
    "\n",
    "# Function that uses print to show local variables\n",
    "def calculate_print(a, b):\n",
    "    result = a + b\n",
    "    print(\"Inside calculate_print: result =\", result)\n",
    "\n",
    "# Call the function\n",
    "calculate_print(10, 5)\n",
    "\n",
    "# Attempt to print 'result' outside the function (should cause an error)\n",
    "print(\"Outside calculate_print: result =\", result)  # This will cause a NameError\n"
   ]
  },
  {
   "cell_type": "code",
   "execution_count": null,
   "metadata": {
    "scrolled": true
   },
   "outputs": [],
   "source": [
    "# Function that uses return to pass local variables\n",
    "def calculate_return(a, b):\n",
    "    result = a + b\n",
    "    return result\n",
    "\n",
    "# Use the returned value\n",
    "\n",
    "sum_result = 15\n",
    "print(\"Outside calculate_return: result =\", sum_result)\n",
    "\n",
    "\n",
    "\n",
    "# Attempt to print 'result' inside the function (should cause an error)\n",
    "print(\"Inside calculate_return: result =\", result)  # This will cause a NameError"
   ]
  },
  {
   "cell_type": "code",
   "execution_count": 9,
   "metadata": {},
   "outputs": [],
   "source": [
    "def update_balance(current, delta):\n",
    "    '''\n",
    "    (float, float) -> float\n",
    "\n",
    "    Calculate the updated balance by adding the delta to their current balance.\n",
    "    Returns the updated balance.\n",
    "    '''\n",
    "    \n",
    "    new_balance = current + delta\n",
    "    print(new_balance, 1,2 )\n",
    "    #return new_balance, current, delta\n",
    "    return ('your answer is' , 'correct')"
   ]
  },
  {
   "cell_type": "code",
   "execution_count": 10,
   "metadata": {},
   "outputs": [
    {
     "name": "stdout",
     "output_type": "stream",
     "text": [
      "50 your answer iscorrect 1 2 3 4\n",
      "('your answer is', 'correct')\n"
     ]
    }
   ],
   "source": [
    "x = update_balance(100,-50)\n",
    "\n",
    "print(x)"
   ]
  },
  {
   "cell_type": "code",
   "execution_count": 13,
   "metadata": {},
   "outputs": [],
   "source": [
    "import math"
   ]
  },
  {
   "cell_type": "code",
   "execution_count": null,
   "metadata": {},
   "outputs": [],
   "source": [
    "'hello'."
   ]
  }
 ],
 "metadata": {
  "kernelspec": {
   "display_name": "Python 3 (ipykernel)",
   "language": "python",
   "name": "python3"
  },
  "language_info": {
   "codemirror_mode": {
    "name": "ipython",
    "version": 3
   },
   "file_extension": ".py",
   "mimetype": "text/x-python",
   "name": "python",
   "nbconvert_exporter": "python",
   "pygments_lexer": "ipython3",
   "version": "3.10.9"
  }
 },
 "nbformat": 4,
 "nbformat_minor": 4
}
