{
 "cells": [
  {
   "cell_type": "markdown",
   "metadata": {
    "collapsed": true
   },
   "source": [
    "# APS106 - Fundamentals of Computer Programming\n",
    "## Week 2 | Lecture 3 (3.2) - Debugging\n",
    "\n",
    "\n",
    "### Lecture Structure\n",
    "1. [Breakout Session 1](#section1)\n",
    "2. [Breakout Session 2](#section2)\n",
    "3. [Breakout Session 3](#section3)\n",
    "4. [Breakout Session 4](#section4)\n",
    "5. [Breakout Session 5](#section5)"
   ]
  },
  {
   "cell_type": "markdown",
   "metadata": {},
   "source": [
    "**Programming is hard.** To solve a problem in software, you need to have not only a strong understanding of the syntax and the meaning of the statements in Python, you also have to hold the \"state\" of the program in your head: what are the current values of the variables, what is the next statement to be executed, how will that statement change the values of the variables?\n",
    "\n",
    "The less you have to keep in your head at one time, the easier it is to write working code. \n",
    "\n",
    "Hence:\n",
    "\n",
    "<div class=\"alert alert-block alert-warning\">\n",
    "<big><b>Golden Rule for Programmers</b></big>\n",
    "Never, never, never write code for more than 15 minutes without stopping and testing if what you have written works. </div>\n",
    "\n",
    "(As with all such \"rules for beginners\", as you become a better programming you will start to learn when you can break the rules. However, it is still the case that many professional software engineers take a \"test first, test often\" approach to writing code. E.g., [test-driven development](https://digital.ai/glossary/test-driven-development)).\n",
    "\n",
    "Write some code, run it, figure out if it is working. If it isn't fix it. If it is, write more code.\n",
    "\n",
    "We're going to test this out today with the following programming task.\n",
    "\n",
    "## Calculating the Deflection of a Beam\n",
    "\n",
    "The diagram below introduces a number of variables for the calculation of the deflection in a beam.  Write a program that can calculate the $\\delta_{max}$, or deflection of a beam.\n",
    "\n",
    "![alt text](images/deflection.png \"Deflection of a Beam\")\n",
    "\n",
    "\n",
    "Where:\n",
    "- $P$ is the force applied in newtons\n",
    "- $l$ is the beam length\n",
    "- $a$ is the distance to the force applies\n",
    "- $\\delta_{max}$ is the beam deflection\n",
    "\n",
    "The formula is: <big><big>$\\delta_{max} = \\frac{Pa^2}{6EI}(3l - a)$</big></big> where $E$ is Young's modulus, $I$ is the area moment of inertia of the cross-section.\n",
    "\n",
    "Since we have not yet studied how to get the user to input values into a program, let's assume that all these values are hard-coded.\n",
    "\n"
   ]
  },
  {
   "cell_type": "markdown",
   "metadata": {},
   "source": [
    "<div class=\"alert alert-block alert-warning\">\n",
    "<big><b>Oh No! That's way too much math.</b></big>\n",
    "\n",
    "First thought might be \"Oh no! That's a lot of math that I don't understand.\"\n",
    "\n",
    "Out of all the years I've been involved in this course we have never focussed on testing math skills.  Isolate the variables you need, use the given information (i.e. formulas) to your advantage, and problem solve like the great engineering students you are!</div>"
   ]
  },
  {
   "cell_type": "code",
   "execution_count": null,
   "metadata": {},
   "outputs": [],
   "source": [
    "# define the quantities in the problem\n",
    "P = 100         # Force applied in newtons\n",
    "a = 6           # distance in m to the force\n",
    "l = 13          # total length of beam\n",
    "E = 2.0685e11   # Young’s modulus in Pa\n",
    "I = 0.005208    # Moment of inertia in m^4\n",
    "\n",
    "# with the above quantities, the value of delta_max is 1.8379711471947547e-05"
   ]
  },
  {
   "cell_type": "markdown",
   "metadata": {},
   "source": [
    "If we are over-confident, we might just go ahead and write down the formula. "
   ]
  },
  {
   "cell_type": "code",
   "execution_count": null,
   "metadata": {
    "scrolled": true
   },
   "outputs": [],
   "source": [
    "# the wrong way to do things\n",
    "\n",
    "delta_max = Pa**2 / 6 * E * I * (3l - a)"
   ]
  },
  {
   "cell_type": "markdown",
   "metadata": {},
   "source": [
    "Note the error message tells us we have written something that isn't Python. We have not used the correct form - like writing an ungrammatical sentence in English or mis-spelling a word.\n",
    "\n",
    "In fact, there are a number of errors above and it is going to be tedious to find them all if we start from the above code. Let's start again."
   ]
  },
  {
   "cell_type": "code",
   "execution_count": null,
   "metadata": {},
   "outputs": [],
   "source": [
    "# with the above quantities, the value of delta_max is 1.8379711471947547e-05\n",
    "numerator = Pa ** 2\n",
    "print(numerator)"
   ]
  },
  {
   "cell_type": "markdown",
   "metadata": {},
   "source": [
    "This error message is a bit more helpful. Python says there is no variable named Pa. Which is true. (Python is usually right). We actually want to multiply the variable `P` by the variable `a` and we forgot that Python uses the `*` operator for multiplication. So we can modify the code."
   ]
  },
  {
   "cell_type": "code",
   "execution_count": null,
   "metadata": {},
   "outputs": [],
   "source": [
    "numerator = P*a** 2\n",
    "print(numerator)"
   ]
  },
  {
   "cell_type": "markdown",
   "metadata": {},
   "source": [
    "Is this correct? What could be wrong? (You should be paranoid about your code.)\n",
    "\n",
    "Maybe some spaces can help to make this code clearer."
   ]
  },
  {
   "cell_type": "code",
   "execution_count": null,
   "metadata": {},
   "outputs": [],
   "source": [
    "numerator = P * a**2\n",
    "print(numerator)"
   ]
  },
  {
   "cell_type": "markdown",
   "metadata": {},
   "source": [
    "This code does the same thing as above, but the spaces make it easier to understand that the exponentiation operator has higher precedence and that that is what you wanted. \n",
    "\n",
    "OK, now what?"
   ]
  },
  {
   "cell_type": "code",
   "execution_count": null,
   "metadata": {},
   "outputs": [],
   "source": [
    "demon = 6 * E * I\n",
    "print(denom)"
   ]
  },
  {
   "cell_type": "markdown",
   "metadata": {},
   "source": [
    "OK, this is just a typo ..."
   ]
  },
  {
   "cell_type": "code",
   "execution_count": null,
   "metadata": {},
   "outputs": [],
   "source": [
    "denom = 6 * E * I\n",
    "print(denom)"
   ]
  },
  {
   "cell_type": "markdown",
   "metadata": {},
   "source": [
    "OK, let's try to put them together."
   ]
  },
  {
   "cell_type": "code",
   "execution_count": null,
   "metadata": {},
   "outputs": [],
   "source": [
    "delta_max = numerator/denom * (3l - a)\n",
    "print(delta_max)"
   ]
  },
  {
   "cell_type": "markdown",
   "metadata": {},
   "source": [
    "OK, we still haven't figured out multiplication."
   ]
  },
  {
   "cell_type": "code",
   "execution_count": null,
   "metadata": {},
   "outputs": [],
   "source": [
    "delta_max = numerator/denom * (3*l - a)\n",
    "print(delta_max)"
   ]
  },
  {
   "cell_type": "markdown",
   "metadata": {},
   "source": [
    "So let's put it all together."
   ]
  },
  {
   "cell_type": "code",
   "execution_count": null,
   "metadata": {},
   "outputs": [],
   "source": [
    "#define the quantities in the problem\n",
    "P = 100         # Force applied in newtons\n",
    "a = 6           # distance in m to the force\n",
    "l = 13          # total length of beam\n",
    "E = 2.0685e11   # Young’s modulus in Pa\n",
    "I = 0.005208    # Moment of inertia in m^4\n",
    "\n",
    "# with the above quantities, the value of delta_max is 1.8379711471947547e-05\n",
    "numerator = P * a**2\n",
    "denom = 6 * E * I\n",
    "delta_max = numerator/denom * (3*l - a)\n",
    "print(delta_max)"
   ]
  },
  {
   "cell_type": "markdown",
   "metadata": {},
   "source": [
    "Looks like it works. Is there anything that you don't like about the code? If you were reading it for the first time, is there something you would be confused about?\n",
    "\n",
    "How about some better variable names?"
   ]
  },
  {
   "cell_type": "code",
   "execution_count": null,
   "metadata": {},
   "outputs": [],
   "source": [
    "#define the quantities in the problem\n",
    "force = 100                  # Force applied in newtons\n",
    "dist_to_force = 6            # distance in m to the force\n",
    "beam_length = 13             # total length of beam\n",
    "Youngs_mod = 2.0685e11       # Young’s modulus in Pa\n",
    "moment_inertia = 0.005208    # Moment of inertia in m^4\n",
    "\n",
    "# with the above quantities, the value of delta_max is 1.8379711471947547e-05\n",
    "numerator = force * dist_to_force**2\n",
    "denom = 6 * Youngs_mod * moment_inertia\n",
    "delta_max = numerator/denom * (3*beam_length - dist_to_force)\n",
    "print(delta_max)"
   ]
  },
  {
   "cell_type": "markdown",
   "metadata": {},
   "source": [
    "<div class=\"alert alert-block alert-info\">\n",
    "<big><b>What Was I Supposed to Learn From All That?</b></big>\n",
    "<ul>  \n",
    "    <li>You are going to make mistakes and most of your time programming is going to be looking for your mistakes.</li>\n",
    "    <li>Program in a way to make mistakes easy to find.</li>\n",
    "    <li>It is easier to write little bits of code and make sure they are working than to write all sorts of code and then try to figure out why it doesn't work.</li>\n",
    "</ul>  \n",
    "</div>\n"
   ]
  },
  {
   "cell_type": "markdown",
   "metadata": {},
   "source": [
    "<a id='section1'></a>\n",
    "## 1. Breakout Session 1\n",
    "Write a program that will average 3 numeric exam grades, return an average test score, a corresponding letter grade, and a message stating whether the student is passing."
   ]
  },
  {
   "cell_type": "code",
   "execution_count": null,
   "metadata": {
    "scrolled": true
   },
   "outputs": [],
   "source": [
    "exam_one = int(input(\"Input exam grade one: \"))\n",
    "\n",
    "exam_two = int(input(\"Input exam grade two: \"))\n",
    "\n",
    "exam_3 = input(\"Input exam grade three: \")\n",
    "\n",
    "sum = exam_one + exam_two + exam_three\n",
    "\n",
    "avg = sum // 3\n",
    "\n",
    "if avg >= 900:\n",
    "    letter_grade = \"A\"\n",
    "elif avg > 80 and avg < 90:\n",
    "    letter_grade = \"A\"\n",
    "elif avg > 69 and avg < 80: \n",
    "    letter_grade = \"C\"\n",
    "elif avg <= 69 and avg >= 65:\n",
    "    letter_grade = \"D\"\n",
    "else:\n",
    "    letter_grade = \"F\"\n",
    "\n",
    "print(\"Exam 1: \" + str(exam_one))\n",
    "print(\"Exam 2: \" + str(exam_two))\n",
    "print(\"Exam 3: \" + str(exam_3))\n",
    "print(\"Average: \" + str(avg))\n",
    "print(\"Grade: \" + letter_grade)\n",
    "\n",
    "if letter_grade = \"F\":\n",
    "    print(\"Student is failing.\")\n",
    "else:\n",
    "    print(\"Student is passing.\")"
   ]
  },
  {
   "cell_type": "markdown",
   "metadata": {},
   "source": [
    "<a id='section2'></a>\n",
    "## 2. Breakout Session 2\n",
    "You are going shopping for meat and milk, but there is tax. You buy 3.00 dollars of milk and 4.00 dollars of meat, and the tax rate is 13%. Print out the total value of your groceries (you don't need to print the dollar sign).\n",
    "\n",
    "**Remember**, it's important to know what the expected output is! Do it by hand (or with your phone calculator) first! ($7.91)"
   ]
  },
  {
   "cell_type": "code",
   "execution_count": null,
   "metadata": {},
   "outputs": [],
   "source": [
    "meat_price = 4.00\n",
    "milk_price = 3.00\n",
    "milk_tax = 0.13 * milk_price\n",
    "meat_tax = 0.13 * meat_price\n",
    "print(meat_tax + meat_price + milk_tax + meat_price)"
   ]
  },
  {
   "cell_type": "markdown",
   "metadata": {},
   "source": [
    "<a id='section3'></a>\n",
    "## 3. Breakout Session 3\n",
    "Imagine we are running a space station. Your job is to evaluate the station's code and fix any errors. \n",
    "\n",
    "You must:\n",
    "- Launch the shuttle only if the fuel, crew and computer all check out OK.\n",
    "    - Fuel must be **>= 20,000**\n",
    "    - crew_status must be **True**\n",
    "    - computer_status must be **'green'**\n",
    "- If a check fails, print that information to the console and scrub the launch.\n",
    "- If all checks are successful, print a countdown to launch in the console."
   ]
  },
  {
   "cell_type": "code",
   "execution_count": null,
   "metadata": {},
   "outputs": [],
   "source": [
    "launch_ready = False\n",
    "fuel_level = 17000\n",
    "crew_status = True\n",
    "computer_status = 'green'\n",
    "\n",
    "if fuel_level >= 20000:\n",
    "    print('Fuel Level Cleared.')\n",
    "    lunch_ready = True\n",
    "else:\n",
    "    print('WARNING: Insufficient fuel!'))\n",
    "    \n",
    "if crew_status == True and computerstatus == 'green':\n",
    "    print('Crew and computer cleared.')\n",
    "    launch_ready = True\n",
    "else:\n",
    "    print('WARNING: Crew or computer not ready!')\n",
    "    \n",
    "if launch_ready is True:\n",
    "    print('10, 9, 8, 7, 6, 5, 4, 3, 2, 1...')\n",
    "    print('Liftoff!')\n",
    "else:\n",
    "    print('Launch cancelled.')"
   ]
  },
  {
   "cell_type": "markdown",
   "metadata": {},
   "source": [
    "<a id='section4'></a>\n",
    "## 4. Breakout Session 4\n",
    "Create an algorithm that estimates the square root of a value.  Use it to find a good approximation of the square root of 200. If your result is x, x^2 should **NOT** be greater than 200\n",
    "\n",
    "For reference, the square root of 200 is 14.1421356237\n",
    "\n",
    "#### ChatGPT 4o had trouble with this multiple times, including when solving it from scratch."
   ]
  },
  {
   "cell_type": "code",
   "execution_count": null,
   "metadata": {},
   "outputs": [],
   "source": [
    "x = 0\n",
    "#step = 1\n",
    "\n",
    "while x^2 < 200:  #while x^2 is less than 200\n",
    "    x = x + 1   #increase x by step size of 1\n",
    "    #print(x)\n",
    "\n",
    "print('Estimated square root of 200:', x)\n",
    "#print(x**2)"
   ]
  },
  {
   "cell_type": "markdown",
   "metadata": {},
   "source": [
    "<a id='section5'></a>\n",
    "## 5. Breakout Session 5\n",
    "Calculation of chemical rate constants. Find and correct the errors in the following code.\n",
    "\n",
    "## Calculating Chemical Rate Constants\n",
    "\n",
    "The Arrhenius equation is:\n",
    "\n",
    "<big><big>$k = Ae^{\\frac{-E_a}{RT}}$</big></big>\n",
    "\n",
    "Where:\n",
    "- $A$ is the \"pre-exponential factor\": assume it is 80\n",
    "- $e$ is Euler's number: 2.718281828\n",
    "- $E_a$ is the activation energy: 108000\n",
    "- $T$ is the temperature in kelvin\n",
    "- $R$ is the universal gas constant: 8.3144598\n",
    "- $k$ is the rate constant\n",
    "\n",
    "Assume that you are given the temperature as 95 degrees fahrenheit. Under these assumptions, calculate $k$ (answer should be 3.9474300434096683e-17).\n",
    "\n",
    "Write the code!"
   ]
  },
  {
   "cell_type": "markdown",
   "metadata": {},
   "source": [
    "Steps in a **Programming Plan** (what you do to write the code):\n",
    "1. Define the variables and assign the values.\n",
    "2. Convert degrees F to degrees K.\n",
    "3. Test\n",
    "4. Calculate the exponent.\n",
    "5. Test\n",
    "6. Calculate $k$.\n",
    "7. Test\n",
    "\n",
    "Often we will not explicitly include steps 3,5,7. You should assume that testing comes at each step.\n",
    "\n",
    "#### Step 1: Define the variables and assign the values.\n",
    "\n",
    "Easy.  Let's get that out of the way."
   ]
  },
  {
   "cell_type": "code",
   "execution_count": null,
   "metadata": {},
   "outputs": [],
   "source": [
    "# Calculate the rate constant\n",
    "\n",
    "A = 80          # pre-exponential factor\n",
    "e = 2.718281828 # Euler's number\n",
    "Ea = 108000     # Activation energy\n",
    "Tf = 95         # temperature in fahrenheit\n",
    "R = 8.3144598   # universal gas constant\n",
    "\n",
    "# k should be 3.9474300434096683e-17"
   ]
  },
  {
   "cell_type": "markdown",
   "metadata": {},
   "source": [
    "Why did I bother executing the code above? It doesn't show me anything."
   ]
  },
  {
   "cell_type": "markdown",
   "metadata": {},
   "source": [
    "#### Step 2: Convert degrees F to degrees K\n",
    "\n",
    "Lazy coder: That's easy, I'll just put it in the function - no need to test separately."
   ]
  },
  {
   "cell_type": "markdown",
   "metadata": {},
   "source": [
    "#### Step 3: Test\n",
    "\n",
    "Lazy coder: Boring, skip."
   ]
  },
  {
   "cell_type": "markdown",
   "metadata": {},
   "source": [
    "#### Step 4: Calculate the Exponent\n",
    "\n",
    "Lazy coder: Why bother?  I'll do it all in one line."
   ]
  },
  {
   "cell_type": "markdown",
   "metadata": {},
   "source": [
    "#### Step 5: Test\n",
    "\n",
    "Lazy coder: LOL, okay.\n",
    "\n",
    "#### Step 6: Calculate $k$"
   ]
  },
  {
   "cell_type": "code",
   "execution_count": null,
   "metadata": {},
   "outputs": [],
   "source": [
    "Ea = 108000                  # Activation energy\n",
    "T_fahrenheit = 95            # Temperature in degrees Fahrenheit\n",
    "A = 80                       # Pre-exponential factor\n",
    "R = 8.3144598                # Universal gas constant\n",
    "e = 2.718281828              # Euler’s number\n",
    "\n",
    "# k should be 3.9474300434096683e-17\n",
    "\n",
    "T_celsius = T_fahrenheit - 32 * 5 / 9\n",
    "T_kelvin = T_celsius + 273.15\n",
    "\n",
    "k = A * e** -Ea / R * T_kelvin\n",
    "print(k)"
   ]
  },
  {
   "cell_type": "markdown",
   "metadata": {},
   "source": [
    "Lazy coder: Oh no... Uh oh..."
   ]
  },
  {
   "cell_type": "markdown",
   "metadata": {},
   "source": [
    "### ChatGPT 4o also couldn't get correct Rock Paper Scissors Lizard Spock outputs... \n",
    "\n",
    "### We've made a lot of progress, but a human that knows the correct answer is needed - the 'human in the loop'"
   ]
  },
  {
   "cell_type": "markdown",
   "metadata": {},
   "source": [
    "<div class=\"alert alert-block alert-info\">\n",
    "<big><b>This Lecture</b></big>\n",
    "<ul>  \n",
    "    <li>The Process of Programming</li>\n",
    "    <li>Golden Rule of Programming</li>\n",
    "    <li>Code, Test, Code, Test, Repeat</li>\n",
    "</ul>  \n",
    "</div>\n"
   ]
  }
 ],
 "metadata": {
  "kernelspec": {
   "display_name": "Python 3 (ipykernel)",
   "language": "python",
   "name": "python3"
  },
  "language_info": {
   "codemirror_mode": {
    "name": "ipython",
    "version": 3
   },
   "file_extension": ".py",
   "mimetype": "text/x-python",
   "name": "python",
   "nbconvert_exporter": "python",
   "pygments_lexer": "ipython3",
   "version": "3.10.9"
  }
 },
 "nbformat": 4,
 "nbformat_minor": 1
}
