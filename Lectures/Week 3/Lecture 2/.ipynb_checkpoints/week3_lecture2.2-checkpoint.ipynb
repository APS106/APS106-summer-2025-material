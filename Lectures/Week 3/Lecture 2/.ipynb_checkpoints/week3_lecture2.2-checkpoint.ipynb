{
 "cells": [
  {
   "cell_type": "markdown",
   "metadata": {
    "collapsed": true
   },
   "source": [
    "# APS106 - Fundamentals of Computer Programming\n",
    "## Week 3 | Lecture 2 (3.2) - Debugging\n",
    "\n",
    "### This Week\n",
    "| Lecture | Topics | Reading |\n",
    "| --- | --- | --- | \n",
    "| 5.1 | Debugging | |\n",
    "| 5.2 | Objects & Strings: Operators and Methods | Chapter 7 |\n",
    "| 5.3 | Strings: Conversions, Indexing, Slicing, and Immutability | Chapter 7 | \n",
    "\n",
    "### Lecture Structure\n",
    "1. [Breakout Session 1](#section1)\n",
    "2. [Breakout Session 2](#section2)\n",
    "3. [Breakout Session 3](#section3)\n",
    "4. [Breakout Session 4](#section4)\n",
    "5. [Breakout Session 5](#section5)"
   ]
  },
  {
   "cell_type": "markdown",
   "metadata": {},
   "source": [
    "<a id='section1'></a>\n",
    "## 1. Breakout Session 1\n",
    "Write a program that will average 3 numeric exam grades, return an average test score, a corresponding letter grade, and a message stating whether the student is passing."
   ]
  },
  {
   "cell_type": "code",
   "execution_count": 41,
   "metadata": {
    "scrolled": true
   },
   "outputs": [
    {
     "name": "stdout",
     "output_type": "stream",
     "text": [
      "Input exam grade one: 80\n",
      "Input exam grade two: 90\n",
      "Input exam grade three: 100\n",
      "Exam 1: 80\n",
      "Exam 2: 90\n",
      "Exam 3: 100\n",
      "Average: 90.0\n",
      "Grade: A\n",
      "Student is passing.\n"
     ]
    }
   ],
   "source": [
    "exam_one = int(input(\"Input exam grade one: \"))\n",
    "\n",
    "exam_two = int(input(\"Input exam grade two: \"))\n",
    "\n",
    "exam_3 = int(input(\"Input exam grade three: \"))\n",
    "\n",
    "sum = exam_one + exam_two + exam_3\n",
    "\n",
    "avg = sum / 3\n",
    "\n",
    "if avg >= 90:\n",
    "    letter_grade = \"A\"\n",
    "elif avg > 80 and avg < 90:\n",
    "    letter_grade = \"A\"\n",
    "elif avg > 69 and avg < 80: \n",
    "    letter_grade = \"C\"\n",
    "elif avg <= 69 and avg >= 65:\n",
    "    letter_grade = \"D\"\n",
    "else:\n",
    "    letter_grade = \"F\"\n",
    "\n",
    "print(\"Exam 1: \" + str(exam_one))\n",
    "print(\"Exam 2: \" + str(exam_two))\n",
    "print(\"Exam 3: \" + str(exam_3))\n",
    "print(\"Average: \" + str(avg))\n",
    "print(\"Grade: \" + letter_grade)\n",
    "\n",
    "if letter_grade == \"F\":\n",
    "    print(\"Student is failing.\")\n",
    "else:\n",
    "    print(\"Student is passing.\")"
   ]
  },
  {
   "cell_type": "markdown",
   "metadata": {},
   "source": [
    "<a id='section2'></a>\n",
    "## 2. Breakout Session 2\n",
    "You are going shopping for meat and milk, but there is tax. You buy 3.00 dollars of milk and 4.00 dollars of meat, and the tax rate is 13%. Print out the total value of your groceries (you don't need to print the dollar sign).\n",
    "\n",
    "**Remember**, it's important to know what the expected output is! Do it by hand (or with your phone calculator) first! ($7.91)"
   ]
  },
  {
   "cell_type": "code",
   "execution_count": 46,
   "metadata": {},
   "outputs": [
    {
     "name": "stdout",
     "output_type": "stream",
     "text": [
      "7.909999999999999\n"
     ]
    }
   ],
   "source": [
    "meat_price = 4.00\n",
    "milk_price = 3.00\n",
    "milk_tax = 0.13 * milk_price\n",
    "meat_tax = 0.13 * meat_price\n",
    "print(meat_tax + meat_price + milk_tax + milk_price)"
   ]
  },
  {
   "cell_type": "markdown",
   "metadata": {},
   "source": [
    "<a id='section3'></a>\n",
    "## 3. Breakout Session 3\n",
    "Imagine we are running a space station. Your job is to evaluate the station's code and fix any errors. \n",
    "\n",
    "You must:\n",
    "- Launch the shuttle only if the fuel, crew and computer all check out OK.\n",
    "- If a check fails, print that information to the console and scrub the launch.\n",
    "- If all checks are successful, print a countdown to launch in the console."
   ]
  },
  {
   "cell_type": "code",
   "execution_count": 8,
   "metadata": {},
   "outputs": [
    {
     "name": "stdout",
     "output_type": "stream",
     "text": [
      "WARNING: Insufficient fuel!\n",
      "Launch cancelled.\n"
     ]
    }
   ],
   "source": [
    "launch_ready = False\n",
    "fuel_level = 0\n",
    "crew_status = True\n",
    "computer_status = 'green'\n",
    "\n",
    "if fuel_level >= 20000:\n",
    "    print('Fuel Level Cleared.')\n",
    "    if crew_status is True and computer_status == 'green':\n",
    "        print('Crew and computer cleared.')\n",
    "        launch_ready = True\n",
    "    else:\n",
    "        print('WARNING: Crew or computer not ready!')\n",
    "        launch_ready = False\n",
    "else:\n",
    "    print('WARNING: Insufficient fuel!')\n",
    "    launch_ready = False\n",
    "    \n",
    "\n",
    "    \n",
    "if launch_ready is True:\n",
    "    print('10, 9, 8, 7, 6, 5, 4, 3, 2, 1...')\n",
    "    print('Liftoff!')\n",
    "else:\n",
    "    print('Launch cancelled.')"
   ]
  },
  {
   "cell_type": "markdown",
   "metadata": {},
   "source": [
    "<a id='section4'></a>\n",
    "## 4. Breakout Session 4\n",
    "Create an algorithm that estimates the square root of a value.  Use it to find a good approximation of the square root of 200. If your result is x, x^2 should **NOT** be greater than 200\n",
    "\n",
    "For reference, the square root of 200 is 14.1421356237"
   ]
  },
  {
   "cell_type": "code",
   "execution_count": 23,
   "metadata": {},
   "outputs": [
    {
     "name": "stdout",
     "output_type": "stream",
     "text": [
      "Estimated square root of 200: 15\n"
     ]
    }
   ],
   "source": [
    "x = 0\n",
    "#step = 1\n",
    "\n",
    "while x^2 < 200:  #while x^2 is less than 200\n",
    "    x = x + 1   #increase x by step size of 1\n",
    "    #print(x)\n",
    "\n",
    "print('Estimated square root of 200:', x)\n",
    "#print(x**2)"
   ]
  },
  {
   "cell_type": "markdown",
   "metadata": {},
   "source": [
    "<a id='section5'></a>\n",
    "## 5. Breakout Session 5\n",
    "Calculation of the deflection of a beam. Find and correct the errors in the following code.  The complete formula can be found in Week 1 Lecture 3."
   ]
  },
  {
   "cell_type": "code",
   "execution_count": null,
   "metadata": {
    "scrolled": true
   },
   "outputs": [],
   "source": [
    "P = 100           # Force applied in Newtons\n",
    "a = 6             # Distance in m to the force\n",
    "l = 13            # Total length of beam\n",
    "E = 2.0685e11     # Young’s modulus in Pa\n",
    "I = 0.005208      # Moment of inertia in m^4\n",
    "delta_max = Pa**2/6*E*I*(3l-a)"
   ]
  },
  {
   "cell_type": "code",
   "execution_count": null,
   "metadata": {},
   "outputs": [],
   "source": []
  }
 ],
 "metadata": {
  "kernelspec": {
   "display_name": "Python 3 (ipykernel)",
   "language": "python",
   "name": "python3"
  },
  "language_info": {
   "codemirror_mode": {
    "name": "ipython",
    "version": 3
   },
   "file_extension": ".py",
   "mimetype": "text/x-python",
   "name": "python",
   "nbconvert_exporter": "python",
   "pygments_lexer": "ipython3",
   "version": "3.9.7"
  }
 },
 "nbformat": 4,
 "nbformat_minor": 1
}
