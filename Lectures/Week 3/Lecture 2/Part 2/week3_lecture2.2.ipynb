{
 "cells": [
  {
   "cell_type": "markdown",
   "metadata": {
    "collapsed": true
   },
   "source": [
    "# APS106 - Fundamentals of Computer Programming\n",
    "## Week 3 - More `for` Loops\n",
    "\n",
    "### Lecture Structure\n",
    "1. [Breakout Session 1](#section1)\n",
    "2. [Using `range()`](#section2)\n",
    "3. [Breakout Session 2](#section4)\n",
    "4. [Nested for Loops](#section5)\n",
    "5. [Turtles](#section6)\n",
    "7. [Grid](#section7)\n",
    "8. [Breakout Session 3](#section8)\n",
    "9. [Advanced Turtles](#section9)"
   ]
  },
  {
   "cell_type": "markdown",
   "metadata": {},
   "source": [
    "<a id='section1'></a>\n",
    "## 1. Breakout Session 1\n",
    "We need to remove all punctuation from the text of each tweet so we can conducted a more detailed analysis. If any of the characters in `punctuations` are in a tweet, we want to replace them with a space `' '`.\n",
    "\n",
    "```python\n",
    "punctuations = '!\"#$%&\\'()*+,-./:;<=>?@[\\\\]^_`{|}~'\n",
    "```"
   ]
  },
  {
   "cell_type": "markdown",
   "metadata": {},
   "source": [
    "First, let's look at two of Dean Yip's tweets."
   ]
  },
  {
   "cell_type": "code",
   "execution_count": 4,
   "metadata": {},
   "outputs": [
    {
     "name": "stdout",
     "output_type": "stream",
     "text": [
      "\n",
      "Totally agree. - so awesome to see students in person -  \n",
      "and not just students but faculty, staff - and everyone in the  \n",
      "@uoftengineering community -\n",
      "\n"
     ]
    }
   ],
   "source": [
    "tweet_1 = \"\"\"\n",
    "Totally agree. - so awesome to see students in person -  \n",
    "and not just students but faculty, staff - and everyone in the  \n",
    "@uoftengineering community -\n",
    "\"\"\"\n",
    "print(tweet_1)"
   ]
  },
  {
   "cell_type": "code",
   "execution_count": 5,
   "metadata": {},
   "outputs": [
    {
     "name": "stdout",
     "output_type": "stream",
     "text": [
      "\n",
      "great to hear from Prof. Bussman, Chair of @uoftmie \n",
      "about all the stuff that MechE do .... - amazing  \n",
      "breadth of impact... exciting stuff across so many domains\n",
      "\n"
     ]
    }
   ],
   "source": [
    "tweet_2 = \"\"\"\n",
    "great to hear from Prof. Bussman, Chair of @uoftmie \n",
    "about all the stuff that MechE do .... - amazing  \n",
    "breadth of impact... exciting stuff across so many domains\n",
    "\"\"\"\n",
    "print(tweet_2)"
   ]
  },
  {
   "cell_type": "markdown",
   "metadata": {},
   "source": [
    "Complete the function below.\n",
    "\n",
    "Hint: `.replace()`"
   ]
  },
  {
   "cell_type": "code",
   "execution_count": 9,
   "metadata": {},
   "outputs": [],
   "source": [
    "def remove_punctuation(string):\n",
    "    \"\"\"\n",
    "    (str) -> str\n",
    "    Return string with puncutations replaced by a single space.\n",
    "    And make lowercase\n",
    "    \"\"\"\n",
    "\n",
    "    # Set punctuations (HINT: use this string)\n",
    "    punctuations = '!\"#$%&\\'()*+,-./:;<=>?@[\\\\]^_`{|}~'\n",
    "    \n",
    "    #Make string lower case\n",
    "    string = string.lower()\n",
    "\n",
    "    # Loop through characters in string \n",
    "    for character in string:\n",
    "        \n",
    "        # Check if the character is punctuation\n",
    "        if character in punctuations:\n",
    "        \n",
    "            # Replace punctuations with a space\n",
    "            #character = string + ' '\n",
    "            string = string.replace(character, ' ')\n",
    "            \n",
    "\n",
    "    #check docstring, are we supposed to return anything?\n",
    "    return string"
   ]
  },
  {
   "cell_type": "markdown",
   "metadata": {},
   "source": [
    "Let's test out our function.\n",
    "#### Tweet 1"
   ]
  },
  {
   "cell_type": "code",
   "execution_count": 10,
   "metadata": {},
   "outputs": [
    {
     "name": "stdout",
     "output_type": "stream",
     "text": [
      "Original Text\n",
      "\n",
      "Totally agree. - so awesome to see students in person -  \n",
      "and not just students but faculty, staff - and everyone in the  \n",
      "@uoftengineering community -\n",
      "\n",
      "\n",
      "Processed Text\n",
      "\n",
      "totally agree    so awesome to see students in person    \n",
      "and not just students but faculty  staff   and everyone in the  \n",
      " uoftengineering community  \n",
      "\n"
     ]
    }
   ],
   "source": [
    "print('Original Text')\n",
    "print(tweet_1)\n",
    "print('\\nProcessed Text')\n",
    "print(remove_punctuation(tweet_1))"
   ]
  },
  {
   "cell_type": "markdown",
   "metadata": {},
   "source": [
    "#### Tweet 2"
   ]
  },
  {
   "cell_type": "code",
   "execution_count": 11,
   "metadata": {},
   "outputs": [
    {
     "name": "stdout",
     "output_type": "stream",
     "text": [
      "Original Text\n",
      "\n",
      "great to hear from Prof. Bussman, Chair of @uoftmie \n",
      "about all the stuff that MechE do .... - amazing  \n",
      "breadth of impact... exciting stuff across so many domains\n",
      "\n",
      "\n",
      "Processed Text\n",
      "\n",
      "great to hear from prof  bussman  chair of  uoftmie \n",
      "about all the stuff that meche do        amazing  \n",
      "breadth of impact    exciting stuff across so many domains\n",
      "\n"
     ]
    }
   ],
   "source": [
    "print('Original Text')\n",
    "print(tweet_2)\n",
    "print('\\nProcessed Text')\n",
    "print(remove_punctuation(tweet_2))"
   ]
  },
  {
   "cell_type": "markdown",
   "metadata": {},
   "source": [
    "<a id='section2'></a>\n",
    "## 2. Using `range()`\n",
    "Python has a built-in function called range() that is useful to use when you want to generate a sequence of numbers. You can type help(range) in the Python interpreter."
   ]
  },
  {
   "cell_type": "code",
   "execution_count": 12,
   "metadata": {},
   "outputs": [
    {
     "name": "stdout",
     "output_type": "stream",
     "text": [
      "Help on class range in module builtins:\n",
      "\n",
      "class range(object)\n",
      " |  range(stop) -> range object\n",
      " |  range(start, stop[, step]) -> range object\n",
      " |  \n",
      " |  Return an object that produces a sequence of integers from start (inclusive)\n",
      " |  to stop (exclusive) by step.  range(i, j) produces i, i+1, i+2, ..., j-1.\n",
      " |  start defaults to 0, and stop is omitted!  range(4) produces 0, 1, 2, 3.\n",
      " |  These are exactly the valid indices for a list of 4 elements.\n",
      " |  When step is given, it specifies the increment (or decrement).\n",
      " |  \n",
      " |  Methods defined here:\n",
      " |  \n",
      " |  __bool__(self, /)\n",
      " |      True if self else False\n",
      " |  \n",
      " |  __contains__(self, key, /)\n",
      " |      Return key in self.\n",
      " |  \n",
      " |  __eq__(self, value, /)\n",
      " |      Return self==value.\n",
      " |  \n",
      " |  __ge__(self, value, /)\n",
      " |      Return self>=value.\n",
      " |  \n",
      " |  __getattribute__(self, name, /)\n",
      " |      Return getattr(self, name).\n",
      " |  \n",
      " |  __getitem__(self, key, /)\n",
      " |      Return self[key].\n",
      " |  \n",
      " |  __gt__(self, value, /)\n",
      " |      Return self>value.\n",
      " |  \n",
      " |  __hash__(self, /)\n",
      " |      Return hash(self).\n",
      " |  \n",
      " |  __iter__(self, /)\n",
      " |      Implement iter(self).\n",
      " |  \n",
      " |  __le__(self, value, /)\n",
      " |      Return self<=value.\n",
      " |  \n",
      " |  __len__(self, /)\n",
      " |      Return len(self).\n",
      " |  \n",
      " |  __lt__(self, value, /)\n",
      " |      Return self<value.\n",
      " |  \n",
      " |  __ne__(self, value, /)\n",
      " |      Return self!=value.\n",
      " |  \n",
      " |  __reduce__(...)\n",
      " |      Helper for pickle.\n",
      " |  \n",
      " |  __repr__(self, /)\n",
      " |      Return repr(self).\n",
      " |  \n",
      " |  __reversed__(...)\n",
      " |      Return a reverse iterator.\n",
      " |  \n",
      " |  count(...)\n",
      " |      rangeobject.count(value) -> integer -- return number of occurrences of value\n",
      " |  \n",
      " |  index(...)\n",
      " |      rangeobject.index(value) -> integer -- return index of value.\n",
      " |      Raise ValueError if the value is not present.\n",
      " |  \n",
      " |  ----------------------------------------------------------------------\n",
      " |  Static methods defined here:\n",
      " |  \n",
      " |  __new__(*args, **kwargs) from builtins.type\n",
      " |      Create and return a new object.  See help(type) for accurate signature.\n",
      " |  \n",
      " |  ----------------------------------------------------------------------\n",
      " |  Data descriptors defined here:\n",
      " |  \n",
      " |  start\n",
      " |  \n",
      " |  step\n",
      " |  \n",
      " |  stop\n",
      "\n"
     ]
    }
   ],
   "source": [
    "help(range)"
   ]
  },
  {
   "cell_type": "markdown",
   "metadata": {},
   "source": [
    "`range()` produces a sequence of numbers starting at start and up to but *not including* stop. Just like in slicing.\n",
    "\n",
    "`range()` is typically used in a for loop to iterate over a sequence of numbers. \n",
    "\n",
    "**What Can You Do with range()?**\n",
    "\n",
    "You can tell `range()` what index to start at if you don't want to start at the default which is 0."
   ]
  },
  {
   "cell_type": "code",
   "execution_count": 16,
   "metadata": {},
   "outputs": [
    {
     "name": "stdout",
     "output_type": "stream",
     "text": [
      "30\n",
      "0 A\n",
      "1 T\n",
      "2 G\n",
      "3 G\n",
      "4 G\n",
      "5 C\n",
      "6 A\n",
      "7 A\n",
      "8 T\n",
      "9 C\n",
      "10 G\n",
      "11 A\n",
      "12 T\n",
      "13 G\n",
      "14 G\n",
      "15 C\n",
      "16 C\n",
      "17 T\n",
      "18 A\n",
      "19 A\n",
      "20 T\n",
      "21 C\n",
      "22 T\n",
      "23 C\n",
      "24 T\n",
      "25 C\n",
      "26 T\n",
      "27 A\n",
      "28 A\n",
      "29 G\n",
      "29\n"
     ]
    }
   ],
   "source": [
    "chrome_4 = \"ATGGGCAATCGATGGCCTAATCTCTCTAAG\"\n",
    "\n",
    "print(len(chrome_4))\n",
    "\n",
    "for i in range(0,len(chrome_4)) :\n",
    "    print(i, chrome_4[i])\n",
    "    \n",
    "print(i)\n",
    "    \n"
   ]
  },
  {
   "cell_type": "markdown",
   "metadata": {},
   "source": [
    "You can even specify the \"step\" for range: how do you increment the numbers?. The default step size is 1, which means that numbers increment by 1. The example below starts at index 1 and its step size is three (goes to every third index)."
   ]
  },
  {
   "cell_type": "code",
   "execution_count": 17,
   "metadata": {},
   "outputs": [
    {
     "name": "stdout",
     "output_type": "stream",
     "text": [
      "1 T\n",
      "4 G\n",
      "7 A\n",
      "10 G\n",
      "13 G\n",
      "16 C\n",
      "19 A\n",
      "22 T\n",
      "25 C\n",
      "28 A\n"
     ]
    }
   ],
   "source": [
    "for i in range(1, len(chrome_4), 3):\n",
    "    print(i, chrome_4[i])"
   ]
  },
  {
   "cell_type": "markdown",
   "metadata": {},
   "source": [
    "This also gives us flexibility to process only part of a string. For example, we can print only the first half of the list:"
   ]
  },
  {
   "cell_type": "code",
   "execution_count": 18,
   "metadata": {},
   "outputs": [
    {
     "name": "stdout",
     "output_type": "stream",
     "text": [
      "A T G G G C A A T C G A T G G "
     ]
    }
   ],
   "source": [
    "for i in range(len(chrome_4) // 2):\n",
    "    print(chrome_4[i], end=\" \")"
   ]
  },
  {
   "cell_type": "markdown",
   "metadata": {},
   "source": [
    "More examples"
   ]
  },
  {
   "cell_type": "code",
   "execution_count": 21,
   "metadata": {},
   "outputs": [
    {
     "name": "stdout",
     "output_type": "stream",
     "text": [
      "0\n",
      "1\n",
      "2\n",
      "3\n",
      "4\n",
      "5\n",
      "6\n",
      "7\n",
      "8\n",
      "9\n",
      "10\n",
      "11\n",
      "12\n",
      "13\n",
      "14\n",
      "15\n",
      "16\n",
      "17\n",
      "18\n",
      "19\n",
      "20\n",
      "21\n",
      "22\n",
      "23\n",
      "24\n",
      "25\n",
      "26\n",
      "27\n",
      "28\n",
      "29\n"
     ]
    }
   ],
   "source": [
    "# Iterate over the numbers 0, 1, 2, 3, and 4\n",
    "for i in range(len(chrome_4)):\n",
    "    print(i)"
   ]
  },
  {
   "cell_type": "code",
   "execution_count": 22,
   "metadata": {},
   "outputs": [
    {
     "name": "stdout",
     "output_type": "stream",
     "text": [
      "2\n",
      "3\n",
      "4\n"
     ]
    }
   ],
   "source": [
    "# Iterate over the numbers 2, 3, and 4\n",
    "for i in range(2, 5):\n",
    "    print(i)"
   ]
  },
  {
   "cell_type": "code",
   "execution_count": 23,
   "metadata": {},
   "outputs": [
    {
     "name": "stdout",
     "output_type": "stream",
     "text": [
      "3\n",
      "6\n",
      "9\n",
      "12\n",
      "15\n",
      "18\n"
     ]
    }
   ],
   "source": [
    "# Iterate over the numbers 3, 6, 9, 12, 15, and 18\n",
    "for i in range(3, 20, 3):\n",
    "    print(i)"
   ]
  },
  {
   "cell_type": "markdown",
   "metadata": {},
   "source": [
    "<a id='section3'></a>\n",
    "## 3. Breakout Session 2\n",
    "Add up all the even numbers between 1 and 100 (inclusive) using a `for` loop and `range()`.\n",
    "\n",
    "```python\n",
    "2 + 4 + ... + 98 + 100\n",
    "```\n",
    "\n",
    "Write your code here."
   ]
  },
  {
   "cell_type": "code",
   "execution_count": 24,
   "metadata": {},
   "outputs": [
    {
     "name": "stdout",
     "output_type": "stream",
     "text": [
      "sum(2 + 4 + ... + 96 + 98 + 100) = 2550\n"
     ]
    }
   ],
   "source": [
    "total = 0\n",
    "\n",
    "for number in range(1,101):\n",
    "    \n",
    "    if number % 2 == 0:\n",
    "    \n",
    "        total = total + number\n",
    "\n",
    "print('sum(2 + 4 + ... + 96 + 98 + 100) =', total)"
   ]
  },
  {
   "cell_type": "code",
   "execution_count": 25,
   "metadata": {},
   "outputs": [
    {
     "name": "stdout",
     "output_type": "stream",
     "text": [
      "2550\n"
     ]
    }
   ],
   "source": [
    "total = 0\n",
    "\n",
    "for number in range(2,101,2):\n",
    "    \n",
    "    total += number\n",
    "print(total)\n"
   ]
  },
  {
   "cell_type": "markdown",
   "metadata": {},
   "source": [
    "<a id='section4'></a>\n",
    "## 4. Breakout Session 3\n",
    "Write a function that returns the number of times that a character and the next character are the same.  \n",
    "```python\n",
    "count_adjacent_repeats('abccdeffggh')\n",
    ">>> 3\n",
    "\n",
    "count_adjacent_repeats('lfkdgdwefopkgtrjhhjhhjjj')\n",
    ">>> 4\n",
    "```"
   ]
  },
  {
   "cell_type": "code",
   "execution_count": 29,
   "metadata": {},
   "outputs": [],
   "source": [
    "def count_adjacent_repeats(s):\n",
    "    \"\"\"\n",
    "    (str) -> int\n",
    "    Returns the number of times that two consecutive characters are the same\n",
    "    \"\"\"\n",
    "    #define our accumulator\n",
    "    repeats = 0\n",
    "    \n",
    "    #loop through s (how many times?)\n",
    "    for index in range(len(s)):    \n",
    "        \n",
    "        #check if equal to character after (or before)\n",
    "        if s[index] == s[index-1]:\n",
    "            repeats += 1\n",
    "        \n",
    "    #what do we return?\n",
    "    return repeats\n",
    "    "
   ]
  },
  {
   "cell_type": "markdown",
   "metadata": {},
   "source": [
    "#### Test 1"
   ]
  },
  {
   "cell_type": "code",
   "execution_count": 30,
   "metadata": {},
   "outputs": [
    {
     "name": "stdout",
     "output_type": "stream",
     "text": [
      "3\n"
     ]
    }
   ],
   "source": [
    "print(count_adjacent_repeats('abccdeffggh'))"
   ]
  },
  {
   "cell_type": "markdown",
   "metadata": {},
   "source": [
    "#### Test 2"
   ]
  },
  {
   "cell_type": "code",
   "execution_count": 31,
   "metadata": {},
   "outputs": [
    {
     "name": "stdout",
     "output_type": "stream",
     "text": [
      "4\n"
     ]
    }
   ],
   "source": [
    "print(count_adjacent_repeats('jlfkdgdwefopkgtrjhhjhhjjj'))"
   ]
  },
  {
   "cell_type": "markdown",
   "metadata": {},
   "source": [
    "<a id='section5'></a>\n",
    "## 5. Nested `for` Loops"
   ]
  },
  {
   "cell_type": "code",
   "execution_count": null,
   "metadata": {},
   "outputs": [],
   "source": [
    "for x in range(2):\n",
    "    for y in range(3):\n",
    "        for z in range(4):\n",
    "            print('x =', x, ', y =', y, ', z =',z)"
   ]
  },
  {
   "cell_type": "code",
   "execution_count": 32,
   "metadata": {
    "scrolled": true
   },
   "outputs": [
    {
     "name": "stdout",
     "output_type": "stream",
     "text": [
      "10 1\n",
      "10 2\n",
      "10 3\n",
      "10 4\n",
      "11 1\n",
      "11 2\n",
      "11 3\n",
      "11 4\n",
      "12 1\n",
      "12 2\n",
      "12 3\n",
      "12 4\n"
     ]
    }
   ],
   "source": [
    "for i in range(10, 13):\n",
    "    for j in range(1, 5):\n",
    "        print(i, j)"
   ]
  },
  {
   "cell_type": "markdown",
   "metadata": {},
   "source": [
    "What is going on here? Let's add some `print` statements to help jus understand."
   ]
  },
  {
   "cell_type": "code",
   "execution_count": 33,
   "metadata": {},
   "outputs": [
    {
     "name": "stdout",
     "output_type": "stream",
     "text": [
      "Outer loop: i = 10\n",
      "  Inner loop: j = 1\n",
      "  Inner loop: j = 2\n",
      "  Inner loop: j = 3\n",
      "  Inner loop: j = 4\n",
      "Outer loop: i = 11\n",
      "  Inner loop: j = 1\n",
      "  Inner loop: j = 2\n",
      "  Inner loop: j = 3\n",
      "  Inner loop: j = 4\n",
      "Outer loop: i = 12\n",
      "  Inner loop: j = 1\n",
      "  Inner loop: j = 2\n",
      "  Inner loop: j = 3\n",
      "  Inner loop: j = 4\n"
     ]
    }
   ],
   "source": [
    "for i in range(10, 13):\n",
    "    print(\"Outer loop: i =\", i)\n",
    "    for j in range(1, 5):\n",
    "        print(\"  Inner loop: j =\", j)"
   ]
  },
  {
   "cell_type": "markdown",
   "metadata": {},
   "source": [
    "Notice that when `i` is 10, the inner loop executes in its entirety, and only after `j` has ranged from 1 through 4 is `i` incremented to the value 11."
   ]
  }
 ],
 "metadata": {
  "kernelspec": {
   "display_name": "Python 3 (ipykernel)",
   "language": "python",
   "name": "python3"
  },
  "language_info": {
   "codemirror_mode": {
    "name": "ipython",
    "version": 3
   },
   "file_extension": ".py",
   "mimetype": "text/x-python",
   "name": "python",
   "nbconvert_exporter": "python",
   "pygments_lexer": "ipython3",
   "version": "3.10.9"
  }
 },
 "nbformat": 4,
 "nbformat_minor": 1
}
