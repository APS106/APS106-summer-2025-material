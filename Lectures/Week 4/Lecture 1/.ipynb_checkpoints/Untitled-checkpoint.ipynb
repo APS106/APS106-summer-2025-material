{
 "cells": [
  {
   "cell_type": "code",
   "execution_count": 19,
   "id": "9e19c00e",
   "metadata": {
    "scrolled": true
   },
   "outputs": [
    {
     "name": "stdout",
     "output_type": "stream",
     "text": [
      "Un\n",
      "nU\n",
      "iv\n",
      "nUvi\n",
      "er\n",
      "nUvire\n",
      "si\n",
      "nUvireis\n",
      "ty\n",
      "nUvireisyt\n",
      "\n",
      "nUvireisyt\n",
      "\n",
      "nUvireisyt\n",
      "\n",
      "nUvireisyt\n",
      "\n",
      "nUvireisyt\n",
      "\n",
      "nUvireisyt\n"
     ]
    }
   ],
   "source": [
    "x = 'University'\n",
    "\n",
    "k = 2\n",
    "sub = x[k*0:k*1]\n",
    "sub2 = x[k*1:k*2]\n",
    "\n",
    "new_list = []\n",
    "\n",
    "new_str = ''\n",
    "\n",
    "for i in range(len(x)):\n",
    "    sub_str = x[(k*i):(k*(i+1))]\n",
    "    \n",
    "    print(sub_str)\n",
    "    index = -1\n",
    "    while index > -(len(sub_str)+1):\n",
    "        #new_list.append(sub_str[index])\n",
    "        new_str = new_str + sub_str[index]\n",
    "        index -= 1\n",
    "    \n",
    "    #print(new_list)\n",
    "    print(new_str)\n"
   ]
  },
  {
   "cell_type": "code",
   "execution_count": 21,
   "id": "e21c40c2",
   "metadata": {},
   "outputs": [
    {
     "name": "stdout",
     "output_type": "stream",
     "text": [
      "4\n"
     ]
    }
   ],
   "source": [
    "def square(num):\n",
    "    return num*num\n",
    "\n",
    "product = square(2)\n",
    "print(product)"
   ]
  },
  {
   "cell_type": "code",
   "execution_count": null,
   "id": "3fa0bc27",
   "metadata": {},
   "outputs": [],
   "source": []
  }
 ],
 "metadata": {
  "kernelspec": {
   "display_name": "Python 3 (ipykernel)",
   "language": "python",
   "name": "python3"
  },
  "language_info": {
   "codemirror_mode": {
    "name": "ipython",
    "version": 3
   },
   "file_extension": ".py",
   "mimetype": "text/x-python",
   "name": "python",
   "nbconvert_exporter": "python",
   "pygments_lexer": "ipython3",
   "version": "3.10.9"
  }
 },
 "nbformat": 4,
 "nbformat_minor": 5
}
