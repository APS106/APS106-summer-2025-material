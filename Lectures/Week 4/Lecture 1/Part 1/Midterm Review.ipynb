{
 "cells": [
  {
   "cell_type": "code",
   "execution_count": 185,
   "id": "10604a51",
   "metadata": {},
   "outputs": [
    {
     "name": "stdout",
     "output_type": "stream",
     "text": [
      "Local variable: 5\n",
      "Global variable: 10\n"
     ]
    },
    {
     "ename": "NameError",
     "evalue": "name 'local_var' is not defined",
     "output_type": "error",
     "traceback": [
      "\u001b[0;31m---------------------------------------------------------------------------\u001b[0m",
      "\u001b[0;31mNameError\u001b[0m                                 Traceback (most recent call last)",
      "Cell \u001b[0;32mIn[185], line 12\u001b[0m\n\u001b[1;32m      8\u001b[0m     \u001b[38;5;28mprint\u001b[39m(\u001b[38;5;124m\"\u001b[39m\u001b[38;5;124mGlobal variable:\u001b[39m\u001b[38;5;124m\"\u001b[39m, global_var)\n\u001b[1;32m     10\u001b[0m my_function()\n\u001b[0;32m---> 12\u001b[0m \u001b[38;5;28mprint\u001b[39m(\u001b[43mlocal_var\u001b[49m)\n",
      "\u001b[0;31mNameError\u001b[0m: name 'local_var' is not defined"
     ]
    }
   ],
   "source": [
    "#global vs local variables\n",
    "\n",
    "global_var = 10\n",
    "\n",
    "def my_function():\n",
    "    local_var = 5\n",
    "    print(\"Local variable:\", local_var)\n",
    "    print(\"Global variable:\", global_var)\n",
    "\n",
    "my_function()\n",
    "\n",
    "print(local_var)"
   ]
  },
  {
   "cell_type": "code",
   "execution_count": 186,
   "id": "ed0c9930",
   "metadata": {},
   "outputs": [
    {
     "name": "stdout",
     "output_type": "stream",
     "text": [
      "Local variable: 5\n",
      "Global variable: 5\n"
     ]
    }
   ],
   "source": [
    "#global vs local variables\n",
    "\n",
    "global_var = 10\n",
    "\n",
    "def my_function():\n",
    "    local_var = 5\n",
    "    global_var = 5\n",
    "    print(\"Local variable:\", local_var)\n",
    "    print(\"Global variable:\", global_var)\n",
    "\n",
    "my_function()"
   ]
  },
  {
   "cell_type": "code",
   "execution_count": null,
   "id": "cf01ab1f",
   "metadata": {},
   "outputs": [],
   "source": [
    "del global_var\n",
    "#del local_var"
   ]
  },
  {
   "cell_type": "code",
   "execution_count": 188,
   "id": "81fbd436",
   "metadata": {},
   "outputs": [
    {
     "name": "stdout",
     "output_type": "stream",
     "text": [
      "Local variable: 5\n"
     ]
    },
    {
     "ename": "NameError",
     "evalue": "name 'local_var' is not defined",
     "output_type": "error",
     "traceback": [
      "\u001b[0;31m---------------------------------------------------------------------------\u001b[0m",
      "\u001b[0;31mNameError\u001b[0m                                 Traceback (most recent call last)",
      "Cell \u001b[0;32mIn[188], line 14\u001b[0m\n\u001b[1;32m      8\u001b[0m     \u001b[38;5;28mprint\u001b[39m(\u001b[38;5;124m\"\u001b[39m\u001b[38;5;124mLocal variable:\u001b[39m\u001b[38;5;124m\"\u001b[39m, local_var)\n\u001b[1;32m     12\u001b[0m my_function()\n\u001b[0;32m---> 14\u001b[0m \u001b[38;5;28mprint\u001b[39m(\u001b[38;5;124m\"\u001b[39m\u001b[38;5;124mLocal variable:\u001b[39m\u001b[38;5;124m\"\u001b[39m, \u001b[43mlocal_var\u001b[49m)\n\u001b[1;32m     15\u001b[0m \u001b[38;5;28mprint\u001b[39m(\u001b[38;5;124m\"\u001b[39m\u001b[38;5;124mGlobal variable:\u001b[39m\u001b[38;5;124m\"\u001b[39m, global_var)\n",
      "\u001b[0;31mNameError\u001b[0m: name 'local_var' is not defined"
     ]
    }
   ],
   "source": [
    "#global vs local variables\n",
    "\n",
    "global_var = 10\n",
    "\n",
    "def my_function():\n",
    "    local_var = 5\n",
    "    global_var = 5\n",
    "    print(\"Local variable:\", local_var)\n",
    "            \n",
    "    \n",
    "\n",
    "my_function()\n",
    "\n",
    "print(\"Local variable:\", local_var)\n",
    "print(\"Global variable:\", global_var)\n"
   ]
  },
  {
   "cell_type": "code",
   "execution_count": 189,
   "id": "58b07478",
   "metadata": {},
   "outputs": [
    {
     "name": "stdout",
     "output_type": "stream",
     "text": [
      "Global variable: 10\n"
     ]
    }
   ],
   "source": [
    "#global vs local variables\n",
    "\n",
    "global_var = 10\n",
    "\n",
    "def my_function():\n",
    "\n",
    "    global_var = 5\n",
    "    \n",
    "    #return global_var\n",
    "    \n",
    "\n",
    "my_function()\n",
    "\n",
    "print(\"Global variable:\", global_var)"
   ]
  },
  {
   "cell_type": "code",
   "execution_count": 179,
   "id": "cc3063b5",
   "metadata": {
    "scrolled": true
   },
   "outputs": [
    {
     "name": "stdout",
     "output_type": "stream",
     "text": [
      "hihihihihi\n",
      "None\n"
     ]
    }
   ],
   "source": [
    "def func1(x):\n",
    "    '''\n",
    "    (int) -> str\n",
    "    '''\n",
    "    return 'hi'*x\n",
    "\n",
    "def func2(x):\n",
    "    '''\n",
    "    (int) -> None\n",
    "    '''\n",
    "    print('hi'*x)\n",
    "\n",
    "x = func2(5)\n",
    "\n",
    "print(x)\n"
   ]
  },
  {
   "cell_type": "code",
   "execution_count": 190,
   "id": "7f70f938",
   "metadata": {},
   "outputs": [],
   "source": [
    "#count the number of vowels\n",
    "\n",
    "def countv(string):\n",
    "    '''\n",
    "    (str)->int\n",
    "    '''\n",
    "    \n",
    "    \n",
    "    string = string.lower()\n",
    "    \n",
    "    counter = 0\n",
    "\n",
    "    \n",
    "    for letter in string:\n",
    "        if (letter == 'a') and (letter == 'e') and (letter == 'i') or (letter == 'o') or (letter = 'u'):\n",
    "        \n",
    "            counter += 1\n",
    "    \n",
    "    return counter\n",
    "            "
   ]
  },
  {
   "cell_type": "code",
   "execution_count": 195,
   "id": "a36cbd4b",
   "metadata": {},
   "outputs": [
    {
     "name": "stdout",
     "output_type": "stream",
     "text": [
      "asdfLKJKLJfeie\n"
     ]
    }
   ],
   "source": [
    "#swap cases of each letter\n",
    "\n",
    "x = 'ASDFlkjkljFEIE'\n",
    "\n",
    "swapped_x = ''\n",
    "\n",
    "\n",
    "for letter in x:\n",
    "    \n",
    "    if letter.isupper() == True:\n",
    "        swapped_letter = letter.lower()\n",
    "        \n",
    "    else:\n",
    "        swapped_letter = letter.upper()\n",
    "        \n",
    "    swapped_x = swapped_x + swapped_letter\n",
    "    \n",
    "    \n",
    "print(swapped_x)\n",
    "    "
   ]
  },
  {
   "cell_type": "code",
   "execution_count": 182,
   "id": "8f1880a5",
   "metadata": {},
   "outputs": [
    {
     "name": "stdout",
     "output_type": "stream",
     "text": [
      "h\n",
      "e\n",
      "l\n",
      "l\n",
      "o\n",
      "Continue Y/N : Y\n",
      "Continue Y/N : Y\n",
      "Continue Y/N : Y\n",
      "Continue Y/N : Y\n",
      "Continue Y/N : Y\n",
      "Continue Y/N : Y\n",
      "Continue Y/N : Y\n",
      "Continue Y/N : Y\n",
      "Continue Y/N : Y\n",
      "Continue Y/N : Y\n",
      "Continue Y/N : Y\n",
      "Continue Y/N : Y\n",
      "Continue Y/N : Y\n",
      "Continue Y/N : Y\n",
      "Continue Y/N : j\n"
     ]
    }
   ],
   "source": [
    "#for loops\n",
    "\n",
    "var = 'hello'\n",
    "\n",
    "for item in var:\n",
    "    print(item)\n",
    "\n",
    "'''\n",
    "user = input('Continue Y/N : ')\n",
    "\n",
    "while user == 'Y':\n",
    "    \n",
    "    user = input('Continue Y/N : ')\n",
    "''' \n",
    "\n",
    "counter = 0\n",
    "\n",
    "while counter <= 10:\n",
    "    print(counter)\n",
    "    \n",
    "    counter += 1\n"
   ]
  },
  {
   "cell_type": "code",
   "execution_count": null,
   "id": "16a88ddb",
   "metadata": {},
   "outputs": [],
   "source": [
    "#THIS IS IDENTICAL TO ABOVE WITH A DIFFERENT VARIABLE NAME\n",
    "\n",
    "#global vs local variables\n",
    "\n",
    "global_var = 10\n",
    "\n",
    "def my_function():\n",
    "   \n",
    "    x = 5\n",
    "    return x\n",
    "    \n",
    "\n",
    "my_function()\n",
    "\n",
    "print(\"Global variable:\", global_var)"
   ]
  },
  {
   "cell_type": "code",
   "execution_count": 151,
   "id": "6244c752",
   "metadata": {},
   "outputs": [
    {
     "name": "stdout",
     "output_type": "stream",
     "text": [
      "TniT\n",
      "TiD\n"
     ]
    }
   ],
   "source": [
    "#chaining string methods\n",
    "\n",
    "word = \"CATONIO\"\n",
    "output = word[3:7].lower().replace(\"o\", \"T\")\n",
    "\n",
    "#print('word[3:7].lower()', word[3:7].lower())\n",
    "\n",
    "print(output)\n",
    "output = output[::2] + 'D'\n",
    "print(output)\n"
   ]
  },
  {
   "cell_type": "code",
   "execution_count": null,
   "id": "cb06bf19",
   "metadata": {},
   "outputs": [],
   "source": [
    "def get_season(weather):\n",
    "    if weather == 'Warm':\n",
    "        season = 'Summer'\n",
    "    else:\n",
    "        season = \"winter\"\n",
    "    return season\n",
    "\n",
    "weather = \"Warm\"\n",
    "season = \"Winter\"\n",
    "x = get_season(weather)\n",
    "print(weather, 'in', x)"
   ]
  },
  {
   "cell_type": "code",
   "execution_count": null,
   "id": "0a90158f",
   "metadata": {},
   "outputs": [],
   "source": [
    "print('1','2','3','4')\n",
    "\n",
    "#x = '21'\n",
    "print('1' + '2' + 'asasdfsddsg')"
   ]
  },
  {
   "cell_type": "code",
   "execution_count": null,
   "id": "08c2ddc7",
   "metadata": {},
   "outputs": [],
   "source": [
    "#augmented operators for numbers\n",
    "\n",
    "x = 1\n",
    "x += 5\n",
    "\n",
    "y = 2\n",
    "y *= 3\n",
    "\n",
    "z = x + y\n",
    "print(z)"
   ]
  },
  {
   "cell_type": "code",
   "execution_count": null,
   "id": "1f457c73",
   "metadata": {},
   "outputs": [],
   "source": [
    "#augmented operators with strings\n",
    "\n",
    "x = 'hello'\n",
    "x += ' '\n",
    "x += 'friends'\n",
    "print('x', x)\n",
    "\n",
    "y = 'nom'\n",
    "y *= 10\n",
    "print('y', y)"
   ]
  },
  {
   "cell_type": "code",
   "execution_count": null,
   "id": "81a66f91",
   "metadata": {},
   "outputs": [],
   "source": [
    "#augmented operators with strings\n",
    "\n",
    "z = 'derp'\n",
    "\n",
    "#z += 2\n",
    "\n",
    "z *= 'boop'\n",
    "\n",
    "print(z)"
   ]
  },
  {
   "cell_type": "code",
   "execution_count": null,
   "id": "fe8183b7",
   "metadata": {},
   "outputs": [],
   "source": [
    "#range example\n",
    "\n",
    "#What's the output?\n",
    "\n",
    "letters = 'abcdefg'\n",
    "for x in range(2, len(letters)):\n",
    "    if x % 3 == 0:\n",
    "        print(letters[x])\n",
    "\n",
    "for x in range(0, len(letters)):  #x iterating over 0, 1 ,2, 3,..  6\n",
    "    "
   ]
  },
  {
   "cell_type": "code",
   "execution_count": null,
   "id": "d001766c",
   "metadata": {},
   "outputs": [],
   "source": [
    "help(range)"
   ]
  },
  {
   "cell_type": "code",
   "execution_count": 132,
   "id": "546c700c",
   "metadata": {},
   "outputs": [
    {
     "name": "stdout",
     "output_type": "stream",
     "text": [
      "B\n",
      "1\n",
      "1\n",
      "None\n"
     ]
    }
   ],
   "source": [
    "#return order matters, and nested function calls\n",
    "#Q2 What is the\n",
    "\n",
    "def f1(n): \n",
    "    return n\n",
    "    print(\"C\")\n",
    "\n",
    "def f2(): \n",
    "    print('B')\n",
    "    return 1\n",
    "\n",
    "    return None\n",
    "\n",
    "def f3(param):\n",
    "    print(param)\n",
    "    \n",
    "    return None\n",
    "    \n",
    "z = f1(f2())  \n",
    "\n",
    "print(z)\n",
    "\n",
    "print(f3(z))"
   ]
  },
  {
   "cell_type": "code",
   "execution_count": null,
   "id": "683cfafc",
   "metadata": {},
   "outputs": [],
   "source": []
  },
  {
   "cell_type": "code",
   "execution_count": 140,
   "id": "eef16fb7",
   "metadata": {},
   "outputs": [
    {
     "ename": "SyntaxError",
     "evalue": "'[' was never closed (1571841600.py, line 8)",
     "output_type": "error",
     "traceback": [
      "\u001b[0;36m  Cell \u001b[0;32mIn[140], line 8\u001b[0;36m\u001b[0m\n\u001b[0;31m    str_input[len(str_input)-len(first_name) :\u001b[0m\n\u001b[0m             ^\u001b[0m\n\u001b[0;31mSyntaxError\u001b[0m\u001b[0;31m:\u001b[0m '[' was never closed\n"
     ]
    }
   ],
   "source": [
    "#Week 3 Part 1 Question 3a\n",
    "\n",
    "# Prompt the user to enter a string and, using only string \n",
    "# comparison functions, decide if the string starts with your first name. \n",
    "# If it does, print out “How did you know my name?”. If it doesn’t print out\n",
    "# “That's not my name.”\n",
    "\n",
    "str_input = input(\"Please enter your full name (first<space>last or last<space>first): \")\n",
    "first_name = \"ben\"\n",
    "\n",
    "if first_name == str_input[0:len(first_name)] or str_input[len(str_input)-len(first_name):]:\n",
    "    print(\"How did you know my name?\")\n",
    "else:\n",
    "    print(\"That's not my name.\")\n",
    "    \n",
    "    \n",
    "    "
   ]
  },
  {
   "cell_type": "code",
   "execution_count": 143,
   "id": "eca3b5e3",
   "metadata": {},
   "outputs": [
    {
     "name": "stdout",
     "output_type": "stream",
     "text": [
      "Please enter your full name (First<space>Last or last<space>first): Ben Kinsella\n",
      "How\"d you know my name\n"
     ]
    },
    {
     "data": {
      "text/plain": [
       "0"
      ]
     },
     "execution_count": 143,
     "metadata": {},
     "output_type": "execute_result"
    }
   ],
   "source": [
    "str_input = input(\"Please enter your full name (First<space>Last or last<space>first): \")\n",
    "first_name = \"ben\"\n",
    "\n",
    "str_input = str_input.lower()\n",
    "\n",
    "if first_name in str_input:\n",
    "    print('How\"d you know my name')\n",
    "\n",
    "str_input.find('ben')"
   ]
  },
  {
   "cell_type": "code",
   "execution_count": null,
   "id": "954e4b38",
   "metadata": {},
   "outputs": [],
   "source": []
  },
  {
   "cell_type": "code",
   "execution_count": null,
   "id": "4d60e852",
   "metadata": {},
   "outputs": [],
   "source": [
    "#Week 3 Part 1 Question 3b\n",
    "\n",
    "# Prompt the user to enter a string and, using only string \n",
    "# comparison functions, decide if the string starts with your first name. \n",
    "# If it does, print out “How did you know my name?”. If it doesn’t print out\n",
    "# “It’s rude to not know my name.”\n",
    "\n",
    "#b) Write a function that takes two strings and returns True if the two “match”, where this\n",
    "#time “matching” is not case sensitive. (So “Smith” and “smitH” match). Redo part a) using\n",
    "# this function.\n",
    "\n",
    "def string_match(s1, s2):\n",
    "    '''\n",
    "    (str, str) -> bool\n",
    "    Returns True of the strings are identical. Not case sensitive.\n",
    "    '''\n",
    "    return s1.lower() == s2.lower()\n",
    "\n",
    "s = input(\"Please enter your full name (first<space>last): \")\n",
    "first_name = \"ben\"\n",
    "\n",
    "#if len(s) >= len(first_name) and string_match(first_name, s[0:len(first_name)]):\n",
    "if string_match(first_name, s[0:len(first_name)]):\n",
    "    print(\"How did you know my name?\")\n",
    "else:\n",
    "    print(\"That's not my name.\")"
   ]
  },
  {
   "cell_type": "code",
   "execution_count": 150,
   "id": "b4efa136",
   "metadata": {},
   "outputs": [
    {
     "name": "stdout",
     "output_type": "stream",
     "text": [
      "Please enter the string: university\n",
      "Please enter k: 2\n",
      "nu vi re is yt "
     ]
    }
   ],
   "source": [
    "#Week 3 Part 2 Question 3\n",
    "# Write a program that gets the user to enter a string and an integer k \n",
    "# such that the length of the string is a multiple of k.\n",
    "# Chop the string into segments of length k, then print the segments in order\n",
    "# (separated by a space) with the characters in each \n",
    "# segment reversed.\n",
    "#\n",
    "# Example\n",
    "# Please enter the string: University\n",
    "# Please enter k: 2\n",
    "# nU vi re is yt\n",
    "\n",
    "\n",
    "s = input(\"Please enter the string: \")\n",
    "k = int(input(\"Please enter k: \"))\n",
    "\n",
    "# check if k is a factor on n and exit with an error if not\n",
    "n = len(s)\n",
    "\n",
    "if n % k != 0:\n",
    "    print(k, \"does not divide evenly into the string length,\", n)\n",
    "else:\n",
    "    for i in range(0,n,k):\n",
    "        \n",
    "        \n",
    "        substr = s[i:i+k]\n",
    "        \n",
    "        rev_substr = substr[::-1]\n",
    "        \n",
    "        print(rev_substr, end = \" \")\n"
   ]
  },
  {
   "cell_type": "markdown",
   "id": "0fa09b14",
   "metadata": {},
   "source": [
    "# BREAKOUT SESSION"
   ]
  },
  {
   "cell_type": "code",
   "execution_count": 152,
   "id": "75d913d5",
   "metadata": {},
   "outputs": [
    {
     "name": "stdout",
     "output_type": "stream",
     "text": [
      "Please enter the string: university\n",
      "Please enter k: 2\n",
      "nu \n",
      "nu vi \n",
      "nu vi re \n",
      "nu vi re is \n",
      "nu vi re is yt \n"
     ]
    }
   ],
   "source": [
    "#Modify the above question to print out the result out as the following:\n",
    "# Example\n",
    "# Please enter the string: University\n",
    "# Please enter k: 2\n",
    "# nU\n",
    "# nU vi\n",
    "# nU vi re\n",
    "# nU vi re is\n",
    "# nU vi re is yt\n",
    "\n",
    "s = input(\"Please enter the string: \")\n",
    "k = int(input(\"Please enter k: \"))\n",
    "\n",
    "# check if k is a factor on n and exit with an error if not\n",
    "n = len(s)\n",
    "\n",
    "#defining some variable to keep track of your running string may be helpful\n",
    "out_str = ''\n",
    "\n",
    "if n % k != 0:\n",
    "    print(k, \"does not divide evenly into the string length,\", n,)\n",
    "else:\n",
    "    for i in range(0,n,k):\n",
    "        substr = s[i:i+k]\n",
    "        rev_substr = substr[::-1]\n",
    "        \n",
    "        #do something to accumulate your running string\n",
    "        out_str = out_str + rev_substr + ' '\n",
    "        \n",
    "        #maybe you want to display your current version of the string?\n",
    "        print(out_str)\n",
    "        "
   ]
  },
  {
   "cell_type": "code",
   "execution_count": null,
   "id": "50f90d2a",
   "metadata": {},
   "outputs": [],
   "source": [
    "#BREAKOUT SESSION ANSWER\n",
    "\n",
    "#Modify the above question to print out the result out as the following:\n",
    "# Example\n",
    "# Please enter the string: University\n",
    "# Please enter k: 2\n",
    "# nU\n",
    "# nU vi\n",
    "# nU vi re\n",
    "# nU vi re is\n",
    "# nU vi re is yt\n",
    "\n",
    "s = input(\"Please enter the string: \")\n",
    "k = int(input(\"Please enter k: \"))\n",
    "\n",
    "# check if k is a factor on n and exit with an error if not\n",
    "n = len(s)\n",
    "\n",
    "#defining some variable to keep track of your running string may be helpful\n",
    "out_str = ''\n",
    "\n",
    "if n % k != 0:\n",
    "    print(k, \"does not divide evenly into the string length,\", n,)\n",
    "else:\n",
    "    for i in range(0,n,k):\n",
    "        substr = s[i:i+k]\n",
    "        rev_substr = substr[::-1]\n",
    "        \n",
    "        #do something to accumulate your running string\n",
    "        out_str += rev_substr + ' '\n",
    "        \n",
    "        #maybe you want to display your current version of the string?\n",
    "        print(out_str)"
   ]
  },
  {
   "cell_type": "markdown",
   "id": "a2662584",
   "metadata": {},
   "source": [
    "# Breakout Session"
   ]
  },
  {
   "cell_type": "code",
   "execution_count": 159,
   "id": "bacf3f56",
   "metadata": {},
   "outputs": [
    {
     "name": "stdout",
     "output_type": "stream",
     "text": [
      "41\n",
      "5\n",
      "famous\n"
     ]
    }
   ],
   "source": [
    "#string methods\n",
    "\n",
    "big_story = '''In a quaint little town, there lived a curious cat named Oliver. \n",
    "With his striking green eyes and a mischievous grin, he roamed the narrow alleys, \n",
    "bringing joy to everyone he encountered. \n",
    "Oliver had a peculiar talent—he could predict the weather. \n",
    "Every morning, he perched on a windowsill, observing the sky, \n",
    "and meowed accordingly. The townsfolk adored his feline weather forecasts, \n",
    "relying on his predictions for their daily plans. \n",
    "Oliver became a beloved celebrity, \n",
    "with people eagerly awaiting his forecast each day. \n",
    "His presence brought warmth and enchantment to the town, \n",
    "proving that even a small cat could have a big impact on people's lives.'''\n",
    "\n",
    "#count how many \"a\"s appear in the story\n",
    "num_a = big_story.count('a')\n",
    "print(num_a)\n",
    "\n",
    "#count how many times \"his\" appears in the story\n",
    "num_his = big_story.lower().count('his')\n",
    "print(num_his)\n",
    "\n",
    "#if the word \"celebrity\" is in the story, print \"famous\"\n",
    "\n",
    "#if 'celebrity' in big_story:\n",
    "#    print('famous')\n",
    "\n",
    "if big_story.count('celebrity') > 0:\n",
    "    print('famous')\n",
    "    \n",
    "#count occurrences of consecutive letters\n",
    "\n"
   ]
  },
  {
   "cell_type": "code",
   "execution_count": 160,
   "id": "219eae17",
   "metadata": {},
   "outputs": [
    {
     "name": "stdout",
     "output_type": "stream",
     "text": [
      "41\n",
      "4\n",
      "famous\n",
      "7\n"
     ]
    },
    {
     "ename": "IndexError",
     "evalue": "string index out of range",
     "output_type": "error",
     "traceback": [
      "\u001b[0;31m---------------------------------------------------------------------------\u001b[0m",
      "\u001b[0;31mIndexError\u001b[0m                                Traceback (most recent call last)",
      "Cell \u001b[0;32mIn[160], line 38\u001b[0m\n\u001b[1;32m     36\u001b[0m consecutive \u001b[38;5;241m=\u001b[39m \u001b[38;5;241m0\u001b[39m\n\u001b[1;32m     37\u001b[0m \u001b[38;5;28;01mfor\u001b[39;00m i \u001b[38;5;129;01min\u001b[39;00m \u001b[38;5;28mrange\u001b[39m(\u001b[38;5;241m0\u001b[39m,\u001b[38;5;28mlen\u001b[39m(big_story)):\n\u001b[0;32m---> 38\u001b[0m         \u001b[38;5;28;01mif\u001b[39;00m big_story[i] \u001b[38;5;241m==\u001b[39m \u001b[43mbig_story\u001b[49m\u001b[43m[\u001b[49m\u001b[43mi\u001b[49m\u001b[38;5;241;43m+\u001b[39;49m\u001b[38;5;241;43m1\u001b[39;49m\u001b[43m]\u001b[49m:\n\u001b[1;32m     39\u001b[0m             consecutive \u001b[38;5;241m+\u001b[39m\u001b[38;5;241m=\u001b[39m \u001b[38;5;241m1\u001b[39m\n\u001b[1;32m     40\u001b[0m \u001b[38;5;28mprint\u001b[39m(consecutive)\n",
      "\u001b[0;31mIndexError\u001b[0m: string index out of range"
     ]
    }
   ],
   "source": [
    "#STRING METHOD BREAKOUT SESSION ANSWER\n",
    "\n",
    "big_story = '''In a quaint little town, there lived a curious cat named Oliver. \n",
    "With his striking green eyes and a mischievous grin, he roamed the narrow alleys, \n",
    "bringing joy to everyone he encountered. \n",
    "Oliver had a peculiar talent—he could predict the weather. \n",
    "Every morning, he perched on a windowsill, observing the sky, \n",
    "and meowed accordingly. The townsfolk adored his feline weather forecasts, \n",
    "relying on his predictions for their daily plans. \n",
    "Oliver became a beloved celebrity, \n",
    "with people eagerly awaiting his forecast each day. \n",
    "His presence brought warmth and enchantment to the town, \n",
    "proving that even a small cat could have a big impact on people's lives.'''\n",
    "\n",
    "#count how many \"a\"s appear in the story\n",
    "a_count = big_story.add('a')  #I am assume the add function will count the a's\n",
    "print(a_count)\n",
    "\n",
    "#count how many times \"his\" appears in the story\n",
    "his_count = big_story.count('his')\n",
    "print(his_count)\n",
    "\n",
    "#if the word \"celebrity\" is in the story, print \"famous\"\n",
    "if 'celebrity' in big_story:\n",
    "    print('famous')\n",
    "    \n",
    "#count occurrences of consecutive letters\n",
    "consecutive = 0\n",
    "for i in range(1,len(big_story)):\n",
    "        if big_story[i] == big_story[i-1]:\n",
    "            consecutive += 1\n",
    "print(consecutive)\n",
    "\n",
    "#OR\n",
    "\n",
    "consecutive = 0\n",
    "for i in range(0,len(big_story)-1):\n",
    "        if big_story[i] == big_story[i+1]:\n",
    "            consecutive += 1\n",
    "print(consecutive)"
   ]
  },
  {
   "cell_type": "code",
   "execution_count": 198,
   "id": "79c1d10b",
   "metadata": {},
   "outputs": [],
   "source": [
    "#Code requirements\n",
    "'''\n",
    "take in some str sequence like 'ATU' and a number of cycles (int)\n",
    "\n",
    "on odd cycles just duplicate sequence\n",
    "\n",
    "on even cycles, duplicaate sequence  and then add a random mutation, either A C G T or U.\n",
    "'''\n",
    "\n",
    "\n",
    "\n",
    "import random\n",
    "\n",
    "def pcr_simulator(target_seq, num_cycles):\n",
    "    \"\"\"\n",
    "    (str, int) -> str\n",
    "    target_seq: the DNA sequence to be amplified\n",
    "    num_cycles: the number of amplification cycles\n",
    "    Returns: the amplified target sequence generated\n",
    "    considering randomly occurring copying mistakes\n",
    "    \"\"\"\n",
    "\n",
    "    iteration = 0\n",
    "    \n",
    "    amplified_seq = target_seq\n",
    "    \n",
    "    #amplified_seq = ''\n",
    "    \n",
    "    #for iteration in range(num_cycles):\n",
    "    \n",
    "    #there's this randrange you can use\n",
    "    #there's this concat(a,b) you can use that turns concat(a,b) -> ab\n",
    "    while iteration < num_cycles:\n",
    "        \n",
    "        if not(iteration % 2 == 0):\n",
    "            amplified_seq *= 2\n",
    "            \n",
    "        else:\n",
    "            \n",
    "            selector = random.randrange(4) #random number between 0-4\n",
    "            \n",
    "            if selector == 0:\n",
    "                amplified_seq = amplified_seq + amplified_seq + \"A\"\n",
    "            elif selector == 1:\n",
    "                amplified_seq = amplified_seq + amplified_seq + \"C\"\n",
    "            elif selector == 2:\n",
    "                amplified_seq = amplified_seq + amplified_seq + \"G\"\n",
    "            elif selector == 3:\n",
    "                amplified_seq = amplified_seq + amplified_seq + \"T\"\n",
    "            else:\n",
    "                amplified_seq = amplified_seq + amplified_seq + \"U\"\n",
    "                \n",
    "                \n",
    "        iteration += 1\n",
    "        \n",
    "    return amplified_seq\n",
    "\n"
   ]
  },
  {
   "cell_type": "code",
   "execution_count": 201,
   "id": "b19b2095",
   "metadata": {},
   "outputs": [
    {
     "data": {
      "text/plain": [
       "'ATUATUAATUATUA'"
      ]
     },
     "execution_count": 201,
     "metadata": {},
     "output_type": "execute_result"
    }
   ],
   "source": [
    "pcr_simulator('ATU',2)"
   ]
  },
  {
   "cell_type": "code",
   "execution_count": null,
   "id": "33161fab",
   "metadata": {},
   "outputs": [],
   "source": [
    "street_light = detect_light() #look up for street light and return either \"green\" 'yellow' 'red'\n",
    "\n",
    "\n",
    "\n",
    "while street_light == 'green':\n",
    "    drive()\n",
    "    street_light = detect_light()\n",
    "    \n",
    "if street_light == 'yellow' or street_light == 'red':\n",
    "    brake()\n",
    "\n",
    "    \n"
   ]
  },
  {
   "cell_type": "markdown",
   "id": "f114a196",
   "metadata": {},
   "source": [
    "# Breakout Session"
   ]
  },
  {
   "cell_type": "code",
   "execution_count": 168,
   "id": "97b03642",
   "metadata": {},
   "outputs": [
    {
     "name": "stdout",
     "output_type": "stream",
     "text": [
      "Enter a number less than 10 (0-9): 2324\n",
      "Enter a number less than 10 (0-9): 23424\n",
      "Enter a number less than 10 (0-9): 242323\n",
      "Enter a number less than 10 (0-9): 8\n"
     ]
    }
   ],
   "source": [
    "#Practice with while loops and continuing for specific user inputs\n",
    "\n",
    "#Ask a user to input a number less than 10.\n",
    "#Continue asking until they do.\n",
    "\n",
    "#write code here\n",
    "\n",
    "user = int(input('Enter a number less than 10 (0-9): '))\n",
    "\n",
    "while user >= 10:\n",
    "    user = int(input('Enter a number less than 10 (0-9): '))\n",
    "    \n",
    "\n",
    "\n",
    "\n",
    "\n",
    "#answer below (DONT LOOK UNTIL YOU HAVE FINISHED!)\n",
    "\n"
   ]
  },
  {
   "cell_type": "code",
   "execution_count": null,
   "id": "27f23004",
   "metadata": {},
   "outputs": [],
   "source": [
    "user = input(\"Enter number less than 10: \")\n",
    "\n",
    "while (int(user) >= 10):\n",
    "    user = input(\"Enter number less than 10: \")"
   ]
  },
  {
   "cell_type": "code",
   "execution_count": 169,
   "id": "c5b3c5dd",
   "metadata": {},
   "outputs": [
    {
     "name": "stdout",
     "output_type": "stream",
     "text": [
      "Enter number less than 10: 223432\n",
      "Enter number less than 10: 234234\n",
      "Enter number less than 10: a\n",
      "Enter number less than 10: aasdgsqb\n",
      "Enter number less than 10: asdvadsv\n",
      "Enter number less than 10: 8\n"
     ]
    }
   ],
   "source": [
    "user = input(\"Enter number less than 10: \")\n",
    "\n",
    "while user.isalpha() or (int(user) >= 10):\n",
    "    user = input(\"Enter number less than 10: \")"
   ]
  },
  {
   "cell_type": "code",
   "execution_count": null,
   "id": "41f231a4",
   "metadata": {},
   "outputs": [],
   "source": []
  },
  {
   "cell_type": "code",
   "execution_count": null,
   "id": "5189da63",
   "metadata": {},
   "outputs": [],
   "source": [
    "#another while loop exit strategy that works inside of functions\n",
    "\n",
    "def continue_playing():\n",
    "    \n",
    "    while True:\n",
    "        answer = int(input('Enter a number less than 10: '))\n",
    "        \n",
    "        if answer < 10:\n",
    "            return answer"
   ]
  },
  {
   "cell_type": "code",
   "execution_count": null,
   "id": "4c032213",
   "metadata": {},
   "outputs": [],
   "source": [
    "continue_playing()"
   ]
  },
  {
   "cell_type": "code",
   "execution_count": null,
   "id": "96d8e270",
   "metadata": {},
   "outputs": [],
   "source": [
    "#using external modules"
   ]
  },
  {
   "cell_type": "code",
   "execution_count": 170,
   "id": "77744771",
   "metadata": {},
   "outputs": [
    {
     "name": "stdout",
     "output_type": "stream",
     "text": [
      "2.302585092994046\n"
     ]
    }
   ],
   "source": [
    "import math\n",
    "\n",
    "my_log = math.log(10)\n",
    "print(my_log)"
   ]
  },
  {
   "cell_type": "code",
   "execution_count": 171,
   "id": "1f7a5682",
   "metadata": {},
   "outputs": [
    {
     "name": "stdout",
     "output_type": "stream",
     "text": [
      "Help on module math:\n",
      "\n",
      "NAME\n",
      "    math\n",
      "\n",
      "MODULE REFERENCE\n",
      "    https://docs.python.org/3.10/library/math.html\n",
      "    \n",
      "    The following documentation is automatically generated from the Python\n",
      "    source files.  It may be incomplete, incorrect or include features that\n",
      "    are considered implementation detail and may vary between Python\n",
      "    implementations.  When in doubt, consult the module reference at the\n",
      "    location listed above.\n",
      "\n",
      "DESCRIPTION\n",
      "    This module provides access to the mathematical functions\n",
      "    defined by the C standard.\n",
      "\n",
      "FUNCTIONS\n",
      "    acos(x, /)\n",
      "        Return the arc cosine (measured in radians) of x.\n",
      "        \n",
      "        The result is between 0 and pi.\n",
      "    \n",
      "    acosh(x, /)\n",
      "        Return the inverse hyperbolic cosine of x.\n",
      "    \n",
      "    asin(x, /)\n",
      "        Return the arc sine (measured in radians) of x.\n",
      "        \n",
      "        The result is between -pi/2 and pi/2.\n",
      "    \n",
      "    asinh(x, /)\n",
      "        Return the inverse hyperbolic sine of x.\n",
      "    \n",
      "    atan(x, /)\n",
      "        Return the arc tangent (measured in radians) of x.\n",
      "        \n",
      "        The result is between -pi/2 and pi/2.\n",
      "    \n",
      "    atan2(y, x, /)\n",
      "        Return the arc tangent (measured in radians) of y/x.\n",
      "        \n",
      "        Unlike atan(y/x), the signs of both x and y are considered.\n",
      "    \n",
      "    atanh(x, /)\n",
      "        Return the inverse hyperbolic tangent of x.\n",
      "    \n",
      "    ceil(x, /)\n",
      "        Return the ceiling of x as an Integral.\n",
      "        \n",
      "        This is the smallest integer >= x.\n",
      "    \n",
      "    comb(n, k, /)\n",
      "        Number of ways to choose k items from n items without repetition and without order.\n",
      "        \n",
      "        Evaluates to n! / (k! * (n - k)!) when k <= n and evaluates\n",
      "        to zero when k > n.\n",
      "        \n",
      "        Also called the binomial coefficient because it is equivalent\n",
      "        to the coefficient of k-th term in polynomial expansion of the\n",
      "        expression (1 + x)**n.\n",
      "        \n",
      "        Raises TypeError if either of the arguments are not integers.\n",
      "        Raises ValueError if either of the arguments are negative.\n",
      "    \n",
      "    copysign(x, y, /)\n",
      "        Return a float with the magnitude (absolute value) of x but the sign of y.\n",
      "        \n",
      "        On platforms that support signed zeros, copysign(1.0, -0.0)\n",
      "        returns -1.0.\n",
      "    \n",
      "    cos(x, /)\n",
      "        Return the cosine of x (measured in radians).\n",
      "    \n",
      "    cosh(x, /)\n",
      "        Return the hyperbolic cosine of x.\n",
      "    \n",
      "    degrees(x, /)\n",
      "        Convert angle x from radians to degrees.\n",
      "    \n",
      "    dist(p, q, /)\n",
      "        Return the Euclidean distance between two points p and q.\n",
      "        \n",
      "        The points should be specified as sequences (or iterables) of\n",
      "        coordinates.  Both inputs must have the same dimension.\n",
      "        \n",
      "        Roughly equivalent to:\n",
      "            sqrt(sum((px - qx) ** 2.0 for px, qx in zip(p, q)))\n",
      "    \n",
      "    erf(x, /)\n",
      "        Error function at x.\n",
      "    \n",
      "    erfc(x, /)\n",
      "        Complementary error function at x.\n",
      "    \n",
      "    exp(x, /)\n",
      "        Return e raised to the power of x.\n",
      "    \n",
      "    expm1(x, /)\n",
      "        Return exp(x)-1.\n",
      "        \n",
      "        This function avoids the loss of precision involved in the direct evaluation of exp(x)-1 for small x.\n",
      "    \n",
      "    fabs(x, /)\n",
      "        Return the absolute value of the float x.\n",
      "    \n",
      "    factorial(x, /)\n",
      "        Find x!.\n",
      "        \n",
      "        Raise a ValueError if x is negative or non-integral.\n",
      "    \n",
      "    floor(x, /)\n",
      "        Return the floor of x as an Integral.\n",
      "        \n",
      "        This is the largest integer <= x.\n",
      "    \n",
      "    fmod(x, y, /)\n",
      "        Return fmod(x, y), according to platform C.\n",
      "        \n",
      "        x % y may differ.\n",
      "    \n",
      "    frexp(x, /)\n",
      "        Return the mantissa and exponent of x, as pair (m, e).\n",
      "        \n",
      "        m is a float and e is an int, such that x = m * 2.**e.\n",
      "        If x is 0, m and e are both 0.  Else 0.5 <= abs(m) < 1.0.\n",
      "    \n",
      "    fsum(seq, /)\n",
      "        Return an accurate floating point sum of values in the iterable seq.\n",
      "        \n",
      "        Assumes IEEE-754 floating point arithmetic.\n",
      "    \n",
      "    gamma(x, /)\n",
      "        Gamma function at x.\n",
      "    \n",
      "    gcd(*integers)\n",
      "        Greatest Common Divisor.\n",
      "    \n",
      "    hypot(...)\n",
      "        hypot(*coordinates) -> value\n",
      "        \n",
      "        Multidimensional Euclidean distance from the origin to a point.\n",
      "        \n",
      "        Roughly equivalent to:\n",
      "            sqrt(sum(x**2 for x in coordinates))\n",
      "        \n",
      "        For a two dimensional point (x, y), gives the hypotenuse\n",
      "        using the Pythagorean theorem:  sqrt(x*x + y*y).\n",
      "        \n",
      "        For example, the hypotenuse of a 3/4/5 right triangle is:\n",
      "        \n",
      "            >>> hypot(3.0, 4.0)\n",
      "            5.0\n",
      "    \n",
      "    isclose(a, b, *, rel_tol=1e-09, abs_tol=0.0)\n",
      "        Determine whether two floating point numbers are close in value.\n",
      "        \n",
      "          rel_tol\n",
      "            maximum difference for being considered \"close\", relative to the\n",
      "            magnitude of the input values\n",
      "          abs_tol\n",
      "            maximum difference for being considered \"close\", regardless of the\n",
      "            magnitude of the input values\n",
      "        \n",
      "        Return True if a is close in value to b, and False otherwise.\n",
      "        \n",
      "        For the values to be considered close, the difference between them\n",
      "        must be smaller than at least one of the tolerances.\n",
      "        \n",
      "        -inf, inf and NaN behave similarly to the IEEE 754 Standard.  That\n",
      "        is, NaN is not close to anything, even itself.  inf and -inf are\n",
      "        only close to themselves.\n",
      "    \n",
      "    isfinite(x, /)\n",
      "        Return True if x is neither an infinity nor a NaN, and False otherwise.\n",
      "    \n",
      "    isinf(x, /)\n",
      "        Return True if x is a positive or negative infinity, and False otherwise.\n",
      "    \n",
      "    isnan(x, /)\n",
      "        Return True if x is a NaN (not a number), and False otherwise.\n",
      "    \n",
      "    isqrt(n, /)\n",
      "        Return the integer part of the square root of the input.\n",
      "    \n",
      "    lcm(*integers)\n",
      "        Least Common Multiple.\n",
      "    \n",
      "    ldexp(x, i, /)\n",
      "        Return x * (2**i).\n",
      "        \n",
      "        This is essentially the inverse of frexp().\n",
      "    \n",
      "    lgamma(x, /)\n",
      "        Natural logarithm of absolute value of Gamma function at x.\n",
      "    \n",
      "    log(...)\n",
      "        log(x, [base=math.e])\n",
      "        Return the logarithm of x to the given base.\n",
      "        \n",
      "        If the base not specified, returns the natural logarithm (base e) of x.\n",
      "    \n",
      "    log10(x, /)\n",
      "        Return the base 10 logarithm of x.\n",
      "    \n",
      "    log1p(x, /)\n",
      "        Return the natural logarithm of 1+x (base e).\n",
      "        \n",
      "        The result is computed in a way which is accurate for x near zero.\n",
      "    \n",
      "    log2(x, /)\n",
      "        Return the base 2 logarithm of x.\n",
      "    \n",
      "    modf(x, /)\n",
      "        Return the fractional and integer parts of x.\n",
      "        \n",
      "        Both results carry the sign of x and are floats.\n",
      "    \n",
      "    nextafter(x, y, /)\n",
      "        Return the next floating-point value after x towards y.\n",
      "    \n",
      "    perm(n, k=None, /)\n",
      "        Number of ways to choose k items from n items without repetition and with order.\n",
      "        \n",
      "        Evaluates to n! / (n - k)! when k <= n and evaluates\n",
      "        to zero when k > n.\n",
      "        \n",
      "        If k is not specified or is None, then k defaults to n\n",
      "        and the function returns n!.\n",
      "        \n",
      "        Raises TypeError if either of the arguments are not integers.\n",
      "        Raises ValueError if either of the arguments are negative.\n",
      "    \n",
      "    pow(x, y, /)\n",
      "        Return x**y (x to the power of y).\n",
      "    \n",
      "    prod(iterable, /, *, start=1)\n",
      "        Calculate the product of all the elements in the input iterable.\n",
      "        \n",
      "        The default start value for the product is 1.\n",
      "        \n",
      "        When the iterable is empty, return the start value.  This function is\n",
      "        intended specifically for use with numeric values and may reject\n",
      "        non-numeric types.\n",
      "    \n",
      "    radians(x, /)\n",
      "        Convert angle x from degrees to radians.\n",
      "    \n",
      "    remainder(x, y, /)\n",
      "        Difference between x and the closest integer multiple of y.\n",
      "        \n",
      "        Return x - n*y where n*y is the closest integer multiple of y.\n",
      "        In the case where x is exactly halfway between two multiples of\n",
      "        y, the nearest even value of n is used. The result is always exact.\n",
      "    \n",
      "    sin(x, /)\n",
      "        Return the sine of x (measured in radians).\n",
      "    \n",
      "    sinh(x, /)\n",
      "        Return the hyperbolic sine of x.\n",
      "    \n",
      "    sqrt(x, /)\n",
      "        Return the square root of x.\n",
      "    \n",
      "    tan(x, /)\n",
      "        Return the tangent of x (measured in radians).\n",
      "    \n",
      "    tanh(x, /)\n",
      "        Return the hyperbolic tangent of x.\n",
      "    \n",
      "    trunc(x, /)\n",
      "        Truncates the Real x to the nearest Integral toward 0.\n",
      "        \n",
      "        Uses the __trunc__ magic method.\n",
      "    \n",
      "    ulp(x, /)\n",
      "        Return the value of the least significant bit of the float x.\n",
      "\n",
      "DATA\n",
      "    e = 2.718281828459045\n",
      "    inf = inf\n",
      "    nan = nan\n",
      "    pi = 3.141592653589793\n",
      "    tau = 6.283185307179586\n",
      "\n",
      "FILE\n",
      "    /Users/benkinsella/anaconda3/lib/python3.10/lib-dynload/math.cpython-310-darwin.so\n",
      "\n",
      "\n"
     ]
    }
   ],
   "source": []
  },
  {
   "cell_type": "code",
   "execution_count": null,
   "id": "134c4bf2",
   "metadata": {},
   "outputs": [],
   "source": []
  }
 ],
 "metadata": {
  "kernelspec": {
   "display_name": "Python 3 (ipykernel)",
   "language": "python",
   "name": "python3"
  },
  "language_info": {
   "codemirror_mode": {
    "name": "ipython",
    "version": 3
   },
   "file_extension": ".py",
   "mimetype": "text/x-python",
   "name": "python",
   "nbconvert_exporter": "python",
   "pygments_lexer": "ipython3",
   "version": "3.10.9"
  }
 },
 "nbformat": 4,
 "nbformat_minor": 5
}
