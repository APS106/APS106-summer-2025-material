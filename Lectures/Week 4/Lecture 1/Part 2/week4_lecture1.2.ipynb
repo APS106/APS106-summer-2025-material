{
 "cells": [
  {
   "cell_type": "markdown",
   "metadata": {},
   "source": [
    "### APS106 Lecture Notes - Week 4, Design Problem\n",
    "# Cryptography\n",
    "\n",
    "Here is an image of a classic Cryptography pipeline:\n",
    "https://cdn.ttgtmedia.com/rms/onlineImages/security_cissp_cryptography.jpg"
   ]
  },
  {
   "cell_type": "markdown",
   "metadata": {},
   "source": [
    "## Problem Background\n",
    "\n",
    "For thousands of years cryptographers have made secret messages that only the sender and recipient could read. The secret code system (or algorithm) used for encrypting and decrypting messages is called a cipher. Even if the message (today’s equivalent would be a file) were to be captured, it would not help in decoding the message, since only sender and recipient would know the cipher.\n",
    "\n",
    "One of the earliest examples of cryptography is the Caesar cipher which encrypts a message by taking each letter in the message and replacing it with a “shifted” letter. If you shift the letter A by one space, you get the letter B. If you shift the letter A by two spaces, you get the letter C. The Caesar cipher is overly simple and it wouldn’t take much to break the encryption. Even though the Caesar cipher is no longer used, it still makes for a great learning example for cryptography.  "
   ]
  },
  {
   "cell_type": "markdown",
   "metadata": {},
   "source": [
    "## Define the Problem\n",
    "\n",
    "Given a sensitive message that should not be read by others, we would like devise an algorithm to encrypt the message so that only someone with the secret key can access it. \n",
    "\n",
    "There are many options available for encryption ranging from classic methods that are not secure, to more modern ones that are highly mathematical. Since the message being encrypted is not of great importance, and there is little motivation for your friends to try and decrypt it, it makes sense to use an easier implementation, such as the Caesar cipher.\n",
    "\n",
    "So let's define a message and a **key** the number of spaces that you shift each letter in the message."
   ]
  },
  {
   "cell_type": "markdown",
   "metadata": {},
   "source": [
    "## Define Test Cases \n",
    "\n",
    "### Test Case 1: Encryption\n",
    "\n",
    "Message: Meet me at snakes and lattes on Friday at 7pm\n",
    "\n",
    "Key: 10\n",
    "\n",
    "Encoded Message: Wood wo kd cxkuoc kxn vkddoc yx Pbsnki kd 7zw\n",
    "\n",
    "### Test case 2: Decryption\n",
    "\n",
    "Message: Wood wo kd cxkuoc kxn vkddoc yx Pbsnki kd 7zw\n",
    "\n",
    "Key: 10\n",
    "\n",
    "Decrypted Message: Meet me at snakes and lattes on Friday at 7pm\n",
    "\n",
    "\n",
    "### Test case 3: Wrong key\n",
    "\n",
    "Message: Wood wo kd cxkuoc kxn vkddoc yx Pbsnki kd 7zw\n",
    "\n",
    "Key: 9\n",
    "\n",
    "Decrypted Message: Nffu nf bu toblft boe mbuuft po Gsjebz bu 7qn"
   ]
  },
  {
   "cell_type": "code",
   "execution_count": null,
   "metadata": {},
   "outputs": [],
   "source": [
    "#ASCII, ord, chr functions\n",
    "#input\n"
   ]
  },
  {
   "cell_type": "markdown",
   "metadata": {},
   "source": [
    "## Generate Many Creative Solutions\n",
    "\n",
    "The Caesar cipher performs message encryption by taking each letter in the message and replacing it with a “shifted” letter. \n",
    "\n",
    "### The Algorithm Plan\n",
    "\n",
    "We really want to write code to do two things: encrypt and decrypt a message. This seems like two algorithms - maybe even two separate programs - and so let's specify their algorithm plans separately. \n",
    "\n",
    "(Something to think about: are they really two separate algorithms? Or are they just one algorithm with, say, different inputs? Let's leave this until later - but perhaps if you get bored you can think about it.)\n",
    "\n",
    "#### Encryption\n",
    "\n",
    "- Prompt user for a message and secret key\n",
    "- Encrypt a message using the Caesar Cipher\n",
    "- Print out encrypted message\n",
    "\n",
    "#### Decryption\n",
    "\n",
    "- Prompt user for the encrypted message and secret key\n",
    "- Decrypt message using secret key\n",
    "- Print message\n",
    "- [Bonus (not discussed here): place the above functionality in a menu that asks the user if she wants to encrypt or decrypt and then prompts her further depending on which she wants to do]\n",
    "\n",
    "To perform a shift we need to think of characters as numbers. For example, we could define the letter ‘a’ as 1, and then ‘b’ as 2, and so forth. This could be implemented using a dictionary data structure. \n",
    "\n",
    "But in a while back we learned that all characters and symbols are already numbered using the ASCII cade. Using ASCII might work just as well and we wouldn’t need to reinvent our own code for the characters.\n",
    "\n",
    "Let's focus on working on the encryption algorothm. Since the decryption part looks similar maybe by the time we get to it we'll have an idea of what to do. \n",
    "\n",
    "### Programming Plan\n",
    "\n",
    "Some of the steps in the Algorithm Plan look pretty straightforward. Some are more difficult.  Let’s get the easy ones out of the way first.\n",
    "\n",
    "1. Implement code to read the message and key.\n",
    "2. Without encrypting it, just write it out.\n",
    "\n",
    "Based on what we already know in python, the above should be (very) easy. Then we only have two things to do:\n",
    "\n",
    "3.  Encrypt the message (where do we do this in the code?).\n",
    "4.  Figure out decryption.\n"
   ]
  },
  {
   "cell_type": "markdown",
   "metadata": {},
   "source": [
    "## Select a Solution\n",
    "\n",
    "ASCII looks like the way to go."
   ]
  },
  {
   "cell_type": "markdown",
   "metadata": {},
   "source": [
    "## Programming Plan: Step 1: Prompt user for message and key\n",
    "\n",
    "Let’s write the “main” code first even to see how far we get before we have to think."
   ]
  },
  {
   "cell_type": "code",
   "execution_count": 8,
   "metadata": {},
   "outputs": [
    {
     "ename": "KeyboardInterrupt",
     "evalue": "Interrupted by user",
     "output_type": "error",
     "traceback": [
      "\u001b[0;31m---------------------------------------------------------------------------\u001b[0m",
      "\u001b[0;31mKeyboardInterrupt\u001b[0m                         Traceback (most recent call last)",
      "Cell \u001b[0;32mIn[8], line 2\u001b[0m\n\u001b[1;32m      1\u001b[0m \u001b[38;5;66;03m# Prompt user for a message and secret key\u001b[39;00m\n\u001b[0;32m----> 2\u001b[0m message \u001b[38;5;241m=\u001b[39m \u001b[43mget_message\u001b[49m\u001b[43m(\u001b[49m\u001b[43m)\u001b[49m\n\u001b[1;32m      3\u001b[0m key \u001b[38;5;241m=\u001b[39m get_key()\n",
      "Cell \u001b[0;32mIn[5], line 6\u001b[0m, in \u001b[0;36mget_message\u001b[0;34m()\u001b[0m\n\u001b[1;32m      1\u001b[0m \u001b[38;5;28;01mdef\u001b[39;00m \u001b[38;5;21mget_message\u001b[39m():\n\u001b[1;32m      2\u001b[0m     \u001b[38;5;124;03m'''\u001b[39;00m\n\u001b[1;32m      3\u001b[0m \u001b[38;5;124;03m    () -> str\u001b[39;00m\n\u001b[1;32m      4\u001b[0m \u001b[38;5;124;03m    Returns the secret message from user input\u001b[39;00m\n\u001b[1;32m      5\u001b[0m \u001b[38;5;124;03m    '''\u001b[39;00m\n\u001b[0;32m----> 6\u001b[0m     \u001b[38;5;28;01mreturn\u001b[39;00m \u001b[38;5;28;43minput\u001b[39;49m\u001b[43m(\u001b[49m\u001b[38;5;124;43m\"\u001b[39;49m\u001b[38;5;124;43mEnter the secret message: \u001b[39;49m\u001b[38;5;124;43m\"\u001b[39;49m\u001b[43m)\u001b[49m\n",
      "File \u001b[0;32m~/anaconda3/lib/python3.10/site-packages/ipykernel/kernelbase.py:1175\u001b[0m, in \u001b[0;36mKernel.raw_input\u001b[0;34m(self, prompt)\u001b[0m\n\u001b[1;32m   1171\u001b[0m \u001b[38;5;28;01mif\u001b[39;00m \u001b[38;5;129;01mnot\u001b[39;00m \u001b[38;5;28mself\u001b[39m\u001b[38;5;241m.\u001b[39m_allow_stdin:\n\u001b[1;32m   1172\u001b[0m     \u001b[38;5;28;01mraise\u001b[39;00m StdinNotImplementedError(\n\u001b[1;32m   1173\u001b[0m         \u001b[38;5;124m\"\u001b[39m\u001b[38;5;124mraw_input was called, but this frontend does not support input requests.\u001b[39m\u001b[38;5;124m\"\u001b[39m\n\u001b[1;32m   1174\u001b[0m     )\n\u001b[0;32m-> 1175\u001b[0m \u001b[38;5;28;01mreturn\u001b[39;00m \u001b[38;5;28;43mself\u001b[39;49m\u001b[38;5;241;43m.\u001b[39;49m\u001b[43m_input_request\u001b[49m\u001b[43m(\u001b[49m\n\u001b[1;32m   1176\u001b[0m \u001b[43m    \u001b[49m\u001b[38;5;28;43mstr\u001b[39;49m\u001b[43m(\u001b[49m\u001b[43mprompt\u001b[49m\u001b[43m)\u001b[49m\u001b[43m,\u001b[49m\n\u001b[1;32m   1177\u001b[0m \u001b[43m    \u001b[49m\u001b[38;5;28;43mself\u001b[39;49m\u001b[38;5;241;43m.\u001b[39;49m\u001b[43m_parent_ident\u001b[49m\u001b[43m[\u001b[49m\u001b[38;5;124;43m\"\u001b[39;49m\u001b[38;5;124;43mshell\u001b[39;49m\u001b[38;5;124;43m\"\u001b[39;49m\u001b[43m]\u001b[49m\u001b[43m,\u001b[49m\n\u001b[1;32m   1178\u001b[0m \u001b[43m    \u001b[49m\u001b[38;5;28;43mself\u001b[39;49m\u001b[38;5;241;43m.\u001b[39;49m\u001b[43mget_parent\u001b[49m\u001b[43m(\u001b[49m\u001b[38;5;124;43m\"\u001b[39;49m\u001b[38;5;124;43mshell\u001b[39;49m\u001b[38;5;124;43m\"\u001b[39;49m\u001b[43m)\u001b[49m\u001b[43m,\u001b[49m\n\u001b[1;32m   1179\u001b[0m \u001b[43m    \u001b[49m\u001b[43mpassword\u001b[49m\u001b[38;5;241;43m=\u001b[39;49m\u001b[38;5;28;43;01mFalse\u001b[39;49;00m\u001b[43m,\u001b[49m\n\u001b[1;32m   1180\u001b[0m \u001b[43m\u001b[49m\u001b[43m)\u001b[49m\n",
      "File \u001b[0;32m~/anaconda3/lib/python3.10/site-packages/ipykernel/kernelbase.py:1217\u001b[0m, in \u001b[0;36mKernel._input_request\u001b[0;34m(self, prompt, ident, parent, password)\u001b[0m\n\u001b[1;32m   1214\u001b[0m             \u001b[38;5;28;01mbreak\u001b[39;00m\n\u001b[1;32m   1215\u001b[0m \u001b[38;5;28;01mexcept\u001b[39;00m \u001b[38;5;167;01mKeyboardInterrupt\u001b[39;00m:\n\u001b[1;32m   1216\u001b[0m     \u001b[38;5;66;03m# re-raise KeyboardInterrupt, to truncate traceback\u001b[39;00m\n\u001b[0;32m-> 1217\u001b[0m     \u001b[38;5;28;01mraise\u001b[39;00m \u001b[38;5;167;01mKeyboardInterrupt\u001b[39;00m(\u001b[38;5;124m\"\u001b[39m\u001b[38;5;124mInterrupted by user\u001b[39m\u001b[38;5;124m\"\u001b[39m) \u001b[38;5;28;01mfrom\u001b[39;00m \u001b[38;5;28mNone\u001b[39m\n\u001b[1;32m   1218\u001b[0m \u001b[38;5;28;01mexcept\u001b[39;00m \u001b[38;5;167;01mException\u001b[39;00m:\n\u001b[1;32m   1219\u001b[0m     \u001b[38;5;28mself\u001b[39m\u001b[38;5;241m.\u001b[39mlog\u001b[38;5;241m.\u001b[39mwarning(\u001b[38;5;124m\"\u001b[39m\u001b[38;5;124mInvalid Message:\u001b[39m\u001b[38;5;124m\"\u001b[39m, exc_info\u001b[38;5;241m=\u001b[39m\u001b[38;5;28;01mTrue\u001b[39;00m)\n",
      "\u001b[0;31mKeyboardInterrupt\u001b[0m: Interrupted by user"
     ]
    }
   ],
   "source": [
    "# Prompt user for a message and secret key\n",
    "message = get_message()\n",
    "key = get_key()\n",
    "\n",
    "# Encrypt a message using the Caesar Cipher\n",
    "\n",
    "# Print message"
   ]
  },
  {
   "cell_type": "markdown",
   "metadata": {},
   "source": [
    "After the second line, I am not really sure what to do. So let’s just leave this as is and see if we can write some functions.\n"
   ]
  },
  {
   "cell_type": "code",
   "execution_count": 9,
   "metadata": {},
   "outputs": [
    {
     "name": "stdout",
     "output_type": "stream",
     "text": [
      "What is the secret messageHello world\n",
      "Enter key: 10\n",
      "Hello world\n",
      "10\n"
     ]
    }
   ],
   "source": [
    "def get_message():\n",
    "    '''\n",
    "    () -> str\n",
    "    Returns the secret message from user input\n",
    "    '''\n",
    "    return input('What is the secret message')\n",
    "\n",
    "def get_key():\n",
    "    '''\n",
    "    () -> int\n",
    "    Returns the key from user input as an int\n",
    "    '''\n",
    "    return int(input('Enter key: '))\n",
    "\n",
    "# Prompt user for a message and secret key\n",
    "message = get_message()\n",
    "key = get_key()\n",
    "\n",
    "# Encrypt a message using the Caesar Cipher\n",
    "\n",
    "# Print message\n",
    "print(message)\n",
    "print(key)\n"
   ]
  },
  {
   "cell_type": "markdown",
   "metadata": {},
   "source": [
    "## Programming Plan: Step 2: Write out the message.\n",
    "\n",
    "Well, we've already done that in Step 1 as part of our tests."
   ]
  },
  {
   "cell_type": "markdown",
   "metadata": {},
   "source": [
    "OK, where are we?\n",
    "\n",
    "What does our Programming Plan say?\n",
    "\n",
    "1. ~~Implement code to read the message and key.~~\n",
    "2. ~~Without encrypting it, just write it out.~~\n",
    "3. Encrypt the message (where do we do this in the code?)\n",
    "4. Figure out decryption."
   ]
  },
  {
   "cell_type": "markdown",
   "metadata": {},
   "source": [
    "## Programming Plan: Step 3: Encrypt the Message\n",
    "\n",
    "Now we have the problem of figuring out how to encrypt the message (which we’ve been avoiding all along). Any ideas?\n",
    "\n",
    "Let’s write a function that initially does nothing except copy unencrypted characters. We know we have to somehow change each character so let's loop through them and just copy them."
   ]
  },
  {
   "cell_type": "code",
   "execution_count": 10,
   "metadata": {},
   "outputs": [
    {
     "name": "stdout",
     "output_type": "stream",
     "text": [
      "this is a string\n"
     ]
    }
   ],
   "source": [
    "def encrypt_message(message, key):\n",
    "    ''' \n",
    "    (str, int) -> str\n",
    "    Returns the encypted message using the Caesar cypher and key\n",
    "    '''\n",
    "    translated = \"\"\n",
    "    for c in message:\n",
    "        # encryption needs to happen here\n",
    "        \n",
    "        \n",
    "        # currently this loops and concatenates each letter, no encryption yet\n",
    "        translated += c\n",
    "        \n",
    "    return translated\n",
    "\n",
    "print(encrypt_message(\"this is a string\", 10))"
   ]
  },
  {
   "cell_type": "markdown",
   "metadata": {},
   "source": [
    "We studied chr() and ord().\n"
   ]
  },
  {
   "cell_type": "code",
   "execution_count": 11,
   "metadata": {
    "scrolled": true
   },
   "outputs": [
    {
     "name": "stdout",
     "output_type": "stream",
     "text": [
      "97\n",
      "a\n"
     ]
    }
   ],
   "source": [
    "print(ord('a'))\n",
    "print(chr(97))"
   ]
  },
  {
   "cell_type": "markdown",
   "metadata": {},
   "source": [
    "Leading to something like:"
   ]
  },
  {
   "cell_type": "code",
   "execution_count": 12,
   "metadata": {},
   "outputs": [
    {
     "name": "stdout",
     "output_type": "stream",
     "text": [
      "~rs}*s}*k*}~|sxq\n"
     ]
    }
   ],
   "source": [
    "def encrypt_message(message, key):\n",
    "    ''' Returns the encypted message using the Caesar cypher'''\n",
    "    translated = \"\"\n",
    "    for c in message:\n",
    "        num = ord(c) #this gives ASCII value of that letter c\n",
    "        num = num + key  #shift by key amount\n",
    "        symbol = chr(num)  #convert ASCII number back to letter\n",
    "        translated = translated + symbol\n",
    "        \n",
    "    return translated\n",
    "\n",
    "print(encrypt_message(\"this is a string\", 10))"
   ]
  },
  {
   "cell_type": "markdown",
   "metadata": {},
   "source": [
    "So what is going on?\n",
    "\n",
    "When a letter plus its offset goes beyond 'z', we want it to wrap around and start again from 'a'. How do we make the letters wrap around?\n",
    "\n",
    "And what do we want to do with non-letters (like spaces and punctuation)? Maybe we can encypt them too, but now we are going to have to investigate more about ASCII, especially since ASCII represents non-printing characters (like `\\t`). So let's just assume that we only want to modify letters."
   ]
  },
  {
   "cell_type": "markdown",
   "metadata": {
    "pycharm": {
     "name": "#%% md\n"
    }
   },
   "source": [
    "HINT: To check for non-letters, look up the string method '.isalpha()'!"
   ]
  },
  {
   "cell_type": "markdown",
   "metadata": {
    "pycharm": {
     "name": "#%% md\n"
    }
   },
   "source": [
    "# Breakout session 1 for Encrypting the message: ASCII value wrap-around using if-statements"
   ]
  },
  {
   "cell_type": "markdown",
   "metadata": {
    "pycharm": {
     "name": "#%% md\n"
    }
   },
   "source": [
    "Modify the function 'encrypt_message' to check for non letters and account for offset from the string input that goes beyond the ASCII values of 'a' to 'z' using if statements."
   ]
  },
  {
   "cell_type": "code",
   "execution_count": 14,
   "metadata": {},
   "outputs": [
    {
     "name": "stdout",
     "output_type": "stream",
     "text": [
      "drsc sc k cdbsxq.\n"
     ]
    }
   ],
   "source": [
    "def encrypt_message(message, key):\n",
    "    ''' Returns the encypted message using the Caesar cypher'''\n",
    "    translated = \"\"\n",
    "    \n",
    "    for c in message:\n",
    "        \n",
    "        #check if alphabet letter\n",
    "        if c.isalpha():\n",
    "        \n",
    "            # do conversion\n",
    "            num = ord(c) #this gives ASCII value of that letter c\n",
    "            num = num + key  #shift by key amount\n",
    "\n",
    "            #check if we are out of bounds (i.e., passed a or z)\n",
    "            if num > ord('z'):\n",
    "                num -= 26\n",
    "            elif num < ord('a'):\n",
    "                num += 26\n",
    "                \n",
    "            symbol = chr(num)\n",
    "            \n",
    "        else:\n",
    "            symbol = c\n",
    "            \n",
    "        \n",
    "        translated += symbol\n",
    "       \n",
    "\n",
    "    return translated\n",
    "\n",
    "print(encrypt_message(\"this is a string.\", 10))"
   ]
  },
  {
   "cell_type": "markdown",
   "metadata": {},
   "source": [
    "The spaces and the period are not encypted but the letters are. Good.\n",
    "\n",
    "We also only want to translate characters and take into account capital vs. lower case. How can we do that?"
   ]
  },
  {
   "cell_type": "markdown",
   "metadata": {
    "pycharm": {
     "name": "#%% md\n"
    }
   },
   "source": [
    "# Breakout session 2 for Encrypting the message: Creating functions and accounting for capital letters vs. lower case?"
   ]
  },
  {
   "cell_type": "markdown",
   "metadata": {
    "pycharm": {
     "name": "#%% md\n"
    }
   },
   "source": [
    " Write a new function 'wrap_around' takes in each letter of our input string from the user and the cipher  from the user, check if it is an upper case or lowercase letter, and shift it."
   ]
  },
  {
   "cell_type": "code",
   "execution_count": null,
   "metadata": {
    "pycharm": {
     "name": "#%%\n"
    }
   },
   "outputs": [],
   "source": [
    "def wrap_around (c, key):\n",
    "    '''\n",
    "    (str, int) -> str\n",
    "    Returns the shifted letter from the original letter and key\n",
    "    '''\n",
    " # use the body of the previous section with small additions\n",
    "    if c.isalpha():\n",
    "        #do the conversion to ascii\n",
    "        num = ord(c)\n",
    "        num = num + key\n",
    "        \n",
    "        #check case if lower or upper\n",
    "        if c.islower():\n",
    "            #check if out of bounds\n",
    "            if num > ord('z'):\n",
    "                num -= 26\n",
    "            elif num < ord('a'):\n",
    "                num += 26\n",
    "        else:\n",
    "            if num > ord('Z'):\n",
    "                num -= 26\n",
    "            elif num < ord('A'):\n",
    "                num += 26\n",
    "                \n",
    "        \n",
    "        symbol = chr(num)\n",
    "    else:\n",
    "        symbol = c\n",
    "    \n",
    "\n",
    "    return symbol"
   ]
  },
  {
   "cell_type": "code",
   "execution_count": 15,
   "metadata": {
    "scrolled": true
   },
   "outputs": [
    {
     "name": "stdout",
     "output_type": "stream",
     "text": [
      "Nbcm cm u mnlcha.\n",
      "This is a string.\n"
     ]
    }
   ],
   "source": [
    "def encrypt_message(message, shift):\n",
    "    ''' Returns the encypted message using the Caesar cypher'''\n",
    "    translated = ''\n",
    "    \n",
    "    for l in message:\n",
    "        sym = wrap_around(l,shift)\n",
    "        translated += sym\n",
    "        \n",
    "    return translated\n",
    "\n",
    "print(encrypt_message(\"This is a string.\", 20))\n",
    "print(encrypt_message('Nbcm cm u mnlcha.',-20))\n"
   ]
  },
  {
   "cell_type": "markdown",
   "metadata": {},
   "source": [
    "So, is this working? How can we tell? We need to know some encypted versions (like in our tests.) So let's look at the test we created:\n",
    "\n",
    "Message: Meet me at snakes and lattes on Friday at 7pm\n",
    "\n",
    "Key: 10\n",
    "\n",
    "Encoded Message: Wood wo kd cxkuoc kxn vkddoc yx Pbsnki kd 7zw"
   ]
  },
  {
   "cell_type": "code",
   "execution_count": 16,
   "metadata": {},
   "outputs": [
    {
     "name": "stdout",
     "output_type": "stream",
     "text": [
      "Wood wo kd cxkuoc kxn vkddoc yx Pbsnki kd 7zw\n"
     ]
    }
   ],
   "source": [
    "print(encrypt_message(\"Meet me at snakes and lattes on Friday at 7pm\", 10))"
   ]
  },
  {
   "cell_type": "markdown",
   "metadata": {},
   "source": [
    "Let's put it all together."
   ]
  },
  {
   "cell_type": "code",
   "execution_count": 17,
   "metadata": {
    "pycharm": {
     "name": "#%%\n"
    }
   },
   "outputs": [
    {
     "name": "stdout",
     "output_type": "stream",
     "text": [
      "Enter the secret message: Hello aps106\n",
      "Enter the key: 15\n",
      "Wtaad peh106\n"
     ]
    }
   ],
   "source": [
    "def get_message():\n",
    "    '''\n",
    "    () -> str\n",
    "    Returns the secret message from user input\n",
    "    '''\n",
    "    return input(\"Enter the secret message: \")\n",
    "\n",
    "def get_key():\n",
    "    '''\n",
    "    () -> int\n",
    "    Returns the key from user input\n",
    "    '''\n",
    "    return int(input(\"Enter the key: \"))\n",
    "\n",
    "def wrap_around (c, key):\n",
    "    '''\n",
    "    (str, int) -> str\n",
    "    Returns the shifted letter from the original letter and key\n",
    "    '''\n",
    "    if c.isalpha():\n",
    "\n",
    "        # do the conversion\n",
    "        num = ord(c)\n",
    "        num += key\n",
    "\n",
    "        # check lower case\n",
    "        if c.islower():\n",
    "            # check if we are out-of-bounds\n",
    "            if num > ord('z'):\n",
    "                num -= 26\n",
    "            elif num < ord('a'):\n",
    "                num += 26\n",
    "        else:\n",
    "            # check if we are out-of-bounds\n",
    "            if num > ord('Z'):\n",
    "                num -= 26\n",
    "            elif num < ord('A'):\n",
    "                num += 26\n",
    "        symbol = chr(num)\n",
    "    else:\n",
    "        symbol = c\n",
    "\n",
    "    return symbol\n",
    "\n",
    "\n",
    "def encrypt_message(message, shift):\n",
    "    ''' Returns the encypted message using the Caesar cypher'''\n",
    "    translated = \"\"\n",
    "    for l in message:\n",
    "        sym = wrap_around(l, shift)\n",
    "        translated += sym\n",
    "\n",
    "    return translated\n",
    "\n",
    "# Prompt user for a message and secret key\n",
    "message = get_message()\n",
    "key = get_key()\n",
    "\n",
    "# Encrypt a message using the Caesar Cipher\n",
    "encrypted_message = encrypt_message(message, key)\n",
    "\n",
    "# Print message\n",
    "print(encrypted_message)\n"
   ]
  },
  {
   "cell_type": "code",
   "execution_count": null,
   "metadata": {},
   "outputs": [],
   "source": [
    "'''\n",
    "while loops\n",
    "for loops\n",
    "more practice with loops\n",
    "counter with while loops, continue until loop is done\n",
    "Question 5 2022 TT1\n",
    "Question 3 Week 3 Part 2 (divide strings into substrings)\n",
    "\n",
    "local vs global variables for functions\n",
    "string indexing, operators,\n",
    "augmented operators\n",
    "Week 3 Part 1 Qestion 3 (string methods)\n",
    "\n",
    "how many times is the function called\n",
    "nested if statements\n",
    "nested loops\n",
    "\n",
    "while True:\n",
    "returning from inside a while loop\n",
    "\n",
    "\n",
    "\n",
    "\n",
    "'''\n",
    "def func(x):\n",
    "    while True:\n",
    "        if x == 10:\n",
    "            return x\n",
    "        \n",
    "    "
   ]
  }
 ],
 "metadata": {
  "kernelspec": {
   "display_name": "Python 3 (ipykernel)",
   "language": "python",
   "name": "python3"
  },
  "language_info": {
   "codemirror_mode": {
    "name": "ipython",
    "version": 3
   },
   "file_extension": ".py",
   "mimetype": "text/x-python",
   "name": "python",
   "nbconvert_exporter": "python",
   "pygments_lexer": "ipython3",
   "version": "3.10.9"
  }
 },
 "nbformat": 4,
 "nbformat_minor": 1
}
