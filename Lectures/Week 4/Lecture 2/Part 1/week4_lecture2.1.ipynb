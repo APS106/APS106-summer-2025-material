{
 "cells": [
  {
   "cell_type": "markdown",
   "metadata": {
    "collapsed": true
   },
   "source": [
    "# APS106 - Fundamentals of Computer Programming\n",
    "## Week 4 | Lecture 2 (4.2) - `for` Loops\n",
    "\n",
    "### This Week\n",
    "| Lecture | Topics | Reading |\n",
    "| --- | --- | --- | \n",
    "| **4.1** | **for-loops: `while` is so last month** | **Section 9.3, 9.4** |\n",
    "| 4.2 | for-loops on indices, nested loops | Section 9.5 - 9.9  |\n",
    "| 4.3 | Design Problem: Cryptography | | \n",
    "\n",
    "### Lecture Structure\n",
    "1. [Your first `for` loop!](#section1)\n",
    "2. [`for` vs `while`](#section2)\n",
    "3. [Breakout Session 1](#section3)\n",
    "4. [Breakout Session 2](#section4)"
   ]
  },
  {
   "cell_type": "markdown",
   "metadata": {},
   "source": [
    "<a id='section1'></a>\n",
    "## 1. Your first `for` loop!\n",
    "Create a `for` loop that print each character in your name."
   ]
  },
  {
   "cell_type": "code",
   "execution_count": 13,
   "metadata": {
    "scrolled": true
   },
   "outputs": [
    {
     "name": "stdout",
     "output_type": "stream",
     "text": [
      "0 S\n",
      "1 e\n",
      "2 b\n",
      "3 a\n",
      "4 s\n",
      "5 t\n",
      "6 i\n",
      "7 a\n",
      "8 n\n"
     ]
    }
   ],
   "source": [
    "name = 'Sebastian'\n",
    "i=0\n",
    "for character in name:\n",
    "    print(i, character)\n",
    "    i += 1"
   ]
  },
  {
   "cell_type": "markdown",
   "metadata": {},
   "source": [
    "<a id='section2'></a>\n",
    "## 2. `for` vs `while`\n",
    "Problem: You have had your DNA sequenced and each of your chromosomes is represented by a string of nucleotides: adenine (A), thymine (T), guanine (G), and cytosine (C). Each nucleotide is represented by its corresponding letter. For example:\n",
    " \n",
    "```python\n",
    "chrome_4 = \"ATGGGCAATCGATGGCCTAATCTCTCTAAG\"\n",
    "```\n",
    "\n",
    "You want to do some data analysis of your genome and to start (this is called \"Exploratory Data Analysis (EDA)\" in data science), you want to count the number of occurences of each letter.\n",
    "\n",
    "### `while` Loop Approach\n",
    "First, let's use a `while` loop that we leaved in Week 4. Let's create a DNA sequence for testing."
   ]
  },
  {
   "cell_type": "code",
   "execution_count": 14,
   "metadata": {},
   "outputs": [
    {
     "data": {
      "text/plain": [
       "30"
      ]
     },
     "execution_count": 14,
     "metadata": {},
     "output_type": "execute_result"
    }
   ],
   "source": [
    "chrome_4 = \"ATGGGCAATCGATGGCCTAATCTCTCTAAG\"\n",
    "len(chrome_4)"
   ]
  },
  {
   "cell_type": "markdown",
   "metadata": {},
   "source": [
    "Let's just look at how to print out each character."
   ]
  },
  {
   "cell_type": "code",
   "execution_count": 16,
   "metadata": {},
   "outputs": [
    {
     "name": "stdout",
     "output_type": "stream",
     "text": [
      "0 A\n",
      "1 T\n",
      "2 G\n",
      "3 G\n",
      "4 G\n",
      "5 C\n",
      "6 A\n",
      "7 A\n",
      "8 T\n",
      "9 C\n",
      "10 G\n",
      "11 A\n",
      "12 T\n",
      "13 G\n",
      "14 G\n",
      "15 C\n",
      "16 C\n",
      "17 T\n",
      "18 A\n",
      "19 A\n",
      "20 T\n",
      "21 C\n",
      "22 T\n",
      "23 C\n",
      "24 T\n",
      "25 C\n",
      "26 T\n",
      "27 A\n",
      "28 A\n",
      "29 G\n",
      "30\n"
     ]
    }
   ],
   "source": [
    "i = 0\n",
    "while i < len(chrome_4):\n",
    "    print(i, chrome_4[i])\n",
    "    i += 1\n",
    "print(i)"
   ]
  },
  {
   "cell_type": "markdown",
   "metadata": {},
   "source": [
    "Next, let's count the number of occurences for the letter `'A'`."
   ]
  },
  {
   "cell_type": "code",
   "execution_count": 17,
   "metadata": {},
   "outputs": [
    {
     "name": "stdout",
     "output_type": "stream",
     "text": [
      "A 8\n"
     ]
    }
   ],
   "source": [
    "i = 0\n",
    "counter = 0\n",
    "while i < len(chrome_4):\n",
    "    \n",
    "    if chrome_4[i] == 'A':\n",
    "        counter += 1\n",
    "    \n",
    "    i += 1\n",
    "    \n",
    "print('A', counter)"
   ]
  },
  {
   "cell_type": "markdown",
   "metadata": {},
   "source": [
    "### `for` Loop Approach\n",
    "Now, let's try it using a for loop."
   ]
  },
  {
   "cell_type": "code",
   "execution_count": 18,
   "metadata": {},
   "outputs": [
    {
     "name": "stdout",
     "output_type": "stream",
     "text": [
      "A 8\n"
     ]
    }
   ],
   "source": [
    "counter = 0\n",
    "\n",
    "for character in chrome_4:\n",
    "    if character == 'A':\n",
    "        counter += 1\n",
    "        \n",
    "print('A', counter)"
   ]
  },
  {
   "cell_type": "markdown",
   "metadata": {},
   "source": [
    "Laslty, let's wrap it in a function we can use for other letters."
   ]
  },
  {
   "cell_type": "code",
   "execution_count": 19,
   "metadata": {},
   "outputs": [
    {
     "name": "stdout",
     "output_type": "stream",
     "text": [
      "A 8\n",
      "C 7\n",
      "W 0\n"
     ]
    }
   ],
   "source": [
    "def my_count(target, letter):\n",
    "    \"\"\"\n",
    "    (str, str) -> int\n",
    "    Count the number of times the letter in in target.\n",
    "    \"\"\"\n",
    "    \n",
    "    counter = 0\n",
    "\n",
    "    for character in target:\n",
    "        if character == letter:\n",
    "            counter += 1\n",
    "            \n",
    "    return counter\n",
    "    \n",
    "\n",
    "print(\"A\", my_count(chrome_4, 'A'))\n",
    "print(\"C\", my_count(chrome_4, 'C'))\n",
    "print(\"W\", my_count(chrome_4, 'W'))"
   ]
  },
  {
   "cell_type": "markdown",
   "metadata": {},
   "source": [
    "<a id='section3'></a>\n",
    "## 3. Breakout Session 1\n",
    "Write a function that takes in a string and returns the number of vowels in the string.\n",
    "\n",
    "Hint: The `in` operator can be very helpful here."
   ]
  },
  {
   "cell_type": "code",
   "execution_count": 20,
   "metadata": {},
   "outputs": [
    {
     "name": "stdout",
     "output_type": "stream",
     "text": [
      "yes\n"
     ]
    }
   ],
   "source": [
    "if 'a' in 'abc':\n",
    "    print(\"yes\")\n",
    "else:\n",
    "    print('no')"
   ]
  },
  {
   "cell_type": "code",
   "execution_count": 21,
   "metadata": {},
   "outputs": [
    {
     "name": "stdout",
     "output_type": "stream",
     "text": [
      "no\n"
     ]
    }
   ],
   "source": [
    "if 'w' in 'abc':\n",
    "    print(\"yes\")\n",
    "else:\n",
    "    print('no')"
   ]
  },
  {
   "cell_type": "markdown",
   "metadata": {},
   "source": [
    "Fill in the code below with your solution."
   ]
  },
  {
   "cell_type": "code",
   "execution_count": 26,
   "metadata": {},
   "outputs": [],
   "source": [
    "def count_vowels(s):\n",
    "    \"\"\"\n",
    "    (str) -> int\n",
    "    Return the number of vowels in s.\n",
    "    \n",
    "    Example:\n",
    "    count_vowels('Hello World!')\n",
    "    >>> 3\n",
    "    \"\"\"\n",
    "    \n",
    "    #create some vowel counter\n",
    "    num_vowels = 0\n",
    "    \n",
    "    #set s to lowercase\n",
    "    #s = s.lower()\n",
    "    \n",
    "    #loop through s\n",
    "    for char in s:\n",
    "        \n",
    "        #check if the character we are at is a vowel\n",
    "        if char in 'aeiouAEIOU':\n",
    "            num_vowels += 1\n",
    "        \n",
    "    #check docstring, what do we return?\n",
    "    return num_vowels\n"
   ]
  },
  {
   "cell_type": "markdown",
   "metadata": {},
   "source": [
    "**Test 1**"
   ]
  },
  {
   "cell_type": "code",
   "execution_count": 27,
   "metadata": {},
   "outputs": [
    {
     "name": "stdout",
     "output_type": "stream",
     "text": [
      "5\n"
     ]
    }
   ],
   "source": [
    "print(count_vowels('Happy Anniversary!'))"
   ]
  },
  {
   "cell_type": "markdown",
   "metadata": {},
   "source": [
    "**Test 2**"
   ]
  },
  {
   "cell_type": "code",
   "execution_count": 28,
   "metadata": {},
   "outputs": [
    {
     "name": "stdout",
     "output_type": "stream",
     "text": [
      "0\n"
     ]
    }
   ],
   "source": [
    "print(count_vowels('xyz'))\n",
    "\n"
   ]
  },
  {
   "cell_type": "code",
   "execution_count": 35,
   "metadata": {},
   "outputs": [
    {
     "name": "stdout",
     "output_type": "stream",
     "text": [
      "s\n",
      "t\n",
      "r\n",
      "i\n",
      "n\n",
      "g\n"
     ]
    }
   ],
   "source": [
    "my_str = 'string'\n",
    "\n",
    "my_str.find()\n",
    "\n",
    "i = 0\n",
    "while i < len(my_str):\n",
    "    print(my_str[i])\n",
    "    i += 1"
   ]
  },
  {
   "cell_type": "markdown",
   "metadata": {},
   "source": [
    "<a id='section4'></a>\n",
    "## 4. Breakout Session 2\n",
    "Write a function to return the unique non-numeric characters in a string of integer codes.\n",
    "\n",
    "Hint: The `.isnumeric()` string method might be helpful."
   ]
  },
  {
   "cell_type": "code",
   "execution_count": null,
   "metadata": {},
   "outputs": [],
   "source": [
    "'3'.isnumeric()"
   ]
  },
  {
   "cell_type": "code",
   "execution_count": null,
   "metadata": {},
   "outputs": [],
   "source": [
    "'h'.isnumeric()"
   ]
  },
  {
   "cell_type": "markdown",
   "metadata": {},
   "source": [
    "Fill in the code below with your solution."
   ]
  },
  {
   "cell_type": "code",
   "execution_count": null,
   "metadata": {},
   "outputs": [],
   "source": [
    "def find_chars(s):\n",
    "    \"\"\"\n",
    "    (str) -> str\n",
    "    Return a concatentation of all unique seperators in s. The string only contains integers and separators.\n",
    "    \n",
    "    Example:\n",
    "    find_chars('234.1234.12345,23')\n",
    "    >>> '.,'\n",
    "    \"\"\""
   ]
  },
  {
   "cell_type": "markdown",
   "metadata": {},
   "source": [
    "**Test 1**"
   ]
  },
  {
   "cell_type": "code",
   "execution_count": null,
   "metadata": {},
   "outputs": [],
   "source": [
    "print(find_chars('23,a613-23;2:45'))"
   ]
  },
  {
   "cell_type": "markdown",
   "metadata": {},
   "source": [
    "**Test 2**"
   ]
  },
  {
   "cell_type": "code",
   "execution_count": null,
   "metadata": {},
   "outputs": [],
   "source": [
    "print(find_chars('613-555-3224'))"
   ]
  }
 ],
 "metadata": {
  "kernelspec": {
   "display_name": "Python 3 (ipykernel)",
   "language": "python",
   "name": "python3"
  },
  "language_info": {
   "codemirror_mode": {
    "name": "ipython",
    "version": 3
   },
   "file_extension": ".py",
   "mimetype": "text/x-python",
   "name": "python",
   "nbconvert_exporter": "python",
   "pygments_lexer": "ipython3",
   "version": "3.9.7"
  }
 },
 "nbformat": 4,
 "nbformat_minor": 1
}
