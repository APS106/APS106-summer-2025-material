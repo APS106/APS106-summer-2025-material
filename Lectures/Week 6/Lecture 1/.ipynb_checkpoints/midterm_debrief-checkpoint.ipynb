{
 "cells": [
  {
   "cell_type": "code",
   "execution_count": 1,
   "id": "a3532468",
   "metadata": {},
   "outputs": [
    {
     "name": "stdout",
     "output_type": "stream",
     "text": [
      "0\n"
     ]
    }
   ],
   "source": [
    "total = 0\n",
    "\n",
    "def my_sum(n): \n",
    "    total = 0\n",
    "    for i in range(n+1): \n",
    "        total += i\n",
    "    return total\n",
    "\n",
    "my_sum(2)\n",
    "print(total)"
   ]
  },
  {
   "cell_type": "code",
   "execution_count": 2,
   "id": "d5dd2fe3",
   "metadata": {},
   "outputs": [
    {
     "name": "stdout",
     "output_type": "stream",
     "text": [
      "1\n"
     ]
    }
   ],
   "source": [
    "count = 0\n",
    "if \"relative\" in \"relativity\":\n",
    "\tcount += 1\n",
    "elif \"relativ\" in \"relativity\":\n",
    "\tcount += 1\n",
    "elif \"relati\" in \"relativity\":\n",
    "\tcount += 1\n",
    "print(count)"
   ]
  },
  {
   "cell_type": "code",
   "execution_count": 3,
   "id": "29a99363",
   "metadata": {},
   "outputs": [
    {
     "name": "stdout",
     "output_type": "stream",
     "text": [
      "1\n",
      "6\n",
      "9\n"
     ]
    }
   ],
   "source": [
    "print(int(3.0)^2)\n",
    "print(3*2)\n",
    "print(3**2)"
   ]
  },
  {
   "cell_type": "code",
   "execution_count": null,
   "id": "ce6e3f3b",
   "metadata": {},
   "outputs": [],
   "source": [
    "cat_info = [['catonio',6,17.8],\n",
    "            ['garfield',43,42.0],\n",
    "            ['salem',100,6.6]]\n",
    "\n",
    "#cat_info[0] = 'z'\n",
    "#cat_info[1][0] = 'z'\n",
    "#cat_info[2][0][0] = 'z'\n",
    "#cat_info *= 2\n",
    "cat_info += [2]"
   ]
  },
  {
   "cell_type": "code",
   "execution_count": null,
   "id": "f7c2902f",
   "metadata": {},
   "outputs": [],
   "source": [
    "L = [1]\n",
    "L += [2]\n",
    "L = L.append([3])\n",
    "print(L)\n"
   ]
  },
  {
   "cell_type": "code",
   "execution_count": 4,
   "id": "6b316e31",
   "metadata": {},
   "outputs": [
    {
     "name": "stdout",
     "output_type": "stream",
     "text": [
      "B\n",
      "A\n",
      "2\n",
      "3\n",
      "None\n"
     ]
    }
   ],
   "source": [
    "def f1(n): \n",
    "    print(\"A\")\n",
    "    return 2\n",
    "\n",
    "print(\"B\")\n",
    "\n",
    "def f2(): \n",
    "    return 1\n",
    "    print(\"C\")\n",
    "    \n",
    "def f3(x,y,z):\n",
    "\td = (x**2 + y**2 + z**2)**(1/2)\n",
    "\treturn d\n",
    "\n",
    "def f4(param):\n",
    "\tprint(param)\n",
    "\n",
    "print(f1(f2()))\n",
    "print(f4(3))"
   ]
  },
  {
   "cell_type": "code",
   "execution_count": null,
   "id": "a03af95d",
   "metadata": {},
   "outputs": [],
   "source": [
    "#Question 3\n",
    "\n"
   ]
  },
  {
   "cell_type": "code",
   "execution_count": 8,
   "id": "80bdf0b2",
   "metadata": {},
   "outputs": [],
   "source": [
    "#Question 4a\n",
    "\n",
    "def check_palindrome(string):\n",
    "    '''\n",
    "    (string) -> bool\n",
    "    \n",
    "Takes in a string and returns a Boolean value that is True when the string is a palindrome, and False otherwise.\n",
    "    '''\n",
    "\n"
   ]
  },
  {
   "cell_type": "code",
   "execution_count": null,
   "id": "f827e675",
   "metadata": {},
   "outputs": [],
   "source": [
    "#Question 4b\n"
   ]
  },
  {
   "cell_type": "code",
   "execution_count": 9,
   "id": "54c0c146",
   "metadata": {},
   "outputs": [],
   "source": [
    "#Question 5a\n",
    "\n",
    "def create_times(hours, minutes):\n",
    "    '''\n",
    "    (list of ints, list of ints) -> list of lists\n",
    "    \n",
    "    Takes in a list of all possible hours and a list of all possible minutes, \n",
    "    and returns a list of lists that contains all possible \n",
    "    combinations of hours and minutes.\n",
    "\n",
    "    Each sub-list is in the form [hour, minute] (for example: [1,59]).\n",
    "    '''\n"
   ]
  },
  {
   "cell_type": "code",
   "execution_count": null,
   "id": "764f547b",
   "metadata": {},
   "outputs": [],
   "source": [
    "#Question 5b\n",
    "\n",
    "def display_time(time, meridiem):\n",
    "    '''\n",
    "    (list of ints, str) -> None\n",
    "    Takes a list of ints (representing a specific hour and minute) \n",
    "    and a string that is either ‘AM’ or ‘PM’.  \n",
    "    The function prints the time in colon notation (i.e. hour:minute).  \n",
    "    The ‘AM’ or ‘PM’ value is printed on the same line as the time, \n",
    "    after the time, separated by a tab.\n",
    "    '''\n"
   ]
  }
 ],
 "metadata": {
  "kernelspec": {
   "display_name": "Python 3 (ipykernel)",
   "language": "python",
   "name": "python3"
  },
  "language_info": {
   "codemirror_mode": {
    "name": "ipython",
    "version": 3
   },
   "file_extension": ".py",
   "mimetype": "text/x-python",
   "name": "python",
   "nbconvert_exporter": "python",
   "pygments_lexer": "ipython3",
   "version": "3.9.7"
  }
 },
 "nbformat": 4,
 "nbformat_minor": 5
}
