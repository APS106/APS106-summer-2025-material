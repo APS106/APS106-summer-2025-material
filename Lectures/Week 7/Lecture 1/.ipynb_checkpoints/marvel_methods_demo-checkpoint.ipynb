{
 "cells": [
  {
   "cell_type": "code",
   "execution_count": 1,
   "id": "36deb4b9",
   "metadata": {},
   "outputs": [
    {
     "name": "stdout",
     "output_type": "stream",
     "text": [
      "{'Spider-Man', 'Iron Man', 'Thor', 'Hulk'}\n"
     ]
    }
   ],
   "source": [
    "# Set add\n",
    "heroes = {\"Iron Man\", \"Thor\", \"Hulk\"}\n",
    "heroes.add(\"Spider-Man\")\n",
    "print(heroes)"
   ]
  },
  {
   "cell_type": "code",
   "execution_count": 3,
   "id": "b0239e96",
   "metadata": {},
   "outputs": [
    {
     "name": "stdout",
     "output_type": "stream",
     "text": [
      "{'Spider-Man', 'Iron Man', 'Thor'}\n"
     ]
    }
   ],
   "source": [
    "# Set remove\n",
    "heroes.remove(\"Hulk\")\n",
    "print(heroes)"
   ]
  },
  {
   "cell_type": "code",
   "execution_count": 4,
   "id": "38ffa2a8",
   "metadata": {},
   "outputs": [
    {
     "name": "stdout",
     "output_type": "stream",
     "text": [
      "{'Star-Lord', 'Iron Man', 'Rocket', 'Captain America'}\n"
     ]
    }
   ],
   "source": [
    "# Set union\n",
    "avengers = {\"Iron Man\", \"Captain America\"}\n",
    "guardians = {\"Star-Lord\", \"Rocket\"}\n",
    "all_heroes = avengers.union(guardians)\n",
    "print(all_heroes)"
   ]
  },
  {
   "cell_type": "code",
   "execution_count": 5,
   "id": "d5d5355b",
   "metadata": {},
   "outputs": [
    {
     "name": "stdout",
     "output_type": "stream",
     "text": [
      "{'Spider-Man', 'Iron Man'}\n"
     ]
    }
   ],
   "source": [
    "# Set intersection\n",
    "new_avengers = {\"Spider-Man\", \"Doctor Strange\", \"Iron Man\"}\n",
    "common_heroes = heroes.intersection(new_avengers)\n",
    "print(common_heroes)"
   ]
  },
  {
   "cell_type": "code",
   "execution_count": 6,
   "id": "b2a7a705",
   "metadata": {},
   "outputs": [
    {
     "name": "stdout",
     "output_type": "stream",
     "text": [
      "{'Iron Man': 2008, 'Guardians of the Galaxy': 2014}\n"
     ]
    }
   ],
   "source": [
    "# Dictionary del\n",
    "marvel_movies = {\n",
    "    \"Iron Man\": 2008,\n",
    "    \"The Avengers\": 2012,\n",
    "    \"Guardians of the Galaxy\": 2014\n",
    "}\n",
    "del marvel_movies[\"The Avengers\"]\n",
    "print(marvel_movies)"
   ]
  },
  {
   "cell_type": "code",
   "execution_count": 7,
   "id": "86fef67d",
   "metadata": {},
   "outputs": [
    {
     "name": "stdout",
     "output_type": "stream",
     "text": [
      "2008\n",
      "{'Guardians of the Galaxy': 2014}\n"
     ]
    }
   ],
   "source": [
    "# Dictionary pop\n",
    "movie_year = marvel_movies.pop(\"Iron Man\")\n",
    "print(movie_year)\n",
    "print(marvel_movies)"
   ]
  },
  {
   "cell_type": "code",
   "execution_count": 8,
   "id": "67a2de93",
   "metadata": {},
   "outputs": [
    {
     "name": "stdout",
     "output_type": "stream",
     "text": [
      "['Iron Man', 'Thor', 'Hulk']\n"
     ]
    }
   ],
   "source": [
    "# List append\n",
    "characters = [\"Iron Man\", \"Thor\"]\n",
    "characters.append(\"Hulk\")\n",
    "print(characters)"
   ]
  },
  {
   "cell_type": "code",
   "execution_count": 9,
   "id": "fe9b9bc6",
   "metadata": {},
   "outputs": [
    {
     "name": "stdout",
     "output_type": "stream",
     "text": [
      "['Iron Man', 'Thor', 'Hulk', 'Captain America', 'Black Widow']\n"
     ]
    }
   ],
   "source": [
    "# List extend\n",
    "more_characters = [\"Captain America\", \"Black Widow\"]\n",
    "characters.extend(more_characters)\n",
    "print(characters)"
   ]
  },
  {
   "cell_type": "code",
   "execution_count": 10,
   "id": "a61204f1",
   "metadata": {},
   "outputs": [
    {
     "name": "stdout",
     "output_type": "stream",
     "text": [
      "['Iron Man', 'Thor', 'Spider-Man', 'Hulk', 'Captain America', 'Black Widow']\n"
     ]
    }
   ],
   "source": [
    "# List insert\n",
    "characters.insert(2, \"Spider-Man\")\n",
    "print(characters)"
   ]
  },
  {
   "cell_type": "code",
   "execution_count": 11,
   "id": "25b5bb43",
   "metadata": {},
   "outputs": [
    {
     "name": "stdout",
     "output_type": "stream",
     "text": [
      "['I am Iron Man.\\n', 'I can do this all day.\\n', 'I am Groot.\\n']\n"
     ]
    }
   ],
   "source": [
    "# File readlines\n",
    "with open(\"marvel_quotes.txt\", \"w\") as file:\n",
    "    file.write(\"I am Iron Man.\\nI can do this all day.\\nI am Groot.\\n\")\n",
    "\n",
    "with open(\"marvel_quotes.txt\", \"r\") as file:\n",
    "    quotes = file.readlines()\n",
    "    print(quotes)"
   ]
  },
  {
   "cell_type": "code",
   "execution_count": 12,
   "id": "54b85249",
   "metadata": {},
   "outputs": [
    {
     "name": "stdout",
     "output_type": "stream",
     "text": [
      "I am Groot.\n"
     ]
    }
   ],
   "source": [
    "# String replace\n",
    "quote = \"I am Iron Man.\"\n",
    "new_quote = quote.replace(\"Iron Man\", \"Groot\")\n",
    "print(new_quote)"
   ]
  },
  {
   "cell_type": "code",
   "execution_count": 13,
   "id": "5e5eca7d",
   "metadata": {},
   "outputs": [
    {
     "name": "stdout",
     "output_type": "stream",
     "text": [
      "I am Groot.\n"
     ]
    }
   ],
   "source": [
    "# String strip\n",
    "noisy_quote = \"  I am Groot.   \"\n",
    "clean_quote = noisy_quote.strip()\n",
    "print(clean_quote)"
   ]
  },
  {
   "cell_type": "code",
   "execution_count": 14,
   "id": "f028f2db",
   "metadata": {},
   "outputs": [
    {
     "name": "stdout",
     "output_type": "stream",
     "text": [
      "['I', 'am', 'Iron', 'Man.']\n"
     ]
    }
   ],
   "source": [
    "# String split\n",
    "quote = \"I am Iron Man.\"\n",
    "words = quote.split()\n",
    "print(words)"
   ]
  },
  {
   "cell_type": "code",
   "execution_count": null,
   "id": "37400091",
   "metadata": {},
   "outputs": [],
   "source": [
    "# String split\n",
    "quote = \"I...Z.am...Sand...Man...\"\n",
    "words = quote.split()\n",
    "print(words)"
   ]
  }
 ],
 "metadata": {
  "kernelspec": {
   "display_name": "Python 3 (ipykernel)",
   "language": "python",
   "name": "python3"
  },
  "language_info": {
   "codemirror_mode": {
    "name": "ipython",
    "version": 3
   },
   "file_extension": ".py",
   "mimetype": "text/x-python",
   "name": "python",
   "nbconvert_exporter": "python",
   "pygments_lexer": "ipython3",
   "version": "3.10.9"
  }
 },
 "nbformat": 4,
 "nbformat_minor": 5
}
