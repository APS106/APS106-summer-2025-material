{
 "cells": [
  {
   "cell_type": "code",
   "execution_count": 1,
   "id": "7ed0e048",
   "metadata": {},
   "outputs": [
    {
     "name": "stdout",
     "output_type": "stream",
     "text": [
      "2\n"
     ]
    }
   ],
   "source": [
    "# String count\n",
    "s = \"Avengers, Assemble! Avengers, Unite!\"\n",
    "print(s.count(\"Avengers\"))"
   ]
  },
  {
   "cell_type": "code",
   "execution_count": 2,
   "id": "64e59894",
   "metadata": {},
   "outputs": [
    {
     "name": "stdout",
     "output_type": "stream",
     "text": [
      "10\n"
     ]
    }
   ],
   "source": [
    "# String index\n",
    "print(s.index(\"Assemble\"))"
   ]
  },
  {
   "cell_type": "code",
   "execution_count": 3,
   "id": "f04bce56",
   "metadata": {},
   "outputs": [
    {
     "name": "stdout",
     "output_type": "stream",
     "text": [
      "30\n"
     ]
    }
   ],
   "source": [
    "# String find\n",
    "print(s.find(\"Unite\"))"
   ]
  },
  {
   "cell_type": "code",
   "execution_count": 4,
   "id": "f60d8290",
   "metadata": {},
   "outputs": [
    {
     "name": "stdout",
     "output_type": "stream",
     "text": [
      "20\n"
     ]
    }
   ],
   "source": [
    "# String rfind\n",
    "print(s.rfind(\"Avengers\"))"
   ]
  },
  {
   "cell_type": "code",
   "execution_count": 5,
   "id": "4e6af689",
   "metadata": {},
   "outputs": [
    {
     "name": "stdout",
     "output_type": "stream",
     "text": [
      "AVENGERS, ASSEMBLE! AVENGERS, UNITE!\n"
     ]
    }
   ],
   "source": [
    "# String upper\n",
    "print(s.upper())"
   ]
  },
  {
   "cell_type": "code",
   "execution_count": 6,
   "id": "fe1708b7",
   "metadata": {},
   "outputs": [
    {
     "name": "stdout",
     "output_type": "stream",
     "text": [
      "avengers, assemble! avengers, unite!\n"
     ]
    }
   ],
   "source": [
    "# String lower\n",
    "print(s.lower())"
   ]
  },
  {
   "cell_type": "code",
   "execution_count": 7,
   "id": "e5d845a4",
   "metadata": {},
   "outputs": [
    {
     "name": "stdout",
     "output_type": "stream",
     "text": [
      "False\n"
     ]
    }
   ],
   "source": [
    "# String isupper\n",
    "print(s.isupper())"
   ]
  },
  {
   "cell_type": "code",
   "execution_count": 8,
   "id": "8faca801",
   "metadata": {},
   "outputs": [
    {
     "name": "stdout",
     "output_type": "stream",
     "text": [
      "False\n"
     ]
    }
   ],
   "source": [
    "# String islower\n",
    "print(s.islower())"
   ]
  },
  {
   "cell_type": "code",
   "execution_count": 9,
   "id": "80c36f59",
   "metadata": {},
   "outputs": [
    {
     "name": "stdout",
     "output_type": "stream",
     "text": [
      "Iron man\n"
     ]
    }
   ],
   "source": [
    "# String capitalize\n",
    "s2 = \"iron man\"\n",
    "print(s2.capitalize())"
   ]
  },
  {
   "cell_type": "code",
   "execution_count": 10,
   "id": "881bbe17",
   "metadata": {},
   "outputs": [
    {
     "name": "stdout",
     "output_type": "stream",
     "text": [
      "Guardians, Assemble! Guardians, Unite!\n"
     ]
    }
   ],
   "source": [
    "# String replace\n",
    "print(s.replace(\"Avengers\", \"Guardians\"))"
   ]
  },
  {
   "cell_type": "code",
   "execution_count": 11,
   "id": "fc6f9d64",
   "metadata": {},
   "outputs": [
    {
     "name": "stdout",
     "output_type": "stream",
     "text": [
      "['Avengers,', 'Assemble!', 'Avengers,', 'Unite!']\n"
     ]
    }
   ],
   "source": [
    "# String split\n",
    "print(s.split())"
   ]
  },
  {
   "cell_type": "code",
   "execution_count": 12,
   "id": "9f133c2c",
   "metadata": {},
   "outputs": [
    {
     "name": "stdout",
     "output_type": "stream",
     "text": [
      "Wakanda Forever!\n"
     ]
    }
   ],
   "source": [
    "# String strip\n",
    "s3 = \"   Wakanda Forever!   \"\n",
    "print(s3.strip())"
   ]
  },
  {
   "cell_type": "code",
   "execution_count": 13,
   "id": "87bba13a",
   "metadata": {},
   "outputs": [
    {
     "name": "stdout",
     "output_type": "stream",
     "text": [
      "2\n"
     ]
    }
   ],
   "source": [
    "# Tuple count\n",
    "t = (\"Iron Man\", \"Thor\", \"Hulk\", \"Iron Man\", \"Thor\")\n",
    "print(t.count(\"Iron Man\"))"
   ]
  },
  {
   "cell_type": "code",
   "execution_count": 14,
   "id": "ccabff8e",
   "metadata": {},
   "outputs": [
    {
     "name": "stdout",
     "output_type": "stream",
     "text": [
      "2\n"
     ]
    }
   ],
   "source": [
    "# Tuple index\n",
    "print(t.index(\"Hulk\"))"
   ]
  },
  {
   "cell_type": "code",
   "execution_count": 15,
   "id": "70f08fef",
   "metadata": {},
   "outputs": [
    {
     "name": "stdout",
     "output_type": "stream",
     "text": [
      "['Iron Man', 'Thor', 'Hulk']\n"
     ]
    }
   ],
   "source": [
    "# List append\n",
    "heroes = [\"Iron Man\", \"Thor\"]\n",
    "heroes.append(\"Hulk\")\n",
    "print(heroes)"
   ]
  },
  {
   "cell_type": "code",
   "execution_count": 16,
   "id": "23e144a7",
   "metadata": {},
   "outputs": [
    {
     "name": "stdout",
     "output_type": "stream",
     "text": [
      "['Iron Man', 'Thor', 'Hulk', 'Captain America', 'Black Widow']\n"
     ]
    }
   ],
   "source": [
    "# List extend\n",
    "more_heroes = [\"Captain America\", \"Black Widow\"]\n",
    "heroes.extend(more_heroes)\n",
    "print(heroes)"
   ]
  },
  {
   "cell_type": "code",
   "execution_count": 17,
   "id": "4cb75ad5",
   "metadata": {},
   "outputs": [
    {
     "name": "stdout",
     "output_type": "stream",
     "text": [
      "1\n"
     ]
    }
   ],
   "source": [
    "# List count\n",
    "print(heroes.count(\"Thor\"))"
   ]
  },
  {
   "cell_type": "code",
   "execution_count": 18,
   "id": "af9d40d5",
   "metadata": {},
   "outputs": [
    {
     "name": "stdout",
     "output_type": "stream",
     "text": [
      "['Iron Man', 'Thor', 'Spider-Man', 'Hulk', 'Captain America', 'Black Widow']\n"
     ]
    }
   ],
   "source": [
    "# List insert\n",
    "heroes.insert(2, \"Spider-Man\")\n",
    "print(heroes)"
   ]
  },
  {
   "cell_type": "code",
   "execution_count": 19,
   "id": "b699150c",
   "metadata": {},
   "outputs": [
    {
     "name": "stdout",
     "output_type": "stream",
     "text": [
      "['Iron Man', 'Thor', 'Spider-Man', 'Captain America', 'Black Widow']\n"
     ]
    }
   ],
   "source": [
    "# List remove\n",
    "heroes.remove(\"Hulk\")\n",
    "print(heroes)"
   ]
  },
  {
   "cell_type": "code",
   "execution_count": 20,
   "id": "9dd590e4",
   "metadata": {},
   "outputs": [
    {
     "name": "stdout",
     "output_type": "stream",
     "text": [
      "Black Widow\n",
      "['Iron Man', 'Thor', 'Spider-Man', 'Captain America']\n"
     ]
    }
   ],
   "source": [
    "# List pop\n",
    "print(heroes.pop())\n",
    "print(heroes)"
   ]
  },
  {
   "cell_type": "code",
   "execution_count": 21,
   "id": "c56a9cb4",
   "metadata": {},
   "outputs": [
    {
     "name": "stdout",
     "output_type": "stream",
     "text": [
      "0\n"
     ]
    }
   ],
   "source": [
    "# List index\n",
    "print(heroes.index(\"Iron Man\"))"
   ]
  },
  {
   "cell_type": "code",
   "execution_count": 22,
   "id": "5f969a81",
   "metadata": {},
   "outputs": [
    {
     "name": "stdout",
     "output_type": "stream",
     "text": [
      "['Captain America', 'Spider-Man', 'Thor', 'Iron Man']\n"
     ]
    }
   ],
   "source": [
    "# List reverse\n",
    "heroes.reverse()\n",
    "print(heroes)"
   ]
  },
  {
   "cell_type": "code",
   "execution_count": 23,
   "id": "527b15a1",
   "metadata": {},
   "outputs": [
    {
     "name": "stdout",
     "output_type": "stream",
     "text": [
      "['Captain America', 'Iron Man', 'Spider-Man', 'Thor']\n"
     ]
    }
   ],
   "source": [
    "# List sort\n",
    "heroes.sort()\n",
    "print(heroes)"
   ]
  },
  {
   "cell_type": "code",
   "execution_count": 24,
   "id": "266774c7",
   "metadata": {},
   "outputs": [
    {
     "name": "stdout",
     "output_type": "stream",
     "text": [
      "{'Spider-Man', 'Thor', 'Iron Man', 'Hulk'}\n"
     ]
    }
   ],
   "source": [
    "# Set add\n",
    "heroes_set = {\"Iron Man\", \"Thor\", \"Hulk\"}\n",
    "heroes_set.add(\"Spider-Man\")\n",
    "print(heroes_set)"
   ]
  },
  {
   "cell_type": "code",
   "execution_count": 25,
   "id": "b441210b",
   "metadata": {},
   "outputs": [
    {
     "name": "stdout",
     "output_type": "stream",
     "text": [
      "{'Spider-Man', 'Thor', 'Iron Man'}\n"
     ]
    }
   ],
   "source": [
    "# Set remove\n",
    "heroes_set.remove(\"Hulk\")\n",
    "print(heroes_set)"
   ]
  },
  {
   "cell_type": "code",
   "execution_count": 26,
   "id": "a92e385d",
   "metadata": {},
   "outputs": [
    {
     "name": "stdout",
     "output_type": "stream",
     "text": [
      "{'Iron Man', 'Rocket', 'Star-Lord', 'Captain America'}\n"
     ]
    }
   ],
   "source": [
    "# Set union\n",
    "avengers = {\"Iron Man\", \"Captain America\"}\n",
    "guardians = {\"Star-Lord\", \"Rocket\"}\n",
    "all_heroes = avengers.union(guardians)\n",
    "print(all_heroes)"
   ]
  },
  {
   "cell_type": "code",
   "execution_count": 27,
   "id": "c76fa441",
   "metadata": {},
   "outputs": [
    {
     "name": "stdout",
     "output_type": "stream",
     "text": [
      "{'Spider-Man', 'Iron Man'}\n"
     ]
    }
   ],
   "source": [
    "# Set intersection\n",
    "new_avengers = {\"Spider-Man\", \"Doctor Strange\", \"Iron Man\"}\n",
    "common_heroes = heroes_set.intersection(new_avengers)\n",
    "print(common_heroes)"
   ]
  },
  {
   "cell_type": "code",
   "execution_count": 28,
   "id": "efaed389",
   "metadata": {},
   "outputs": [
    {
     "name": "stdout",
     "output_type": "stream",
     "text": [
      "Spider-Man\n",
      "{'Thor', 'Iron Man'}\n"
     ]
    }
   ],
   "source": [
    "# Set pop\n",
    "print(heroes_set.pop())\n",
    "print(heroes_set)"
   ]
  },
  {
   "cell_type": "code",
   "execution_count": 29,
   "id": "2b700e9e",
   "metadata": {},
   "outputs": [
    {
     "name": "stdout",
     "output_type": "stream",
     "text": [
      "{'Thor', 'Iron Man', 'Hawkeye', 'Black Widow'}\n"
     ]
    }
   ],
   "source": [
    "# Set update\n",
    "heroes_set.update([\"Black Widow\", \"Hawkeye\"])\n",
    "print(heroes_set)"
   ]
  },
  {
   "cell_type": "code",
   "execution_count": 30,
   "id": "97383b4f",
   "metadata": {},
   "outputs": [
    {
     "name": "stdout",
     "output_type": "stream",
     "text": [
      "dict_keys(['Iron Man', 'The Avengers', 'Guardians of the Galaxy'])\n"
     ]
    }
   ],
   "source": [
    "# Dictionary keys\n",
    "marvel_movies = {\n",
    "    \"Iron Man\": 2008,\n",
    "    \"The Avengers\": 2012,\n",
    "    \"Guardians of the Galaxy\": 2014\n",
    "}\n",
    "print(marvel_movies.keys())"
   ]
  },
  {
   "cell_type": "code",
   "execution_count": 31,
   "id": "08e3a2e5",
   "metadata": {},
   "outputs": [
    {
     "name": "stdout",
     "output_type": "stream",
     "text": [
      "dict_values([2008, 2012, 2014])\n"
     ]
    }
   ],
   "source": [
    "# Dictionary values\n",
    "print(marvel_movies.values())"
   ]
  },
  {
   "cell_type": "code",
   "execution_count": 32,
   "id": "d8afe14a",
   "metadata": {},
   "outputs": [
    {
     "name": "stdout",
     "output_type": "stream",
     "text": [
      "dict_items([('Iron Man', 2008), ('The Avengers', 2012), ('Guardians of the Galaxy', 2014)])\n"
     ]
    }
   ],
   "source": [
    "# Dictionary items\n",
    "print(marvel_movies.items())"
   ]
  },
  {
   "cell_type": "code",
   "execution_count": 33,
   "id": "a9b411ea",
   "metadata": {},
   "outputs": [
    {
     "name": "stdout",
     "output_type": "stream",
     "text": [
      "2008\n"
     ]
    }
   ],
   "source": [
    "# Dictionary get\n",
    "print(marvel_movies.get(\"Iron Man\"))"
   ]
  },
  {
   "cell_type": "code",
   "execution_count": 34,
   "id": "4d9cd974",
   "metadata": {},
   "outputs": [
    {
     "name": "stdout",
     "output_type": "stream",
     "text": [
      "2012\n",
      "{'Iron Man': 2008, 'Guardians of the Galaxy': 2014}\n"
     ]
    }
   ],
   "source": [
    "# Dictionary pop\n",
    "print(marvel_movies.pop(\"The Avengers\"))\n",
    "print(marvel_movies)"
   ]
  },
  {
   "cell_type": "code",
   "execution_count": 35,
   "id": "25b1585c",
   "metadata": {},
   "outputs": [
    {
     "name": "stdout",
     "output_type": "stream",
     "text": [
      "{'Iron Man': 2008, 'Guardians of the Galaxy': 2014, 'Black Panther': 2018, 'Doctor Strange': 2016}\n"
     ]
    }
   ],
   "source": [
    "# Dictionary update\n",
    "marvel_movies.update({\"Black Panther\": 2018, \"Doctor Strange\": 2016})\n",
    "print(marvel_movies)"
   ]
  }
 ],
 "metadata": {
  "kernelspec": {
   "display_name": "Python 3 (ipykernel)",
   "language": "python",
   "name": "python3"
  },
  "language_info": {
   "codemirror_mode": {
    "name": "ipython",
    "version": 3
   },
   "file_extension": ".py",
   "mimetype": "text/x-python",
   "name": "python",
   "nbconvert_exporter": "python",
   "pygments_lexer": "ipython3",
   "version": "3.10.9"
  }
 },
 "nbformat": 4,
 "nbformat_minor": 5
}
