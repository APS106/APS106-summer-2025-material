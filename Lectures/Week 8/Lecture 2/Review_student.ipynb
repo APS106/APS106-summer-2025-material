{
 "cells": [
  {
   "cell_type": "code",
   "execution_count": null,
   "id": "96d1b536",
   "metadata": {},
   "outputs": [],
   "source": [
    "class Cat:\n",
    "    \n",
    "    def __init__(self,name_param='unknown', colour='unknown', hair='unknown'):\n",
    "        \n",
    "        self.name = name_param\n",
    "        self.colour = colour\n",
    "        self.hair = hair\n",
    "        \n",
    "    def meow(self):\n",
    "        \n",
    "        print('meow')\n",
    "    \n",
    "    def append(self):\n",
    "        \n",
    "        print('zzzzz')\n",
    "    \n",
    "    def eat(self):\n",
    "        \n",
    "        print('nomnom')\n",
    "\n",
    "        #attributes\n",
    "        #classes in classes"
   ]
  },
  {
   "cell_type": "code",
   "execution_count": null,
   "id": "65ba3d0c",
   "metadata": {},
   "outputs": [],
   "source": [
    "s = Cat('susie','purple')\n",
    "c = Cat('catonio','orange')\n",
    "\n",
    "\n",
    "print(s.name)\n",
    "s.meow()"
   ]
  },
  {
   "cell_type": "code",
   "execution_count": null,
   "id": "c998bfd4",
   "metadata": {
    "scrolled": true
   },
   "outputs": [],
   "source": [
    "#s.eat()\n",
    "\n",
    "s.hair = 'longhair'\n",
    "\n",
    "print(s.hair)\n",
    "\n",
    "#print('hello', '',sep = ' ', end = '')\n",
    "print('hi', 'hello', 'goodbye')\n",
    "print('jasmine')"
   ]
  },
  {
   "cell_type": "code",
   "execution_count": null,
   "id": "5fdfe594",
   "metadata": {},
   "outputs": [],
   "source": [
    "class CatPark:\n",
    "    \n",
    "    def __init__(self, name_param):\n",
    "        \n",
    "        self.name = name_param\n",
    "        \n",
    "        #population is a dictionary of Cat objects\n",
    "        #{<name>:<cat_object>,...}\n",
    "        self.population = {}\n",
    "        \n",
    "    \n",
    "    def __str__(self):\n",
    "        \n",
    "        my_string = ''\n",
    "        \n",
    "        for cat in self.population:\n",
    "            \n",
    "            my_string = my_string + ' ' + self.population[cat].colour\n",
    "            \n",
    "        return my_string\n",
    "        \n",
    "    \n",
    "    def cat_arrival(self, cat):\n",
    "        \n",
    "        self.population[cat.name] = cat\n",
    "        #self.population['susie'] = s\n",
    "        \n",
    "        print(cat.name + \" has arrived!\")\n",
    "        \n",
    "    \n",
    "    def special_print(self):\n",
    "        \n",
    "        print(self.name + \"is the best\")\n",
    "        \n",
    "        \n",
    "#help(open)       "
   ]
  },
  {
   "cell_type": "code",
   "execution_count": null,
   "id": "2a300354",
   "metadata": {},
   "outputs": [],
   "source": [
    "s = Cat('susie','purple')\n",
    "c = Cat('catonio','orange')\n",
    "\n",
    "cat_land = CatPark('Cat Land')\n",
    "\n",
    "#new cat shows up\n",
    "cat_land.cat_arrival(s)\n",
    "cat_land.cat_arrival(c)\n",
    "\n",
    "print(cat_land)"
   ]
  },
  {
   "cell_type": "code",
   "execution_count": null,
   "id": "f1e8f5fa",
   "metadata": {},
   "outputs": [],
   "source": [
    "cat_land.population['susie']"
   ]
  },
  {
   "cell_type": "code",
   "execution_count": null,
   "id": "b4982c15",
   "metadata": {},
   "outputs": [],
   "source": [
    "cat_land.special_print()"
   ]
  },
  {
   "cell_type": "code",
   "execution_count": null,
   "id": "59076dd6",
   "metadata": {},
   "outputs": [],
   "source": [
    "s.mood.append('happy')"
   ]
  },
  {
   "cell_type": "code",
   "execution_count": null,
   "id": "5badd6cf",
   "metadata": {},
   "outputs": [],
   "source": [
    "print(s)"
   ]
  },
  {
   "cell_type": "code",
   "execution_count": 163,
   "id": "12faf214",
   "metadata": {},
   "outputs": [
    {
     "name": "stdout",
     "output_type": "stream",
     "text": [
      "[1, 2, 3, 4, 5]\n",
      "1\n",
      "2\n",
      "3\n",
      "4\n",
      "5\n"
     ]
    }
   ],
   "source": [
    "x = [1,2,3,4,5]\n",
    "print(x)\n",
    "\n",
    "for element in x:\n",
    "    print(element)"
   ]
  },
  {
   "cell_type": "code",
   "execution_count": null,
   "id": "d1342891",
   "metadata": {},
   "outputs": [],
   "source": [
    "x = Cat()\n",
    "print(x.colour)"
   ]
  },
  {
   "cell_type": "code",
   "execution_count": null,
   "id": "b940fb6b",
   "metadata": {},
   "outputs": [],
   "source": [
    "data_structure1 = 'aps106'\n",
    "data_structure2 = ['a','p','s',1,0,6]\n",
    "data_structure3 = ('a','p','s',1,0,6)\n",
    "data_structure4 = {'a','p','s',1,0,6}\n",
    "data_structure5 = {'a':1,'p':0,'s':6}\n",
    "\n",
    "#printing\n",
    "print(data_structure1)\n",
    "print(data_structure2)\n",
    "print(data_structure3)\n",
    "print(data_structure4)\n",
    "print(data_structure5)"
   ]
  },
  {
   "cell_type": "code",
   "execution_count": null,
   "id": "e75e057e",
   "metadata": {},
   "outputs": [],
   "source": [
    "#length\n",
    "print(len(data_structure1))\n",
    "print(len(data_structure2))\n",
    "print(len(data_structure3))\n",
    "print(len(data_structure4))\n",
    "print(len(data_structure5))"
   ]
  },
  {
   "cell_type": "code",
   "execution_count": 31,
   "id": "37c006b1",
   "metadata": {},
   "outputs": [
    {
     "name": "stdout",
     "output_type": "stream",
     "text": [
      "a\n",
      "p\n",
      "s\n",
      "6\n"
     ]
    }
   ],
   "source": [
    "data_structure1 = 'aps106'\n",
    "data_structure2 = ['a','p','s',1,0,6]\n",
    "data_structure3 = ('a','p','s',1,0,6)\n",
    "data_structure4 = {'a','p','s',1,0,6}\n",
    "data_structure5 = {'a':1,'p':0,'s':6}\n",
    "\n",
    "#accessing\n",
    "print(data_structure1[0])\n",
    "print(data_structure2[1])\n",
    "print(data_structure3[2])\n",
    "#print(data_structure4[3])\n",
    "print(data_structure5['s'])\n",
    "#data_structure5.items()"
   ]
  },
  {
   "cell_type": "code",
   "execution_count": 33,
   "id": "c133f00b",
   "metadata": {},
   "outputs": [
    {
     "name": "stdout",
     "output_type": "stream",
     "text": [
      "{'a': 1, 'p': 0, 's': 2, 'z': 1}\n"
     ]
    }
   ],
   "source": [
    "#modifying\n",
    "#data_structure1[0] = 1\n",
    "#data_structure2[0] = 1\n",
    "#data_structure3[0] = 1\n",
    "#data_structure4.add(7)\n",
    "data_structure6 = {'z':1, 's':2}\n",
    "data_structure5.update(data_structure6)\n",
    "\n",
    "print(data_structure5)"
   ]
  },
  {
   "cell_type": "code",
   "execution_count": 37,
   "id": "f1b155af",
   "metadata": {},
   "outputs": [
    {
     "name": "stdout",
     "output_type": "stream",
     "text": [
      "('a', 'p', 's', 1, 0, 6, 1, 2, 3)\n"
     ]
    }
   ],
   "source": [
    "data_structure1 = 'aps106'\n",
    "data_structure2 = ['a','p','s',1,0,6]\n",
    "data_structure3 = ('a','p','s',1,0,6)\n",
    "data_structure4 = {'a','p','s',1,0,6}\n",
    "data_structure5 = {'a':1,'p':0,'s':6}\n",
    "\n",
    "#mutating\n",
    "data_structure1 = data_structure1.upper()\n",
    "#print(data_structure1)\n",
    "data_structure2.append(54)\n",
    "#print(data_structure2)\n",
    "data_structure3 += (1,2,3)\n",
    "print(data_structure3)"
   ]
  },
  {
   "cell_type": "code",
   "execution_count": null,
   "id": "da15f8d4",
   "metadata": {},
   "outputs": [],
   "source": [
    "#accessing\n",
    "data_structure1[0]\n",
    "#data_structure2[0]\n",
    "#data_structure3[0]\n",
    "#data_structure4[0]\n",
    "#data_structure5['a']"
   ]
  },
  {
   "cell_type": "code",
   "execution_count": 38,
   "id": "44858292",
   "metadata": {},
   "outputs": [
    {
     "name": "stdout",
     "output_type": "stream",
     "text": [
      "dict_values([1, 0, 6])\n",
      "dict_keys(['a', 'p', 's'])\n",
      "dict_items([('a', 1), ('p', 0), ('s', 6)])\n"
     ]
    }
   ],
   "source": [
    "print(data_structure5.values())\n",
    "print(data_structure5.keys())\n",
    "print(data_structure5.items())"
   ]
  },
  {
   "cell_type": "code",
   "execution_count": 40,
   "id": "764d7902",
   "metadata": {
    "scrolled": true
   },
   "outputs": [
    {
     "name": "stdout",
     "output_type": "stream",
     "text": [
      "{'n', 'm', 'o'}\n",
      "3\n"
     ]
    }
   ],
   "source": [
    "my_set = {'n','o','m','n','o','m'}\n",
    "print(my_set)\n",
    "print(len(my_set))"
   ]
  },
  {
   "cell_type": "code",
   "execution_count": 44,
   "id": "a7b71b92",
   "metadata": {},
   "outputs": [
    {
     "name": "stdout",
     "output_type": "stream",
     "text": [
      "None\n",
      "{1, 'd', 'f', 'n', 'm', 'o'}\n"
     ]
    }
   ],
   "source": [
    "print(len(my_set.unio({'f','o','o','d'})))\n",
    "my_new_set = my_set.union(my_old_set)\n",
    "print(my_set)"
   ]
  },
  {
   "cell_type": "code",
   "execution_count": 42,
   "id": "afd36690",
   "metadata": {},
   "outputs": [
    {
     "name": "stdout",
     "output_type": "stream",
     "text": [
      "{'n', 'm', 'o'}\n",
      "{'n', 'm', 'o', 1}\n"
     ]
    }
   ],
   "source": [
    "print(my_set)\n",
    "my_set.add(1)\n",
    "print(my_set)"
   ]
  },
  {
   "cell_type": "code",
   "execution_count": 45,
   "id": "d5108a86",
   "metadata": {},
   "outputs": [
    {
     "name": "stdout",
     "output_type": "stream",
     "text": [
      "{1, 'd', 'f', 'n', 'm', 'o'}\n",
      "{1, 'd', 'f', 'n', 'm', 'o'}\n"
     ]
    }
   ],
   "source": [
    "print(my_set)\n",
    "my_set.union({'f','o','o','d'})\n",
    "print(my_set)"
   ]
  },
  {
   "cell_type": "code",
   "execution_count": 46,
   "id": "2f3c628b",
   "metadata": {},
   "outputs": [
    {
     "name": "stdout",
     "output_type": "stream",
     "text": [
      "{1, 'd', 'f', 'n', 'm', 'o'}\n",
      "{1, 'd', 'f', 'n', 'm', 'o'}\n"
     ]
    }
   ],
   "source": [
    "print(my_set)\n",
    "my_set.update({'f','o','o','d'})\n",
    "print(my_set)"
   ]
  },
  {
   "cell_type": "code",
   "execution_count": 56,
   "id": "5299ccdd",
   "metadata": {},
   "outputs": [
    {
     "name": "stdout",
     "output_type": "stream",
     "text": [
      "before add: {1: 'a', 2: 'b', 3: 'c', 4: 'd'}\n",
      "after add: {1: 'a', 2: 'b', 3: 'c', 4: 'd', 5: 'e'}\n",
      "after func: {1: 'a', 2: 'b', 3: 'c', 4: 'd', 5: 'e'}\n"
     ]
    }
   ],
   "source": [
    "def some_func(container):\n",
    "    \n",
    "    #prints the value of container at the beginning of function\n",
    "    print('before add:', container)\n",
    "    \n",
    "    #add 5 to the data structure or container\n",
    "    container[5] = 'e'\n",
    "    \n",
    "    #prints the value of container at the end of function\n",
    "    print('after add:', container)\n",
    "    \n",
    "#cont = 5\n",
    "#cont = '1234'\n",
    "#cont = {1,2,3,4}\n",
    "#cont = (1,2,3,4)\n",
    "#cont = [1,2,3,4]\n",
    "cont = {1:'a',2:'b',3:'c',4:'d'}\n",
    "some_func(cont)\n",
    "print('after func:', cont)"
   ]
  },
  {
   "cell_type": "code",
   "execution_count": 135,
   "id": "379b3554",
   "metadata": {},
   "outputs": [
    {
     "ename": "TypeError",
     "evalue": "__init__() missing 1 required positional argument: 'friend'",
     "output_type": "error",
     "traceback": [
      "\u001b[0;31m---------------------------------------------------------------------------\u001b[0m",
      "\u001b[0;31mTypeError\u001b[0m                                 Traceback (most recent call last)",
      "\u001b[0;32m/var/folders/mn/8vlvqnvd1gl1d04y6pbyzbhh0000gn/T/ipykernel_25610/3467948300.py\u001b[0m in \u001b[0;36m<module>\u001b[0;34m\u001b[0m\n\u001b[1;32m     36\u001b[0m         \u001b[0mprint\u001b[0m\u001b[0;34m(\u001b[0m\u001b[0;34m'dummy called'\u001b[0m\u001b[0;34m)\u001b[0m\u001b[0;34m\u001b[0m\u001b[0;34m\u001b[0m\u001b[0m\n\u001b[1;32m     37\u001b[0m \u001b[0;34m\u001b[0m\u001b[0m\n\u001b[0;32m---> 38\u001b[0;31m \u001b[0mbob\u001b[0m \u001b[0;34m=\u001b[0m \u001b[0mStudent\u001b[0m\u001b[0;34m(\u001b[0m\u001b[0;34m'Bob'\u001b[0m\u001b[0;34m)\u001b[0m\u001b[0;34m\u001b[0m\u001b[0;34m\u001b[0m\u001b[0m\n\u001b[0m\u001b[1;32m     39\u001b[0m \u001b[0mprint\u001b[0m\u001b[0;34m(\u001b[0m\u001b[0mbob\u001b[0m\u001b[0;34m.\u001b[0m\u001b[0mgrades\u001b[0m\u001b[0;34m)\u001b[0m\u001b[0;34m\u001b[0m\u001b[0;34m\u001b[0m\u001b[0m\n\u001b[1;32m     40\u001b[0m \u001b[0;34m\u001b[0m\u001b[0m\n",
      "\u001b[0;31mTypeError\u001b[0m: __init__() missing 1 required positional argument: 'friend'"
     ]
    }
   ],
   "source": [
    "#Custom Class - using self and __str__ method.  Classes within classes.\n",
    "\n",
    "class Student:\n",
    "    \n",
    "    def __init__(self, name_param, friend):\n",
    "        \n",
    "        self.name = name_param\n",
    "        \n",
    "        self.number = 0\n",
    "        \n",
    "        self.gpa = 0\n",
    "        \n",
    "        self.degree = 'B.Eng'\n",
    "        \n",
    "        self.grades = []\n",
    "        \n",
    "        self.friend = friend\n",
    "        \n",
    "    def __str__(self):\n",
    "        \n",
    "        return self.name + ' has a ' + str(self.gpa) + ' average'\n",
    "        \n",
    "    \n",
    "    def take_course(self, grade):\n",
    "        '''\n",
    "        (Student, int) -> None\n",
    "        '''\n",
    "        \n",
    "        self.grades.append(grade)\n",
    "        \n",
    "        self.gpa = sum(self.grades)/len(self.grades)\n",
    "        \n",
    "        #return self.gpa\n",
    "        \n",
    "    def dummy(self):\n",
    "        print('dummy called')\n",
    "        \n",
    "    def append(self, item):\n",
    "        '''\n",
    "        (List, object) -> None\n",
    "        '''\n",
    "        self.append(item)\n",
    "        \n",
    "        \n",
    "bob = Student('Bob')\n",
    "print(bob.grades)\n",
    "\n",
    "bob.take_course(70)\n",
    "print(bob.grades)"
   ]
  },
  {
   "cell_type": "code",
   "execution_count": 177,
   "id": "53f6813d",
   "metadata": {},
   "outputs": [
    {
     "data": {
      "text/plain": [
       "10"
      ]
     },
     "execution_count": 177,
     "metadata": {},
     "output_type": "execute_result"
    }
   ],
   "source": [
    "ord('\\n')"
   ]
  },
  {
   "cell_type": "code",
   "execution_count": 176,
   "id": "edf0a3ab",
   "metadata": {},
   "outputs": [
    {
     "name": "stdout",
     "output_type": "stream",
     "text": [
      "1\n",
      "3\n",
      "5\n"
     ]
    }
   ],
   "source": [
    "class Node:\n",
    "    def __init__(self, cargo = 0, next = None):\n",
    "        self.cargo = cargo\n",
    "        self.next = next\n",
    "        \n",
    "def print_special(n,p):\n",
    "    if n is None:\n",
    "        return\n",
    "    elif p:\n",
    "        print(n.cargo)\n",
    "        \n",
    "    print_special(n.next, not p)\n",
    "        \n",
    "n = Node(1, Node(2, Node(3, Node(4, Node(5)))))\n",
    "print_special(n, True)"
   ]
  },
  {
   "cell_type": "code",
   "execution_count": 134,
   "id": "d594e723",
   "metadata": {},
   "outputs": [
    {
     "name": "stdout",
     "output_type": "stream",
     "text": [
      "Grandma\n"
     ]
    }
   ],
   "source": [
    "class Mother:\n",
    "    \n",
    "    def __init__(self, name_param, mom_param = None):\n",
    "        \n",
    "        self.name = name_param\n",
    "        \n",
    "        self.highscore = 0\n",
    "        \n",
    "        self.mom = mom_param\n",
    "        \n",
    "    #def __str__\n",
    "        \n",
    "grandma = Mother('Grandma', None)\n",
    "\n",
    "reena = Mother('Reena', grandma)\n",
    "        \n",
    "alexa = Mother('Alexa', reena)\n",
    "\n",
    "node1 = Node(1, Node(2, Node(3, Node(4, None))))\n",
    "\n",
    "alexa = Mother('Alexa', Mother('Reena', Mother('Grandma', None)))"
   ]
  },
  {
   "cell_type": "code",
   "execution_count": 138,
   "id": "98363e33",
   "metadata": {},
   "outputs": [
    {
     "name": "stdout",
     "output_type": "stream",
     "text": [
      "this is the best part\n",
      "THIS IS THE BEST PARTICLE\n",
      "this is the best part\n",
      "THIS IS THE BEST PARTICLE\n"
     ]
    }
   ],
   "source": [
    "x = 'this is the best particle'\n",
    "print(x[:-4])\n",
    "print(x.upper())\n",
    "\n",
    "print('this is the best particle'[:-4])\n",
    "print('this is the best particle'.upper())"
   ]
  },
  {
   "cell_type": "code",
   "execution_count": 158,
   "id": "a7c6ae3f",
   "metadata": {},
   "outputs": [
    {
     "name": "stdout",
     "output_type": "stream",
     "text": [
      "0 we are\\we are\\\n",
      "1 we are\\we are\\we are\\we are\\\n",
      "we are\\we are\\we are\\we are\\\n",
      "THE ENGINEERS!!!"
     ]
    },
    {
     "data": {
      "text/plain": [
       "['__abs__',\n",
       " '__add__',\n",
       " '__and__',\n",
       " '__bool__',\n",
       " '__ceil__',\n",
       " '__class__',\n",
       " '__delattr__',\n",
       " '__dir__',\n",
       " '__divmod__',\n",
       " '__doc__',\n",
       " '__eq__',\n",
       " '__float__',\n",
       " '__floor__',\n",
       " '__floordiv__',\n",
       " '__format__',\n",
       " '__ge__',\n",
       " '__getattribute__',\n",
       " '__getnewargs__',\n",
       " '__gt__',\n",
       " '__hash__',\n",
       " '__index__',\n",
       " '__init__',\n",
       " '__init_subclass__',\n",
       " '__int__',\n",
       " '__invert__',\n",
       " '__le__',\n",
       " '__lshift__',\n",
       " '__lt__',\n",
       " '__mod__',\n",
       " '__mul__',\n",
       " '__ne__',\n",
       " '__neg__',\n",
       " '__new__',\n",
       " '__or__',\n",
       " '__pos__',\n",
       " '__pow__',\n",
       " '__radd__',\n",
       " '__rand__',\n",
       " '__rdivmod__',\n",
       " '__reduce__',\n",
       " '__reduce_ex__',\n",
       " '__repr__',\n",
       " '__rfloordiv__',\n",
       " '__rlshift__',\n",
       " '__rmod__',\n",
       " '__rmul__',\n",
       " '__ror__',\n",
       " '__round__',\n",
       " '__rpow__',\n",
       " '__rrshift__',\n",
       " '__rshift__',\n",
       " '__rsub__',\n",
       " '__rtruediv__',\n",
       " '__rxor__',\n",
       " '__setattr__',\n",
       " '__sizeof__',\n",
       " '__str__',\n",
       " '__sub__',\n",
       " '__subclasshook__',\n",
       " '__truediv__',\n",
       " '__trunc__',\n",
       " '__xor__',\n",
       " 'as_integer_ratio',\n",
       " 'bit_length',\n",
       " 'conjugate',\n",
       " 'denominator',\n",
       " 'from_bytes',\n",
       " 'imag',\n",
       " 'numerator',\n",
       " 'real',\n",
       " 'to_bytes']"
      ]
     },
     "execution_count": 158,
     "metadata": {},
     "output_type": "execute_result"
    }
   ],
   "source": [
    "final = '!' \n",
    "final *= 3 \n",
    " \n",
    "lyric = \"we are\\\\\"\n",
    "chorus = \"the engineers\".upper() \n",
    "#len(my_tup)\n",
    "chorus.lower() \n",
    "     \n",
    "for i in range(2):\n",
    "    lyric = lyric + lyric \n",
    "    print(i, lyric)\n",
    "     \n",
    "print(lyric, chorus, sep = '\\n', end = final)\n",
    "\n",
    "\n",
    "dir(int)"
   ]
  },
  {
   "cell_type": "code",
   "execution_count": 92,
   "id": "5aa5ad61",
   "metadata": {},
   "outputs": [],
   "source": [
    "class Skule:\n",
    "    \n",
    "    def __init__(self, president, vp):\n",
    "        '''\n",
    "        (Skule,Student,Student) -> None\n",
    "        '''\n",
    "        \n",
    "        self.president = president #of class Student\n",
    "        \n",
    "        self.vp = vp #of class Student\n",
    "        \n",
    "        self.alumni = []\n",
    "   \n",
    "    #def upper(self, new_vp):\n",
    "        \n",
    "        #vp elected to president\n",
    "        #president added to alumni list\n",
    "        \n",
    "        self.alumni.append(self.president)\n",
    "        \n",
    "        self.president = self.vp\n",
    "        \n",
    "        self.vp = new_vp\n"
   ]
  },
  {
   "cell_type": "code",
   "execution_count": 124,
   "id": "5350db7d",
   "metadata": {},
   "outputs": [
    {
     "data": {
      "text/plain": [
       "'Bob'"
      ]
     },
     "execution_count": 124,
     "metadata": {},
     "output_type": "execute_result"
    }
   ],
   "source": [
    "bob = Student('Bob')\n",
    "bob.number = 1243531\n",
    "bob.take_course(90)\n",
    "bob.take_course(70)\n",
    "#print(bob)\n",
    "\n",
    "sally = Student('Sally')\n",
    "#print(sally)\n",
    "\n",
    "emily = Student('Emily')\n",
    "\n",
    "bob."
   ]
  },
  {
   "cell_type": "code",
   "execution_count": 97,
   "id": "26bed75f",
   "metadata": {},
   "outputs": [
    {
     "name": "stdout",
     "output_type": "stream",
     "text": [
      "dummy called\n"
     ]
    }
   ],
   "source": [
    "Student.take_course(bob,90)\n",
    "bob.take_course(90)"
   ]
  },
  {
   "cell_type": "code",
   "execution_count": 119,
   "id": "531b2146",
   "metadata": {},
   "outputs": [
    {
     "name": "stdout",
     "output_type": "stream",
     "text": [
      "<class '__main__.Skule'>\n"
     ]
    }
   ],
   "source": [
    "club = Skule(bob, sally)\n",
    "\n",
    "#print(type('hello'))\n",
    "print(type(club))\n",
    "\n",
    "#club.election()"
   ]
  },
  {
   "cell_type": "code",
   "execution_count": 170,
   "id": "3bcf40d9",
   "metadata": {},
   "outputs": [
    {
     "name": "stdout",
     "output_type": "stream",
     "text": [
      "{1, 2, 3, 4, 5}\n"
     ]
    }
   ],
   "source": [
    "def my_func(x):\n",
    "    print('inside',x)\n",
    "    \n",
    "z = 10\n",
    "\n",
    "#my_func(z)\n",
    "\n",
    "z = 1\n",
    "\n",
    "\n",
    "my_set = {1,2,3,4}\n",
    "\n",
    "my_set2 = {7,8,9}\n",
    "\n",
    "#my_set.add(5)\n",
    "\n",
    "my_set.add(5)\n",
    "\n",
    "print(my_set)"
   ]
  },
  {
   "cell_type": "code",
   "execution_count": 108,
   "id": "9d19e453",
   "metadata": {
    "scrolled": false
   },
   "outputs": [
    {
     "name": "stdout",
     "output_type": "stream",
     "text": [
      "{'Mary': {'Excel ', 'Word', 'Wing101 '}, 'Sarah': {'PowerPoint ', 'SolidWorks'}, 'John': {'MATLAB', 'Word', 'PowerPoint '}, 'Tom': {'SolidWorks', 'Wing101 '}}\n"
     ]
    }
   ],
   "source": [
    "import csv \n",
    "\n",
    "def load_data(filename): \n",
    "    '''(str) -> {str : {str, str, ...}} \n",
    "    Input: a string specifying the CSV filename \n",
    "    Output: a dictionary with employee names as keys and a software    \n",
    "    expertise as values \n",
    "    '''     \n",
    "\n",
    "    #create some empty dictionary\n",
    "    data = {}\n",
    "    \n",
    "    #line[1] assign that to dictionary key, and value a set\n",
    "    #in operator to check if in dictionary already\n",
    "    \n",
    "    # starter code to open and read from a csv file \n",
    "    with open(filename, 'r') as csvfile: \n",
    "        project_file = csv.reader(csvfile)\n",
    "        \n",
    "        for line in project_file:\n",
    "            \n",
    "            if line[1] in data:\n",
    "                for program in line[2:]:\n",
    "                    data[line[1]].add(program)\n",
    "            else:\n",
    "                data[line[1]] = set()\n",
    "                #data[line[1]] = set(line[2:])\n",
    "                for program in line[2:]:\n",
    "                    data[line[1]].add(program)\n",
    "            \n",
    "    return data    \n",
    "        \n",
    "projects = load_data('projects.csv')\n",
    "print(projects)\n",
    "\n",
    "#print(set(['Word','Excel']))"
   ]
  },
  {
   "cell_type": "code",
   "execution_count": 106,
   "id": "5bb30ebd",
   "metadata": {
    "scrolled": false
   },
   "outputs": [
    {
     "name": "stdout",
     "output_type": "stream",
     "text": [
      "{'Excel ': {'Mary'}, 'Word': {'John', 'Mary'}, 'Wing101 ': {'Mary', 'Tom'}, 'PowerPoint ': {'John', 'Sarah'}, 'SolidWorks': {'Sarah', 'Tom'}, 'MATLAB': {'John'}}\n"
     ]
    }
   ],
   "source": [
    "def reverse_dictionary(employees): \n",
    "    '''({str : {str, str, ...}}) -> {str : {str, str, ...}} \n",
    "    Input: a dictionary with employee names as keys and a software \n",
    "expertise as values \n",
    "    Output: a dictionary with software as keys and employee names as \n",
    "values \n",
    "    ''' \n",
    "    return_dict = {}\n",
    "    \n",
    "    #iterate through employees dictionary\n",
    "    for person in employees:\n",
    "        #iterate through their programs\n",
    "        for program in employees[person]:\n",
    "            \n",
    "            if program in return_dict:\n",
    "                return_dict[program].add(person)\n",
    "            else:\n",
    "                return_dict[program] = {person}\n",
    "    \n",
    "    \n",
    "    \n",
    "    return return_dict\n",
    "    \n",
    "out = reverse_dictionary(projects)    \n",
    "print(out)"
   ]
  },
  {
   "cell_type": "code",
   "execution_count": 107,
   "id": "c3989f7f",
   "metadata": {},
   "outputs": [],
   "source": [
    "def write_data(programs):\n",
    "    '''\n",
    "    write the new dictionary to file where each program (with respective employees) is a new line. \n",
    "    \n",
    "    Example:\n",
    "    Word,Mary,John\n",
    "    Wing101 ,Tom,Mary\n",
    "    Excel ,Mary\n",
    "    PowerPoint ,Sarah,John\n",
    "    SolidWorks,Tom,Sarah\n",
    "    MATLAB,John\n",
    "    '''\n",
    "    \n",
    "    with open('programs.csv','w') as file:\n",
    "        csvfile = csv.writer(file)\n",
    "        \n",
    "        for program in programs:\n",
    "            write_list = []\n",
    "            write_list.append(program)\n",
    "            for name in programs[program]:\n",
    "                write_list.append(name)\n",
    "            csvfile.writerow(write_list)\n",
    "        \n",
    "            \n",
    "write_data(out)"
   ]
  },
  {
   "cell_type": "code",
   "execution_count": null,
   "id": "27f9865c",
   "metadata": {},
   "outputs": [],
   "source": []
  }
 ],
 "metadata": {
  "kernelspec": {
   "display_name": "Python 3 (ipykernel)",
   "language": "python",
   "name": "python3"
  },
  "language_info": {
   "codemirror_mode": {
    "name": "ipython",
    "version": 3
   },
   "file_extension": ".py",
   "mimetype": "text/x-python",
   "name": "python",
   "nbconvert_exporter": "python",
   "pygments_lexer": "ipython3",
   "version": "3.9.7"
  }
 },
 "nbformat": 4,
 "nbformat_minor": 5
}
