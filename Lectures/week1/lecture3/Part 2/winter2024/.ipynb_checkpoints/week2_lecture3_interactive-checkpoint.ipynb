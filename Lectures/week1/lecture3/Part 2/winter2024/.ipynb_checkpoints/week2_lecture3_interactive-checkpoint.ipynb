{
 "cells": [
  {
   "cell_type": "markdown",
   "metadata": {},
   "source": [
    "# APS106 - Fundamentals of Computer Programming\n",
    "## Design Project 1: Forward Kinematics\n",
    "\n",
    "Below are the functions we developed in class."
   ]
  },
  {
   "cell_type": "code",
   "execution_count": null,
   "metadata": {},
   "outputs": [],
   "source": [
    "import math\n",
    "\n",
    "def x_forward_kinematics(length, angle):\n",
    "    \"\"\"\n",
    "    (number, number) -> number\n",
    "    Calculate the x-coordinate of an arm of length len with angle ang in radians\n",
    "    \"\"\"\n",
    "    return length * math.cos(angle)\n",
    "\n",
    "def y_forward_kinematics(length, angle):\n",
    "    \"\"\"\n",
    "    (number, number) -> number\n",
    "    Calculate the y-coordinate of an arm of length len with angle ang in radians\n",
    "    \"\"\"\n",
    "    return length * math.sin(angle)\n",
    "\n",
    "def calculate_end_effector_position(len1, ang1, len2, ang2):\n",
    "    \"\"\"\n",
    "    (number, number, number, number) -> (number, number)\n",
    "    Calculate the \n",
    "    \"\"\"\n",
    "    # Convert angles\n",
    "    ang1 = math.radians(ang1) \n",
    "    ang2 = math.radians(ang2) \n",
    "    \n",
    "    # Calculate end of arm 1\n",
    "    dx1 = x_forward_kinematics(len1, ang1)\n",
    "    dy1 = y_forward_kinematics(len1, ang1)\n",
    "    \n",
    "    # Calculate end of arm 2 (independently of arm 1)\n",
    "    dx2 = x_forward_kinematics(len2, ang1 + ang2)\n",
    "    dy2 = y_forward_kinematics(len2, ang1 + ang2)\n",
    "    \n",
    "    # Sum the individual displacements\n",
    "    x = dx1 + dx2\n",
    "    y = dy1 + dy2\n",
    "    \n",
    "    return x, y"
   ]
  },
  {
   "cell_type": "markdown",
   "metadata": {},
   "source": [
    "Now we have to install two third party packages. These are not a part of APS106. We are using them for this visualization but you are not expected to know how to install them or what they do."
   ]
  },
  {
   "cell_type": "code",
   "execution_count": null,
   "metadata": {},
   "outputs": [],
   "source": [
    "!pip install matplotlib"
   ]
  },
  {
   "cell_type": "code",
   "execution_count": null,
   "metadata": {
    "scrolled": false
   },
   "outputs": [],
   "source": [
    "!pip install ipywidgets"
   ]
  },
  {
   "cell_type": "markdown",
   "metadata": {},
   "source": [
    "Now we can use your functions for a cool visualization. Have fun!"
   ]
  },
  {
   "cell_type": "code",
   "execution_count": null,
   "metadata": {},
   "outputs": [],
   "source": [
    "from utils import plot_end_effector_position\n",
    "\n",
    "def calculate_end_effector_position(len1, ang1, len2, ang2):\n",
    "    \"\"\"\n",
    "    (number, number, number, number) -> (number, number)\n",
    "    Calculate the \n",
    "    \"\"\"\n",
    "    # Convert angles\n",
    "    ang1 = math.radians(ang1) \n",
    "    ang2 = math.radians(ang2) \n",
    "    \n",
    "    # Calculate end of arm 1\n",
    "    dx1 = x_forward_kinematics(len1, ang1)\n",
    "    dy1 = y_forward_kinematics(len1, ang1)\n",
    "    \n",
    "    # Calculate end of arm 2 (independently of arm 1)\n",
    "    dx2 = x_forward_kinematics(len2, ang1 + ang2)\n",
    "    dy2 = y_forward_kinematics(len2, ang1 + ang2)\n",
    "    \n",
    "    # Sum the individual displacements\n",
    "    x = dx1 + dx2\n",
    "    y = dy1 + dy2\n",
    "    \n",
    "    return dx1, dy1, dx2, dy2, x, y\n",
    "\n",
    "plot_end_effector_position(calculate_end_effector_position)"
   ]
  },
  {
   "cell_type": "code",
   "execution_count": null,
   "metadata": {},
   "outputs": [],
   "source": []
  }
 ],
 "metadata": {
  "kernelspec": {
   "display_name": "Python 3 (ipykernel)",
   "language": "python",
   "name": "python3"
  },
  "language_info": {
   "codemirror_mode": {
    "name": "ipython",
    "version": 3
   },
   "file_extension": ".py",
   "mimetype": "text/x-python",
   "name": "python",
   "nbconvert_exporter": "python",
   "pygments_lexer": "ipython3",
   "version": "3.10.9"
  }
 },
 "nbformat": 4,
 "nbformat_minor": 1
}
