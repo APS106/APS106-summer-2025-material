{
 "cells": [
  {
   "cell_type": "markdown",
   "id": "1aafe5d4",
   "metadata": {},
   "source": [
    "`rock = 0`\n",
    "\n",
    "`paper = 1`\n",
    "\n",
    "`scissors = 2`\n",
    "\n",
    "`(user_move - computer_move) % 3`\n",
    "\n",
    "From this expression, we have three cases:\n",
    "\n",
    "- 0 (tie)\n",
    "- 1 (user wins)\n",
    "- 2 (computer wins)\n"
   ]
  },
  {
   "cell_type": "code",
   "execution_count": 20,
   "id": "aad9c4f2",
   "metadata": {},
   "outputs": [
    {
     "name": "stdout",
     "output_type": "stream",
     "text": [
      "Player A wins!\n",
      "Player A wins!\n",
      "Player A wins!\n",
      "Player B wins!\n",
      "It's a tie!\n"
     ]
    }
   ],
   "source": [
    "def rpsls_winner(move_A, move_B):\n",
    "    # Mapping moves to numbers\n",
    "    moves = {'rock': 0, 'paper': 1, 'scissors': 2, 'spock': 3, 'lizard': 4}\n",
    "    \n",
    "    # Get the numeric values of the moves\n",
    "    move_A_num = moves[move_A.lower()]\n",
    "    move_B_num = moves[move_B.lower()]\n",
    "    \n",
    "    # Calculate the result using modular arithmetic\n",
    "    result = (move_A_num - move_B_num) % 5\n",
    "    \n",
    "    # Determine the winner\n",
    "    if result == 0:\n",
    "        return \"It's a tie!\"\n",
    "    elif result in [1, 3]:\n",
    "        return \"Player A wins!\"\n",
    "    elif result in [2, 4]:\n",
    "        return \"Player B wins!\"\n",
    "\n",
    "# Example usage\n",
    "print(rpsls_winner('rock', 'scissors'))  # Player A wins!\n",
    "print(rpsls_winner('lizard', 'spock'))   # Player A wins!\n",
    "print(rpsls_winner('spock', 'scissors')) # Player A wins!\n",
    "print(rpsls_winner('scissors', 'spock')) # Player B wins!\n",
    "print(rpsls_winner('rock', 'rock'))      # It's a tie!\n"
   ]
  },
  {
   "cell_type": "code",
   "execution_count": 17,
   "id": "cdcfa7d0",
   "metadata": {},
   "outputs": [
    {
     "name": "stdout",
     "output_type": "stream",
     "text": [
      "Game: rock vs scissors -> Result: Player A wins!\n",
      "Game: rock vs lizard -> Result: Player A wins!\n",
      "Game: scissors vs paper -> Result: Player A wins!\n",
      "Game: scissors vs lizard -> Result: Player A wins!\n",
      "Game: paper vs rock -> Result: Player A wins!\n",
      "Game: paper vs spock -> Result: Player A wins!\n",
      "Game: lizard vs paper -> Result: Player A wins!\n",
      "Game: lizard vs spock -> Result: Player A wins!\n",
      "Game: spock vs rock -> Result: Player A wins!\n",
      "Game: spock vs scissors -> Result: Player A wins!\n",
      "Game: scissors vs rock -> Result: Player B wins!\n",
      "Game: lizard vs rock -> Result: Player B wins!\n",
      "Game: paper vs scissors -> Result: Player B wins!\n",
      "Game: lizard vs scissors -> Result: Player B wins!\n",
      "Game: rock vs paper -> Result: Player B wins!\n",
      "Game: spock vs paper -> Result: Player B wins!\n",
      "Game: paper vs lizard -> Result: Player B wins!\n",
      "Game: spock vs lizard -> Result: Player B wins!\n",
      "Game: rock vs spock -> Result: Player B wins!\n",
      "Game: scissors vs spock -> Result: Player B wins!\n",
      "Game: rock vs rock -> Result: It's a tie!\n",
      "Game: paper vs paper -> Result: It's a tie!\n",
      "Game: scissors vs scissors -> Result: It's a tie!\n",
      "Game: lizard vs lizard -> Result: It's a tie!\n",
      "Game: spock vs spock -> Result: It's a tie!\n"
     ]
    }
   ],
   "source": [
    "def rpsls_winner(move_A, move_B):\n",
    "    # Mapping moves to numbers\n",
    "    moves = {'rock': 0, 'paper': 1, 'scissors': 2, 'lizard': 3, 'spock': 4}\n",
    "    \n",
    "    # Get the numeric values of the moves\n",
    "    move_A_num = moves[move_A.lower()]\n",
    "    move_B_num = moves[move_B.lower()]\n",
    "    \n",
    "    # Calculate the result using modular arithmetic\n",
    "    result = (move_A_num - move_B_num) % 5\n",
    "    \n",
    "    #print(result)\n",
    "    # Determine the winner\n",
    "    if result == 0:\n",
    "        return \"It's a tie!\"\n",
    "    elif result in [1, 3]:\n",
    "        return \"Player A wins!\"\n",
    "    elif result in [2, 4]:\n",
    "        return \"Player B wins!\"\n",
    "\n",
    "# Test cases\n",
    "test_cases = [\n",
    "    ('rock', 'scissors'),    # Player A wins\n",
    "    ('rock', 'lizard'),      # Player A wins\n",
    "    ('scissors', 'paper'),   # Player A wins\n",
    "    ('scissors', 'lizard'),  # Player A wins\n",
    "    ('paper', 'rock'),       # Player A wins\n",
    "    ('paper', 'spock'),      # Player A wins\n",
    "    ('lizard', 'paper'),     # Player A wins\n",
    "    ('lizard', 'spock'),     # Player A wins\n",
    "    ('spock', 'rock'),       # Player A wins\n",
    "    ('spock', 'scissors'),   # Player A wins\n",
    "    ('scissors', 'rock'),    # Player B wins\n",
    "    ('lizard', 'rock'),      # Player B wins\n",
    "    ('paper', 'scissors'),   # Player B wins\n",
    "    ('lizard', 'scissors'),  # Player B wins\n",
    "    ('rock', 'paper'),       # Player B wins\n",
    "    ('spock', 'paper'),      # Player B wins\n",
    "    ('paper', 'lizard'),     # Player B wins\n",
    "    ('spock', 'lizard'),     # Player B wins\n",
    "    ('rock', 'spock'),       # Player B wins\n",
    "    ('scissors', 'spock'),   # Player B wins\n",
    "    ('rock', 'rock'),        # Tie\n",
    "    ('paper', 'paper'),      # Tie\n",
    "    ('scissors', 'scissors'),# Tie\n",
    "    ('lizard', 'lizard'),    # Tie\n",
    "    ('spock', 'spock')       # Tie\n",
    "]\n",
    "\n",
    "# Test the function with all cases\n",
    "for move_A, move_B in test_cases:\n",
    "    result = rpsls_winner(move_A, move_B)\n",
    "    print(f\"Game: {move_A} vs {move_B} -> Result: {result}\")\n"
   ]
  },
  {
   "cell_type": "code",
   "execution_count": 23,
   "id": "b9e9a12d",
   "metadata": {},
   "outputs": [
    {
     "name": "stdout",
     "output_type": "stream",
     "text": [
      "2\n"
     ]
    }
   ],
   "source": [
    "s = \"hello\"\n",
    "count = 0\n",
    "for char in s:\n",
    "    if char == 'l':\n",
    "        count += 1\n",
    "print(count)"
   ]
  },
  {
   "cell_type": "code",
   "execution_count": null,
   "id": "743ee573",
   "metadata": {},
   "outputs": [],
   "source": [
    "def estimate_sqrt(n, precision=0.0001):\n",
    "    \"\"\"\n",
    "    Estimate the square root of n using the bisection method.\n",
    "    The result x will satisfy x^2 <= n < (x + precision)^2.\n",
    "\n",
    "    :param n: The number to find the square root of.\n",
    "    :param precision: The precision of the result.\n",
    "    :return: The estimated square root.\n",
    "    \"\"\"\n",
    "    low = 0\n",
    "    high = n\n",
    "    mid = (low + high) / 2.0\n",
    "\n",
    "    while (high - low) > precision:\n",
    "        if mid * mid > n:\n",
    "            high = mid\n",
    "        else:\n",
    "            low = mid\n",
    "        mid = (low + high) / 2.0\n",
    "\n",
    "    return mid\n",
    "\n",
    "# Estimate the square root of 200\n",
    "sqrt_200 = estimate_sqrt(200)\n",
    "print('Estimated square root of 200:', sqrt_200)\n",
    "print('Square of the estimated value:', sqrt_200 ** 2)\n"
   ]
  }
 ],
 "metadata": {
  "kernelspec": {
   "display_name": "Python 3 (ipykernel)",
   "language": "python",
   "name": "python3"
  },
  "language_info": {
   "codemirror_mode": {
    "name": "ipython",
    "version": 3
   },
   "file_extension": ".py",
   "mimetype": "text/x-python",
   "name": "python",
   "nbconvert_exporter": "python",
   "pygments_lexer": "ipython3",
   "version": "3.10.9"
  }
 },
 "nbformat": 4,
 "nbformat_minor": 5
}
