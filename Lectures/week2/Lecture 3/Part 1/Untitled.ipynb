{
 "cells": [
  {
   "cell_type": "code",
   "execution_count": 1,
   "id": "f6ea4f69",
   "metadata": {},
   "outputs": [
    {
     "name": "stdout",
     "output_type": "stream",
     "text": [
      "Estimated square root of 200: 14.142179489135742\n",
      "Square of the estimated value: 200.00124070293168\n"
     ]
    }
   ],
   "source": [
    "def estimate_sqrt(n, precision=0.0001):\n",
    "    \"\"\"\n",
    "    Estimate the square root of n using the bisection method.\n",
    "    The result x will satisfy x^2 <= n < (x + precision)^2.\n",
    "\n",
    "    :param n: The number to find the square root of.\n",
    "    :param precision: The precision of the result.\n",
    "    :return: The estimated square root.\n",
    "    \"\"\"\n",
    "    low = 0\n",
    "    high = n\n",
    "    mid = (low + high) / 2.0\n",
    "\n",
    "    while (high - low) > precision:\n",
    "        if mid * mid > n:\n",
    "            high = mid\n",
    "        else:\n",
    "            low = mid\n",
    "        mid = (low + high) / 2.0\n",
    "\n",
    "    return mid\n",
    "\n",
    "# Estimate the square root of 200\n",
    "sqrt_200 = estimate_sqrt(200)\n",
    "print('Estimated square root of 200:', sqrt_200)\n",
    "print('Square of the estimated value:', sqrt_200 ** 2)\n"
   ]
  },
  {
   "cell_type": "code",
   "execution_count": 4,
   "id": "e605968d",
   "metadata": {},
   "outputs": [
    {
     "name": "stdout",
     "output_type": "stream",
     "text": [
      "Player A wins!\n",
      "Player B wins!\n",
      "Player B wins!\n",
      "Player A wins!\n",
      "It's a tie!\n"
     ]
    }
   ],
   "source": [
    "def rpsls_winner(move_A, move_B):\n",
    "    # Mapping moves to numbers\n",
    "    moves = {'rock': 0, 'paper': 1, 'scissors': 2, 'lizard': 3, 'spock': 4}\n",
    "    \n",
    "    # Get the numeric values of the moves\n",
    "    move_A_num = moves[move_A.lower()]\n",
    "    move_B_num = moves[move_B.lower()]\n",
    "    \n",
    "    # Calculate the result using modular arithmetic\n",
    "    result = (move_A_num - move_B_num) % 5\n",
    "    \n",
    "    # Determine the winner\n",
    "    if result == 0:\n",
    "        return \"It's a tie!\"\n",
    "    elif result in [1, 3]:\n",
    "        return \"Player A wins!\"\n",
    "    elif result in [2, 4]:\n",
    "        return \"Player B wins!\"\n",
    "\n",
    "# Example usage\n",
    "print(rpsls_winner('rock', 'scissors'))  # Player A wins!\n",
    "print(rpsls_winner('lizard', 'spock'))   # Player A wins!\n",
    "print(rpsls_winner('spock', 'scissors')) # Player A wins!\n",
    "print(rpsls_winner('scissors', 'spock')) # Player B wins!\n",
    "print(rpsls_winner('rock', 'rock'))      # It's a tie!\n"
   ]
  },
  {
   "cell_type": "code",
   "execution_count": null,
   "id": "efb84f10",
   "metadata": {},
   "outputs": [],
   "source": []
  }
 ],
 "metadata": {
  "kernelspec": {
   "display_name": "Python 3 (ipykernel)",
   "language": "python",
   "name": "python3"
  },
  "language_info": {
   "codemirror_mode": {
    "name": "ipython",
    "version": 3
   },
   "file_extension": ".py",
   "mimetype": "text/x-python",
   "name": "python",
   "nbconvert_exporter": "python",
   "pygments_lexer": "ipython3",
   "version": "3.10.9"
  }
 },
 "nbformat": 4,
 "nbformat_minor": 5
}
